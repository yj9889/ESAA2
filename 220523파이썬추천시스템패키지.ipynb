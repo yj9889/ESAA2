{
  "nbformat": 4,
  "nbformat_minor": 0,
  "metadata": {
    "colab": {
      "name": "220523파이썬추천시스템패키지.ipynb",
      "provenance": [],
      "mount_file_id": "1JvMgsTo9GIPipgZfZ66eFaM9V4Jqi5cF",
      "authorship_tag": "ABX9TyPButKsqPKwqFPR848nc8kl",
      "include_colab_link": true
    },
    "kernelspec": {
      "name": "python3",
      "display_name": "Python 3"
    },
    "language_info": {
      "name": "python"
    }
  },
  "cells": [
    {
      "cell_type": "markdown",
      "metadata": {
        "id": "view-in-github",
        "colab_type": "text"
      },
      "source": [
        "<a href=\"https://colab.research.google.com/github/yj9889/ESAA2/blob/main/220523%ED%8C%8C%EC%9D%B4%EC%8D%AC%EC%B6%94%EC%B2%9C%EC%8B%9C%EC%8A%A4%ED%85%9C%ED%8C%A8%ED%82%A4%EC%A7%80.ipynb\" target=\"_parent\"><img src=\"https://colab.research.google.com/assets/colab-badge.svg\" alt=\"Open In Colab\"/></a>"
      ]
    },
    {
      "cell_type": "markdown",
      "source": [
        "# 9.8 파이썬추천시스템패키지\n",
        "ch9. 8 pg. 607~624"
      ],
      "metadata": {
        "id": "1C7g8419O8I9"
      }
    },
    {
      "cell_type": "markdown",
      "source": [
        "## Surprise 패키지\n",
        ": 파이썬 기반 추천 시스템 구축을 위한 전용 패키지\n",
        "\n",
        "다양한 추천 알고리즘(사용자, 아이템 기반 최근접 이웃 협업 필터링, SVD, SVD++, NMF 기반의 잠재요인 협업 필터링 적용)"
      ],
      "metadata": {
        "id": "aoqcatVmPdVR"
      }
    },
    {
      "cell_type": "code",
      "source": [
        "pip install scikit-surprise"
      ],
      "metadata": {
        "colab": {
          "base_uri": "https://localhost:8080/"
        },
        "id": "wzhJZrXBPalB",
        "outputId": "49dd6d45-0275-423e-b2ed-9a89e68a2c12"
      },
      "execution_count": 3,
      "outputs": [
        {
          "output_type": "stream",
          "name": "stdout",
          "text": [
            "Collecting scikit-surprise\n",
            "  Downloading scikit-surprise-1.1.1.tar.gz (11.8 MB)\n",
            "\u001b[K     |████████████████████████████████| 11.8 MB 11.8 MB/s \n",
            "\u001b[?25hRequirement already satisfied: joblib>=0.11 in /usr/local/lib/python3.7/dist-packages (from scikit-surprise) (1.1.0)\n",
            "Requirement already satisfied: numpy>=1.11.2 in /usr/local/lib/python3.7/dist-packages (from scikit-surprise) (1.21.6)\n",
            "Requirement already satisfied: scipy>=1.0.0 in /usr/local/lib/python3.7/dist-packages (from scikit-surprise) (1.4.1)\n",
            "Requirement already satisfied: six>=1.10.0 in /usr/local/lib/python3.7/dist-packages (from scikit-surprise) (1.15.0)\n",
            "Building wheels for collected packages: scikit-surprise\n",
            "  Building wheel for scikit-surprise (setup.py) ... \u001b[?25l\u001b[?25hdone\n",
            "  Created wheel for scikit-surprise: filename=scikit_surprise-1.1.1-cp37-cp37m-linux_x86_64.whl size=1633723 sha256=5016dd58186d8d3caebefa82413bbe01dc3dc14f084a89115f28fccf8b57b9ce\n",
            "  Stored in directory: /root/.cache/pip/wheels/76/44/74/b498c42be47b2406bd27994e16c5188e337c657025ab400c1c\n",
            "Successfully built scikit-surprise\n",
            "Installing collected packages: scikit-surprise\n",
            "Successfully installed scikit-surprise-1.1.1\n"
          ]
        }
      ]
    },
    {
      "cell_type": "code",
      "execution_count": 4,
      "metadata": {
        "colab": {
          "base_uri": "https://localhost:8080/"
        },
        "id": "Zr8yMstEOyi2",
        "outputId": "89641899-3723-4c72-c1d3-86d99c3ac16b"
      },
      "outputs": [
        {
          "output_type": "stream",
          "name": "stdout",
          "text": [
            "1.1.1\n"
          ]
        }
      ],
      "source": [
        "import surprise \n",
        "\n",
        "print(surprise.__version__)"
      ]
    },
    {
      "cell_type": "markdown",
      "source": [
        "## **Surprise 를 이용한 추천 시스템 구축**\n",
        "학습용, 테스트용 데이터 세트로 분리한 뒤 SVD 행렬 분해를 통한 잠재 요인 협업 필터링"
      ],
      "metadata": {
        "id": "EFVmP4scPKIK"
      }
    },
    {
      "cell_type": "code",
      "source": [
        "from surprise import SVD\n",
        "from surprise import Dataset \n",
        "from surprise import accuracy \n",
        "from surprise.model_selection import train_test_split"
      ],
      "metadata": {
        "id": "GYNDRzAGPA-n"
      },
      "execution_count": 5,
      "outputs": []
    },
    {
      "cell_type": "markdown",
      "source": [
        "surprise에서의 데이터 로딩은 *Dataset* 클래스를 이용해서만 가능\n",
        "\n",
        "movies lens 데이터 세트의 userID, itemID, Rating 이 row level 형태\n",
        "\n",
        "*load_builtin()*: 무비렌즈 사이트에서 제공하는 과거 버전 데이터 세트인 ml-100k or ml-1m 데이터를 내려받아 로컬 디렉터리에 저장한뒤 로딩\n",
        "\n",
        "과거 데이터라 구분문자가 \\t\n",
        "\n",
        "surprise는 자체적으로 row level -> column level로 변경하므로 원본인 low level 사용자-아이템 평점 데이터를 데이터 세트로 적용해야 함."
      ],
      "metadata": {
        "id": "542uDMOER1Ql"
      }
    },
    {
      "cell_type": "code",
      "source": [
        "data = Dataset.load_builtin('ml-100k') \n",
        "trainset, testset = train_test_split(data, test_size=.25, random_state=0) "
      ],
      "metadata": {
        "colab": {
          "base_uri": "https://localhost:8080/"
        },
        "id": "nTJuLMqhPA8v",
        "outputId": "7780ad0b-bcf2-4e3f-a1a0-f61a172b480d"
      },
      "execution_count": 6,
      "outputs": [
        {
          "output_type": "stream",
          "name": "stdout",
          "text": [
            "Dataset ml-100k could not be found. Do you want to download it? [Y/n] Y\n",
            "Trying to download dataset from http://files.grouplens.org/datasets/movielens/ml-100k.zip...\n",
            "Done! Dataset ml-100k has been saved to /root/.surprise_data/ml-100k\n"
          ]
        }
      ]
    },
    {
      "cell_type": "markdown",
      "source": [
        "algo: 알고리즘 객체 생성\n",
        "\n",
        "fit(학습 데이터 세트)을 수행해 학습 데이터 세트 기반으로 추천 알고리즘 학습"
      ],
      "metadata": {
        "id": "9E12z_9ASpXz"
      }
    },
    {
      "cell_type": "code",
      "source": [
        "algo = SVD()\n",
        "algo.fit(trainset) "
      ],
      "metadata": {
        "colab": {
          "base_uri": "https://localhost:8080/"
        },
        "id": "hUCr8qX1PA6s",
        "outputId": "862d18e2-c452-4e1e-8db3-b16653822d69"
      },
      "execution_count": 7,
      "outputs": [
        {
          "output_type": "execute_result",
          "data": {
            "text/plain": [
              "<surprise.prediction_algorithms.matrix_factorization.SVD at 0x7fb53fcc8050>"
            ]
          },
          "metadata": {},
          "execution_count": 7
        }
      ]
    },
    {
      "cell_type": "markdown",
      "source": [
        "***test()***: 사용자-아이템 평점 데이터 세트 전체에 대해 추천을 예측하는 메서드(입력 데이터 세트에 대해 추천 데이터 세트 만듦)\n",
        "\n"
      ],
      "metadata": {
        "id": "gplx3F_DTPzv"
      }
    },
    {
      "cell_type": "markdown",
      "source": [
        "* 리스트, 입력인자 데이터셋과 같은 25000개\n",
        "\n",
        "* 25000개의 prediction 객체를 내부에 가짐\n",
        "\n",
        "* prediction 객체는 surprise 패키지에서 제공하는 데이터 타입이며, 각 변수 정보에 기반해 surprise의 추천 예측 평점 데이터를 튜플 형태로 가짐\n",
        "\n",
        "* prediction 객체의 details 속성은 내부 처리 시 추천 예측을 할 수 없는 경우에 로그용으로 데이터 남기는 데 사용\n",
        "  * was_impossible이 True: 예측값을 생성할 수 없는 데이터라는 의미"
      ],
      "metadata": {
        "id": "l0IgOFU_Tmxr"
      }
    },
    {
      "cell_type": "code",
      "source": [
        "predictions = algo.test( testset )\n",
        "print('prediction type :',type(predictions), ' size:',len(predictions))\n",
        "print('prediction 결과의 최초 5개 추출')\n",
        "predictions[:5]"
      ],
      "metadata": {
        "colab": {
          "base_uri": "https://localhost:8080/"
        },
        "id": "s9rrCdgaPA4e",
        "outputId": "81803e06-8ead-430f-e74c-a8a3727da0ec"
      },
      "execution_count": 8,
      "outputs": [
        {
          "output_type": "stream",
          "name": "stdout",
          "text": [
            "prediction type : <class 'list'>  size: 25000\n",
            "prediction 결과의 최초 5개 추출\n"
          ]
        },
        {
          "output_type": "execute_result",
          "data": {
            "text/plain": [
              "[Prediction(uid='120', iid='282', r_ui=4.0, est=3.627840414061691, details={'was_impossible': False}),\n",
              " Prediction(uid='882', iid='291', r_ui=4.0, est=3.796952367316425, details={'was_impossible': False}),\n",
              " Prediction(uid='535', iid='507', r_ui=5.0, est=4.340147565371415, details={'was_impossible': False}),\n",
              " Prediction(uid='697', iid='244', r_ui=5.0, est=3.755409336184906, details={'was_impossible': False}),\n",
              " Prediction(uid='751', iid='385', r_ui=4.0, est=3.5432617309229912, details={'was_impossible': False})]"
            ]
          },
          "metadata": {},
          "execution_count": 8
        }
      ]
    },
    {
      "cell_type": "code",
      "source": [
        "[ (pred.uid, pred.iid, pred.est) for pred in predictions[:3] ]"
      ],
      "metadata": {
        "colab": {
          "base_uri": "https://localhost:8080/"
        },
        "id": "cQLB9lC-PA2V",
        "outputId": "b88150b4-861f-44a5-b3e9-3deab4a56bed"
      },
      "execution_count": 9,
      "outputs": [
        {
          "output_type": "execute_result",
          "data": {
            "text/plain": [
              "[('120', '282', 3.627840414061691),\n",
              " ('882', '291', 3.796952367316425),\n",
              " ('535', '507', 4.340147565371415)]"
            ]
          },
          "metadata": {},
          "execution_count": 9
        }
      ]
    },
    {
      "cell_type": "markdown",
      "source": [
        "***predict()***: 개별 사용자와 영화에 대한 추천 평점(est) 반환 (test()는 predict()를 반복 입력한 것)"
      ],
      "metadata": {
        "id": "B5kQUwGlTY8b"
      }
    },
    {
      "cell_type": "markdown",
      "source": [
        "* 인자: 개별 사용자 아이디, 아이템 아이디\n",
        "* 반환: 추천 예측 평점을 포함한 정보\n",
        "\t* 기존 평점 정보(r_ui)는 선택 사항, 아이디들은 문자열로 입력해야"
      ],
      "metadata": {
        "id": "qQtTyNgyUtna"
      }
    },
    {
      "cell_type": "code",
      "source": [
        "# 사용자 아이디, 아이템 아이디는 문자열로 입력해야 함. \n",
        "uid = str(196)\n",
        "iid = str(302)\n",
        "pred = algo.predict(uid, iid)\n",
        "print(pred)"
      ],
      "metadata": {
        "colab": {
          "base_uri": "https://localhost:8080/"
        },
        "id": "fdCxWJdfPA0M",
        "outputId": "588ea8ec-87aa-4727-90d4-11a0eb98458d"
      },
      "execution_count": 10,
      "outputs": [
        {
          "output_type": "stream",
          "name": "stdout",
          "text": [
            "user: 196        item: 302        r_ui = None   est = 4.29   {'was_impossible': False}\n"
          ]
        }
      ]
    },
    {
      "cell_type": "code",
      "source": [
        "accuracy.rmse(predictions)"
      ],
      "metadata": {
        "colab": {
          "base_uri": "https://localhost:8080/"
        },
        "id": "lRKMRD0wPAyM",
        "outputId": "81bcb5e1-7b43-40b8-db78-93a58c55138d"
      },
      "execution_count": 11,
      "outputs": [
        {
          "output_type": "stream",
          "name": "stdout",
          "text": [
            "RMSE: 0.9488\n"
          ]
        },
        {
          "output_type": "execute_result",
          "data": {
            "text/plain": [
              "0.9487514585849152"
            ]
          },
          "metadata": {},
          "execution_count": 11
        }
      ]
    },
    {
      "cell_type": "markdown",
      "source": [
        "## **Surprise 주요 모듈 소개**"
      ],
      "metadata": {
        "id": "P78TPQzWTqzG"
      }
    },
    {
      "cell_type": "markdown",
      "source": [
        "데이터 세트의 칼럼 순서가 사용자 아이디, 아이템 아이디, 평점 순으로 3줄만 되어있어야 함.\n",
        "\n",
        "* *Dataset.load_builtin(name='ml-100k')*\n",
        "* *Dataset.load_from_file(file_path, reader)* : OS파일에서 데이터 로딩/콤마, 탭/(OS파일명, 파일의 포맷)\n",
        "* *Dataset.load_from_df(df, reader)* : 판다스 df에서 로딩/(df객체, 파일의 포맷)"
      ],
      "metadata": {
        "id": "tRqiSBo-XVUL"
      }
    },
    {
      "cell_type": "code",
      "source": [
        "import pandas as pd\n",
        "\n",
        "ratings = pd.read_csv('/content/drive/MyDrive/data/0523/ratings.csv')\n",
        "# ratings_noh.csv 파일로 unload 시 index 와 header를 모두 제거한 새로운 파일 생성.  \n",
        "ratings.to_csv('/content/drive/MyDrive/data/0523/ratings_noh.csv', index=False, header=False)"
      ],
      "metadata": {
        "id": "dyohPybHTtWy"
      },
      "execution_count": 12,
      "outputs": []
    },
    {
      "cell_type": "markdown",
      "source": [
        "ratings_noh.csv: ratings.csv에서 헤더가 삭제된 파일\n",
        "\n",
        "reader 객체 생성 시 line_format 인자로 user, item, rating, timestamp 4개의 칼럼으로 데이터 구성 명시 -> 후에 timestamp 제외\n",
        "\n",
        "각 칼럼의 분리 문자는 콤마/평점 단위 .5/최대 평점 5"
      ],
      "metadata": {
        "id": "JQW3n7xHYaO0"
      }
    },
    {
      "cell_type": "markdown",
      "source": [
        "* Reader 클래스의 주요 생성 파라미터\n",
        "\t* line_format(string): 칼럼을 순서대로 나열, 입력된 문자열을 공백으로 분리해 칼럼으로 인식\n",
        "\t* sep(char): 칼럼을 분리하는 분리자, 디폴드:\\t, 판다스 df에서 입력받을 경우 기재 X\n",
        "\t* rating_scale(tuple, optional): 평점 값의 최소~최대 평점 설정"
      ],
      "metadata": {
        "id": "vcaYHiS-azB5"
      }
    },
    {
      "cell_type": "code",
      "source": [
        "from surprise import Reader\n",
        "\n",
        "reader = Reader(line_format='user item rating timestamp', sep=',', rating_scale=(0.5, 5))\n",
        "data=Dataset.load_from_file('/content/drive/MyDrive/data/0523/ratings_noh.csv',reader=reader)"
      ],
      "metadata": {
        "id": "dtrQeyycTtsc"
      },
      "execution_count": 13,
      "outputs": []
    },
    {
      "cell_type": "code",
      "source": [
        "trainset, testset = train_test_split(data, test_size=.25, random_state=0)\n",
        "\n",
        "# 수행시마다 동일한 결과 도출을 위해 random_state 설정 \n",
        "algo = SVD(n_factors=50, random_state=0)\n",
        "\n",
        "# 학습 데이터 세트로 학습 후 테스트 데이터 세트로 평점 예측 후 RMSE 평가\n",
        "algo.fit(trainset) \n",
        "predictions = algo.test( testset )\n",
        "accuracy.rmse(predictions)"
      ],
      "metadata": {
        "colab": {
          "base_uri": "https://localhost:8080/"
        },
        "id": "v2RTddLyTtqP",
        "outputId": "f4bdf448-f209-4f78-ff6b-51470bb68d6b"
      },
      "execution_count": 16,
      "outputs": [
        {
          "output_type": "stream",
          "name": "stdout",
          "text": [
            "RMSE: 0.8682\n"
          ]
        },
        {
          "output_type": "execute_result",
          "data": {
            "text/plain": [
              "0.8681952927143516"
            ]
          },
          "metadata": {},
          "execution_count": 16
        }
      ]
    },
    {
      "cell_type": "markdown",
      "source": [
        "**판다스 DataFrame에서 Surprise 데이터 세트로 로딩**"
      ],
      "metadata": {
        "id": "p66l05pua_an"
      }
    },
    {
      "cell_type": "code",
      "source": [
        "import pandas as pd\n",
        "from surprise import Reader, Dataset\n",
        "\n",
        "ratings = pd.read_csv('/content/drive/MyDrive/data/0523/ratings.csv') \n",
        "reader = Reader(rating_scale=(0.5, 5.0))\n",
        "\n",
        "# ratings DataFrame 에서 컬럼은 사용자 아이디, 아이템 아이디, 평점 순서를 지켜야 합니다. \n",
        "data = Dataset.load_from_df(ratings[['userId', 'movieId', 'rating']], reader)\n",
        "trainset, testset = train_test_split(data, test_size=.25, random_state=0)\n",
        "\n",
        "algo = SVD(n_factors=50, random_state=0)\n",
        "algo.fit(trainset) \n",
        "predictions = algo.test( testset )\n",
        "accuracy.rmse(predictions)"
      ],
      "metadata": {
        "colab": {
          "base_uri": "https://localhost:8080/"
        },
        "id": "GsiXExukTtoB",
        "outputId": "1664f607-97e4-4be8-effe-968afc04f4e7"
      },
      "execution_count": 17,
      "outputs": [
        {
          "output_type": "stream",
          "name": "stdout",
          "text": [
            "RMSE: 0.8682\n"
          ]
        },
        {
          "output_type": "execute_result",
          "data": {
            "text/plain": [
              "0.8681952927143516"
            ]
          },
          "metadata": {},
          "execution_count": 17
        }
      ]
    },
    {
      "cell_type": "markdown",
      "source": [
        "* SVD: 행렬 분해를 통한 잠재 요인 협업 필터링을 위한 SVD 알고리즘\n",
        "* KNNBasic: 최근접 이웃 협업 필터링을 위한 KNN 알고리즘\n",
        "* BaselineOnly: 사용자 Bias와 아이템 Bias를 감안한 SGD 베이스라인 알고리즘\n",
        "\n",
        "* Surprise SVD의 비용함수: 사용자 베이스라인 평향성을 감안한 평점 예측에 regularization 적용\n",
        "* SVD 클래스의 입력 파라미터\n",
        "\t* n_factors: 잠재요인 K의 개수, 정확도 높아지지만 과적합 문제\n",
        "\t* n_epochs: SGD 수행 반복 횟수\n",
        "\t* biased(bool): 베이스라인 사용자 편향 적용 여부\n",
        "\n",
        "성능 평가 수치: SVD++ > SVD > K-NN Baseline"
      ],
      "metadata": {
        "id": "DSVisUSGdAJz"
      }
    },
    {
      "cell_type": "markdown",
      "source": [
        "* 베이스라인 평점\n",
        "  * 전체 평균 평점+사용자 편향 점수(사용자별 아이템 평점 평균 값-전체평균평점)+아이템 편향 점수(아이템별 평점 평균 값-전체평균평점)\n",
        "  * : 개인의 성향을 반영해 아이템 평가에 편향성 요소를 반영하여 평점 부과"
      ],
      "metadata": {
        "id": "WAfR8LkZcmYr"
      }
    },
    {
      "cell_type": "markdown",
      "source": [
        "## **교차 검증(Cross Validation)과 하이퍼 파라미터 튜닝**\n",
        "\n",
        "*cross_validate()*: 출력 결과와 폴드별 성능 평가 수치, 전체 폴드의 평균 성능 평가 수치 보여줌"
      ],
      "metadata": {
        "id": "LAbBQKNFTyS-"
      }
    },
    {
      "cell_type": "code",
      "source": [
        "from surprise.model_selection import cross_validate \n",
        "\n",
        "# Pandas DataFrame에서 Surprise Dataset으로 데이터 로딩 \n",
        "ratings = pd.read_csv('/content/drive/MyDrive/data/0523/ratings.csv') # reading data in pandas df\n",
        "reader = Reader(rating_scale=(0.5, 5.0))\n",
        "data = Dataset.load_from_df(ratings[['userId', 'movieId', 'rating']], reader)\n",
        "\n",
        "algo = SVD(random_state=0) \n",
        "cross_validate(algo, data, measures=['RMSE', 'MAE'], cv=5, verbose=True) "
      ],
      "metadata": {
        "colab": {
          "base_uri": "https://localhost:8080/"
        },
        "id": "Lsi7aEnnTtmE",
        "outputId": "d27eac08-1b3e-44f7-ca4f-a0126b4be773"
      },
      "execution_count": 19,
      "outputs": [
        {
          "output_type": "stream",
          "name": "stdout",
          "text": [
            "Evaluating RMSE, MAE of algorithm SVD on 5 split(s).\n",
            "\n",
            "                  Fold 1  Fold 2  Fold 3  Fold 4  Fold 5  Mean    Std     \n",
            "RMSE (testset)    0.8731  0.8779  0.8766  0.8732  0.8687  0.8739  0.0032  \n",
            "MAE (testset)     0.6705  0.6712  0.6709  0.6699  0.6720  0.6709  0.0007  \n",
            "Fit time          5.01    6.12    5.81    5.09    5.07    5.42    0.45    \n",
            "Test time         0.25    0.37    0.24    0.14    0.24    0.25    0.07    \n"
          ]
        },
        {
          "output_type": "execute_result",
          "data": {
            "text/plain": [
              "{'fit_time': (5.0134265422821045,\n",
              "  6.116093873977661,\n",
              "  5.805214881896973,\n",
              "  5.090279579162598,\n",
              "  5.0673487186431885),\n",
              " 'test_mae': array([0.67053875, 0.67115808, 0.67087611, 0.66987683, 0.67204213]),\n",
              " 'test_rmse': array([0.87308128, 0.87791579, 0.87664796, 0.87317056, 0.8686717 ]),\n",
              " 'test_time': (0.25460243225097656,\n",
              "  0.3704218864440918,\n",
              "  0.2434532642364502,\n",
              "  0.13574981689453125,\n",
              "  0.23991632461547852)}"
            ]
          },
          "metadata": {},
          "execution_count": 19
        }
      ]
    },
    {
      "cell_type": "markdown",
      "source": [
        "하이퍼 파라미터 최적화: SVD는 n_epochs와 n_factors 튜닝"
      ],
      "metadata": {
        "id": "joON8VhWez8e"
      }
    },
    {
      "cell_type": "code",
      "source": [
        "from surprise.model_selection import GridSearchCV\n",
        "\n",
        "# 최적화할 파라미터들을 딕셔너리 형태로 지정. \n",
        "param_grid = {'n_epochs': [20, 40, 60], 'n_factors': [50, 100, 200] }\n",
        "\n",
        "# CV를 3개 폴드 세트로 지정, 성능 평가는 rmse, mse 로 수행 하도록 GridSearchCV 구성\n",
        "gs = GridSearchCV(SVD, param_grid, measures=['rmse', 'mae'], cv=3)\n",
        "gs.fit(data)\n",
        "\n",
        "# 최고 RMSE Evaluation 점수와 그때의 하이퍼 파라미터\n",
        "print(gs.best_score['rmse'])\n",
        "print(gs.best_params['rmse'])"
      ],
      "metadata": {
        "colab": {
          "base_uri": "https://localhost:8080/"
        },
        "id": "GSqUP-o9Ttka",
        "outputId": "b0a14a92-1d62-4ee0-f072-7fe44014a448"
      },
      "execution_count": 20,
      "outputs": [
        {
          "output_type": "stream",
          "name": "stdout",
          "text": [
            "0.8767461443488663\n",
            "{'n_epochs': 20, 'n_factors': 50}\n"
          ]
        }
      ]
    },
    {
      "cell_type": "markdown",
      "source": [
        "## **Surprise 를 이용한 개인화 영화 추천 시스템 구축**\n",
        "\n",
        "데이터 세트를 그대로 fit()에 적용하면 오류"
      ],
      "metadata": {
        "id": "A_RuNdYXT2mS"
      }
    },
    {
      "cell_type": "code",
      "source": [
        "# 아래 코드는 train_test_split( )으로 분리되지 않는 Dataset에 fit( )을 호출하여 오류를 발생합니다.\n",
        "data = Dataset.load_from_df(ratings[['userId', 'movieId', 'rating']], reader)\n",
        "algo = SVD(n_factors=50, random_state=0)\n",
        "algo.fit(data)"
      ],
      "metadata": {
        "colab": {
          "base_uri": "https://localhost:8080/"
        },
        "id": "DzmefFcATtck",
        "outputId": "997b2733-af96-4cc8-bfd5-358e2a051cfd"
      },
      "execution_count": 23,
      "outputs": [
        {
          "output_type": "execute_result",
          "data": {
            "text/plain": [
              "<surprise.prediction_algorithms.matrix_factorization.SVD at 0x7fb537d3b550>"
            ]
          },
          "metadata": {},
          "execution_count": 23
        }
      ]
    },
    {
      "cell_type": "markdown",
      "source": [
        "DatasetAutoFolds 객체 생성한 뒤 build_full_trainset()메서드 호출하면 전체 데이터를 학습 데이터 세트로 만들 수 있음\n",
        "\n"
      ],
      "metadata": {
        "id": "SxyVON_-gcWm"
      }
    },
    {
      "cell_type": "code",
      "source": [
        "from surprise.dataset import DatasetAutoFolds\n",
        "\n",
        "reader = Reader(line_format='user item rating timestamp', sep=',', rating_scale=(0.5, 5))\n",
        "# DatasetAutoFolds 클래스를 ratings_noh.csv 파일 기반으로 생성. \n",
        "data_folds = DatasetAutoFolds(ratings_file='/content/drive/MyDrive/data/0523/ratings_noh.csv', reader=reader)\n",
        "\n",
        "#전체 데이터를 학습데이터로 생성함. \n",
        "trainset = data_folds.build_full_trainset()"
      ],
      "metadata": {
        "id": "OTW8anjNT5Sn"
      },
      "execution_count": 24,
      "outputs": []
    },
    {
      "cell_type": "code",
      "source": [
        "algo = SVD(n_epochs=20, n_factors=50, random_state=0)\n",
        "algo.fit(trainset)"
      ],
      "metadata": {
        "colab": {
          "base_uri": "https://localhost:8080/"
        },
        "id": "jwrcODo4T5Q1",
        "outputId": "1c93ad39-89da-4d89-b590-ea5ed1c61b32"
      },
      "execution_count": 25,
      "outputs": [
        {
          "output_type": "execute_result",
          "data": {
            "text/plain": [
              "<surprise.prediction_algorithms.matrix_factorization.SVD at 0x7fb537a40bd0>"
            ]
          },
          "metadata": {},
          "execution_count": 25
        }
      ]
    },
    {
      "cell_type": "markdown",
      "source": [
        "userid 9가 아직 평점을 매기지 않은 영화를 movieId 42로 선정한 뒤 예측 평점 계산\n"
      ],
      "metadata": {
        "id": "anZkrkatgmpP"
      }
    },
    {
      "cell_type": "code",
      "source": [
        "# 영화에 대한 상세 속성 정보 DataFrame로딩\n",
        "movies = pd.read_csv('/content/drive/MyDrive/data/0523/movies.csv')\n",
        "\n",
        "# userId=9 의 movieId 데이터 추출하여 movieId=42 데이터가 있는지 확인. \n",
        "movieIds = ratings[ratings['userId']==9]['movieId']\n",
        "if movieIds[movieIds==42].count() == 0:\n",
        "    print('사용자 아이디 9는 영화 아이디 42의 평점 없음')\n",
        "\n",
        "print(movies[movies['movieId']==42])"
      ],
      "metadata": {
        "colab": {
          "base_uri": "https://localhost:8080/"
        },
        "id": "b4nsXLyST5N5",
        "outputId": "4ad7e110-a21f-467d-b8f4-89a820b2e1d1"
      },
      "execution_count": 26,
      "outputs": [
        {
          "output_type": "stream",
          "name": "stdout",
          "text": [
            "사용자 아이디 9는 영화 아이디 42의 평점 없음\n",
            "    movieId                   title              genres\n",
            "38       42  Dead Presidents (1995)  Action|Crime|Drama\n"
          ]
        }
      ]
    },
    {
      "cell_type": "code",
      "source": [
        "uid = str(9)\n",
        "iid = str(42)\n",
        "\n",
        "pred = algo.predict(uid, iid, verbose=True)"
      ],
      "metadata": {
        "colab": {
          "base_uri": "https://localhost:8080/"
        },
        "id": "_4iGrNhET5LX",
        "outputId": "2064fe49-903c-4722-8eed-fb9479f9f857"
      },
      "execution_count": 27,
      "outputs": [
        {
          "output_type": "stream",
          "name": "stdout",
          "text": [
            "user: 9          item: 42         r_ui = None   est = 3.13   {'was_impossible': False}\n"
          ]
        }
      ]
    },
    {
      "cell_type": "markdown",
      "source": [
        "userid 9는 전체 9742개 영화 중 46개에만 평점 매김 -> 추천 대상 영화는 9696개\n",
        "\n",
        "인자: 학습이 완료된 추천 알고리즘 객체, 추천 대상 사용자 아이디, 추천 대상 영화의 리스트 객체, 추천 상위 N개 개수"
      ],
      "metadata": {
        "id": "UGFaAbTWg5zS"
      }
    },
    {
      "cell_type": "code",
      "source": [
        "def get_unseen_surprise(ratings, movies, userId):\n",
        "    #입력값으로 들어온 userId에 해당하는 사용자가 평점을 매긴 모든 영화를 리스트로 생성\n",
        "    seen_movies = ratings[ratings['userId']== userId]['movieId'].tolist()\n",
        "    \n",
        "    # 모든 영화들의 movieId를 리스트로 생성. \n",
        "    total_movies = movies['movieId'].tolist()\n",
        "    \n",
        "    # 모든 영화들의 movieId중 이미 평점을 매긴 영화의 movieId를 제외하여 리스트로 생성\n",
        "    unseen_movies= [movie for movie in total_movies if movie not in seen_movies]\n",
        "    print('평점 매긴 영화수:',len(seen_movies), '추천대상 영화수:',len(unseen_movies), \\\n",
        "          '전체 영화수:',len(total_movies))\n",
        "    \n",
        "    return unseen_movies\n",
        "\n",
        "unseen_movies = get_unseen_surprise(ratings, movies, 9)"
      ],
      "metadata": {
        "colab": {
          "base_uri": "https://localhost:8080/"
        },
        "id": "9fxlXyGnT5I7",
        "outputId": "2dd656f8-9d83-42f3-f26c-3b85a2743546"
      },
      "execution_count": 28,
      "outputs": [
        {
          "output_type": "stream",
          "name": "stdout",
          "text": [
            "평점 매긴 영화수: 46 추천대상 영화수: 9696 전체 영화수: 9742\n"
          ]
        }
      ]
    },
    {
      "cell_type": "code",
      "source": [
        "def recomm_movie_by_surprise(algo, userId, unseen_movies, top_n=10):\n",
        "    # 알고리즘 객체의 predict() 메서드를 평점이 없는 영화에 반복 수행한 후 결과를 list 객체로 저장\n",
        "    predictions = [algo.predict(str(userId), str(movieId)) for movieId in unseen_movies]\n",
        "    \n",
        "    # predictions list 객체는 surprise의 Predictions 객체를 원소로 가지고 있음.\n",
        "    # [Prediction(uid='9', iid='1', est=3.69), Prediction(uid='9', iid='2', est=2.98),,,,]\n",
        "    # 이를 est 값으로 정렬하기 위해서 아래의 sortkey_est 함수를 정의함.\n",
        "    # sortkey_est 함수는 list 객체의 sort() 함수의 키 값으로 사용되어 정렬 수행.\n",
        "    def sortkey_est(pred):\n",
        "        return pred.est\n",
        "    \n",
        "    # sortkey_est( ) 반환값의 내림 차순으로 정렬 수행하고 top_n개의 최상위 값 추출.\n",
        "    predictions.sort(key=sortkey_est, reverse=True)\n",
        "    top_predictions= predictions[:top_n]\n",
        "    \n",
        "    # top_n으로 추출된 영화의 정보 추출. 영화 아이디, 추천 예상 평점, 제목 추출\n",
        "    top_movie_ids = [ int(pred.iid) for pred in top_predictions]\n",
        "    top_movie_rating = [ pred.est for pred in top_predictions]\n",
        "    top_movie_titles = movies[movies.movieId.isin(top_movie_ids)]['title']\n",
        "    top_movie_preds = [ (id, title, rating) for id, title, rating in zip(top_movie_ids, top_movie_titles, top_movie_rating)]\n",
        "    \n",
        "    return top_movie_preds\n",
        "\n",
        "unseen_movies = get_unseen_surprise(ratings, movies, 9)\n",
        "top_movie_preds = recomm_movie_by_surprise(algo, 9, unseen_movies, top_n=10)\n",
        "print('##### Top-10 추천 영화 리스트 #####')\n",
        "\n",
        "for top_movie in top_movie_preds:\n",
        "    print(top_movie[1], \":\", top_movie[2])"
      ],
      "metadata": {
        "colab": {
          "base_uri": "https://localhost:8080/"
        },
        "id": "UnAx0S-VT_JA",
        "outputId": "ebd66749-1939-4343-b63f-12f42a1e398e"
      },
      "execution_count": 29,
      "outputs": [
        {
          "output_type": "stream",
          "name": "stdout",
          "text": [
            "평점 매긴 영화수: 46 추천대상 영화수: 9696 전체 영화수: 9742\n",
            "##### Top-10 추천 영화 리스트 #####\n",
            "Usual Suspects, The (1995) : 4.306302135700814\n",
            "Star Wars: Episode IV - A New Hope (1977) : 4.281663842987387\n",
            "Pulp Fiction (1994) : 4.278152632122759\n",
            "Silence of the Lambs, The (1991) : 4.226073566460876\n",
            "Godfather, The (1972) : 4.1918097904381995\n",
            "Streetcar Named Desire, A (1951) : 4.154746591122658\n",
            "Star Wars: Episode V - The Empire Strikes Back (1980) : 4.122016128534504\n",
            "Star Wars: Episode VI - Return of the Jedi (1983) : 4.108009609093436\n",
            "Goodfellas (1990) : 4.083464936588478\n",
            "Glory (1989) : 4.07887165526957\n"
          ]
        }
      ]
    }
  ]
}
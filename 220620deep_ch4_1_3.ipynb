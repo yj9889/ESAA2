{
  "nbformat": 4,
  "nbformat_minor": 0,
  "metadata": {
    "colab": {
      "name": "220620deep_ch4. 1-3.ipynb",
      "provenance": [],
      "collapsed_sections": [],
      "authorship_tag": "ABX9TyPkPqHa8eBsAF++eyq/sIHF",
      "include_colab_link": true
    },
    "kernelspec": {
      "name": "python3",
      "display_name": "Python 3"
    },
    "language_info": {
      "name": "python"
    }
  },
  "cells": [
    {
      "cell_type": "markdown",
      "metadata": {
        "id": "view-in-github",
        "colab_type": "text"
      },
      "source": [
        "<a href=\"https://colab.research.google.com/github/yj9889/ESAA2/blob/main/220620deep_ch4_1_3.ipynb\" target=\"_parent\"><img src=\"https://colab.research.google.com/assets/colab-badge.svg\" alt=\"Open In Colab\"/></a>"
      ]
    },
    {
      "cell_type": "markdown",
      "source": [
        "파이썬 딥러닝 텐서플로 ch4. 1-3 pg. 142-181"
      ],
      "metadata": {
        "id": "5LjSTDaQHfTg"
      }
    },
    {
      "cell_type": "markdown",
      "source": [
        "# 04. 합성곱 신경망(CNN)"
      ],
      "metadata": {
        "id": "pTRnAWwdIQHp"
      }
    },
    {
      "cell_type": "markdown",
      "source": [
        "## 4-1. 합성곱 신경망\n",
        "* 데이터가 가진 특징들의 패턴을 학습하는 알고리즘, 컴퓨터 비전 분야\n",
        "* 이미지 분류: 이미지를 인식할 수 있는 능력\n",
        "* 객체 탐지: 이미지에서 특정 객체를 인식하고 위치까지 파악해 어떤 클래스에 속하는지 분류 확률과 예측을 함께 알려준다. 일반적으로 객체의 이미지는 좌표 값으로 나타나기 때문에, 경계 박스를 찾는 문제는 회귀분석/클래스를 예측하는 문제는 분류\n",
        "* 스타일 전이: 콘텐츠 이미지와 스타일 참조 이미지를 활용해 콘텐츠의 기본 형태를 유지하고 스타일을 입혀서 새로운 이미지를 생성하는 기술"
      ],
      "metadata": {
        "id": "MYYHl-gZJB2F"
      }
    },
    {
      "cell_type": "markdown",
      "source": [
        "### 4-1-1. 이미지 표현\n",
        "* 컬러 이미지: R, G, B 세 채널로 구성된 3장의 이미지 겹쳐 표현(0~255)"
      ],
      "metadata": {
        "id": "QBw_KhfqIR55"
      }
    },
    {
      "cell_type": "code",
      "source": [
        "# tensorflow 모듈 import \n",
        "import tensorflow as tf"
      ],
      "metadata": {
        "id": "puhcT_7HMazb"
      },
      "execution_count": 1,
      "outputs": []
    },
    {
      "cell_type": "code",
      "source": [
        "# MNIST 손글씨 이미지 데이터 로드\n",
        "mnist = tf.keras.datasets.mnist\n",
        "(x_train, y_train), (x_valid, y_valid) = mnist.load_data()\n",
        "\n",
        "print(x_train.shape, y_train.shape)\n",
        "print(x_valid.shape, y_valid.shape)"
      ],
      "metadata": {
        "colab": {
          "base_uri": "https://localhost:8080/"
        },
        "id": "YsXCCVyoMdlL",
        "outputId": "3c3efe1b-741a-4f67-e766-b8b88526e94d"
      },
      "execution_count": 2,
      "outputs": [
        {
          "output_type": "stream",
          "name": "stdout",
          "text": [
            "(60000, 28, 28) (60000,)\n",
            "(10000, 28, 28) (10000,)\n"
          ]
        }
      ]
    },
    {
      "cell_type": "markdown",
      "source": [
        "### 4-1-2. 합성곱(Convolution)\n",
        ": 입력 이미지에 대하여 일반적으로 정방형 크기를 가지는 kernel을 사용하여, 입력 이미지에 대한 특성을 추출하는 방법.\n",
        "* 특성맵: 합성곱 연산을 통해 추출된 이미지\n",
        "* element-wise 곱셈 연산을 수행 후 모두 더한 값으로 단일 스칼라 값이 나옴.\n",
        "* 오차 역전파 시 커널의 가중치 업데이트\n",
        "* 공유 가중치 때문에 합성곱 신경망이 이미지 특성 추출에 효율적.\n",
        "* 커널의 gradient를 계산할 때 완전 연결층 사용할 때보다 연산량이 훨씬 적다."
      ],
      "metadata": {
        "id": "DhAdqhV9IUKl"
      }
    },
    {
      "cell_type": "markdown",
      "source": [
        "### 4-1-3. 채널(Channel)\n",
        ": 입력 이미지를 구성하는 2차원 배열의 개수\n",
        "* 컬러이미지의 shape: (가로 픽셀, 세로 픽셀, 3)\n",
        "* 입력 이미지의 채널 개수만큼 커널이 생성되고, 각 채널마다 하나씩 커널을 적용해 합성곱 연산 수행 -> element-wise 덧셈 연산으로 모두 더해주면 최종 특성맵\n",
        "* 커널 = 커널 사이즈 X 입력 채널 개수 X 출력 필터 개수\n",
        "* bias: 출력 필터 개수만큼 추가됨.\n"
      ],
      "metadata": {
        "id": "sVEyPlR1IUvY"
      }
    },
    {
      "cell_type": "markdown",
      "source": [
        "### 4-1-4. 스트라이드(Stride)\n",
        ": 커널이 좌측 상단으로부터 입력 이미지를 기준으로 우측으로 이동하면서 합성곱 연산을 계속 수행하고 특성맵에 결과를 채워나가는데, 이때 이동하는 간격 (주로 1 or 2)\n",
        "* 1로 설정) 우측으로 1픽셀씩 이동한 후 끝에 도달하면, 아래 방향으로 1칸 좌측 첫번째 픽셀로 이동.\n",
        "* 2로 설정) 특성맵의 크기 1/2가 됨.\n",
        "* 텐서플로 케라스의 *Conv2D* 레이어의 *strides* 매개변수에 지정"
      ],
      "metadata": {
        "id": "OFycjEogIVpU"
      }
    },
    {
      "cell_type": "markdown",
      "source": [
        "### 4-1-5. 패딩(Padding)\n",
        ": 추출된 특성맵의 크기가 입력 이미지 대비 줄어들지 않도록 하는 것\n",
        "* 일반적으로 zero-padding 사용, 입력 이미지의 가장 자리에 0으로 채워진 패딩 값으로 채운 후 추출, 패딩 후 합성곱 연산 수행하면 특성맵 크기 유지\n",
        "* *padding=\"same\"*으로 설정하면 zero-padding 옵션\n",
        "* default) *padding=\"valid\"*"
      ],
      "metadata": {
        "id": "zF7C80umIWk7"
      }
    },
    {
      "cell_type": "markdown",
      "source": [
        "### 4-1-6. 특성맵(Feature map) 사이즈\n",
        ": 패딩과 스트라이드 적용하고, 입력 데이터와 필터의 크기가 주어졌을 때 출력 데이터의 크기를 구하는 식.\n",
        "165p(148)"
      ],
      "metadata": {
        "id": "nNXTInz_IXdA"
      }
    },
    {
      "cell_type": "markdown",
      "source": [
        "### 4-1-7. 풀링(Pooling)\n",
        ": 추출된 특성맵에 대해 다운 샘플링하여 이미지의 크기를 축소하는 레이어.\n",
        "* 장점) 이미지 축소를 통해 연산량 감소 & 과대적합 방지\n",
        "* 최대 풀링) 특징의 값이 큰 값이 다른 특징들을 대표\n",
        "* 풀링 레이어도 스트라이드 값을 가짐. (2로 설정 시 총 1/4 크기로 줄어듦)"
      ],
      "metadata": {
        "id": "Ju7E6LgBIYkK"
      }
    },
    {
      "cell_type": "markdown",
      "source": [
        "## 4-2. 간단한 모델 생성"
      ],
      "metadata": {
        "id": "RmrR_IiTIu0o"
      }
    },
    {
      "cell_type": "markdown",
      "source": [
        "### 4-2-1. 데이터 로드 및 전처리"
      ],
      "metadata": {
        "id": "lx7Jyh2CIv3O"
      }
    },
    {
      "cell_type": "code",
      "source": [
        "import tensorflow as tf\n",
        "import numpy as np"
      ],
      "metadata": {
        "id": "gm7MxD63M3-6"
      },
      "execution_count": 3,
      "outputs": []
    },
    {
      "cell_type": "markdown",
      "source": [
        "튜플 형태로 정리"
      ],
      "metadata": {
        "id": "yh2fRaeHQST3"
      }
    },
    {
      "cell_type": "code",
      "source": [
        "# MNIST 손글씨 이미지 데이터 로드\n",
        "mnist = tf.keras.datasets.mnist\n",
        "(x_train, y_train), (x_valid, y_valid) = mnist.load_data()\n",
        "\n",
        "print(x_train.shape, y_train.shape)\n",
        "print(x_valid.shape, y_valid.shape)"
      ],
      "metadata": {
        "colab": {
          "base_uri": "https://localhost:8080/"
        },
        "id": "QHxS4ArFMT0n",
        "outputId": "4ce49e31-ea4d-4d2a-8797-d93649c3b23d"
      },
      "execution_count": 4,
      "outputs": [
        {
          "output_type": "stream",
          "name": "stdout",
          "text": [
            "(60000, 28, 28) (60000,)\n",
            "(10000, 28, 28) (10000,)\n"
          ]
        }
      ]
    },
    {
      "cell_type": "code",
      "source": [
        "# 샘플 이미지 출력\n",
        "import matplotlib.pylab as plt\n",
        "\n",
        "def plot_image(data, idx):\n",
        "    plt.figure(figsize=(5, 5))\n",
        "    plt.imshow(data[idx], cmap=\"gray\")\n",
        "    plt.axis(\"off\")\n",
        "    plt.show()\n",
        "\n",
        "plot_image(x_train, 0)"
      ],
      "metadata": {
        "colab": {
          "base_uri": "https://localhost:8080/",
          "height": 303
        },
        "id": "8lZ4FvDBNJxm",
        "outputId": "9a7a0709-2da5-48ea-8307-230dd3f80288"
      },
      "execution_count": 5,
      "outputs": [
        {
          "output_type": "display_data",
          "data": {
            "text/plain": [
              "<Figure size 360x360 with 1 Axes>"
            ],
            "image/png": "[encoded data removed]"
          },
          "metadata": {
            "needs_background": "light"
          }
        }
      ]
    },
    {
      "cell_type": "markdown",
      "source": [
        "0-255 범위 숫자로 구성"
      ],
      "metadata": {
        "id": "Rucg2ORnQYAo"
      }
    },
    {
      "cell_type": "code",
      "source": [
        "print(x_train.min(), x_train.max())\n",
        "print(x_valid.min(), x_valid.max())"
      ],
      "metadata": {
        "colab": {
          "base_uri": "https://localhost:8080/"
        },
        "id": "XbRacqzdNOAj",
        "outputId": "f1ef81d3-d7fe-4b6f-e7a6-26192c9ea94f"
      },
      "execution_count": 6,
      "outputs": [
        {
          "output_type": "stream",
          "name": "stdout",
          "text": [
            "0 255\n",
            "0 255\n"
          ]
        }
      ]
    },
    {
      "cell_type": "code",
      "source": [
        "# 정규화(Normalization)\n",
        "x_train = x_train / 255.0\n",
        "x_valid = x_valid / 255.0\n",
        "\n",
        "print(x_train.min(), x_train.max())\n",
        "print(x_valid.min(), x_valid.max())"
      ],
      "metadata": {
        "colab": {
          "base_uri": "https://localhost:8080/"
        },
        "id": "y2ou6-YxNUT2",
        "outputId": "c8cf35f1-49f5-462d-e5a8-6cc716ee1ef4"
      },
      "execution_count": 7,
      "outputs": [
        {
          "output_type": "stream",
          "name": "stdout",
          "text": [
            "0.0 1.0\n",
            "0.0 1.0\n"
          ]
        }
      ]
    },
    {
      "cell_type": "markdown",
      "source": [
        "CNN 모델에 주입하기 위해서 색상을 나타내는 채널 추가해 줌.\n",
        "\n",
        "아래 코드) *tf.newaxis* 축을 텐서 배열에 직접 추가하는 방식 - (60000,28,28) -> (60000,28,28,1) 형태로 변환\n",
        "\n",
        "[] 안에서 채널을 추가하고자 하는 위치에 tf.newaxis 작성."
      ],
      "metadata": {
        "id": "5_GTub1qQeB5"
      }
    },
    {
      "cell_type": "code",
      "source": [
        "# 채널 추가\n",
        "print(x_train.shape, x_valid.shape)\n",
        "\n",
        "x_train_in = x_train[..., tf.newaxis]\n",
        "x_valid_in = x_valid[..., tf.newaxis]\n",
        "\n",
        "print(x_train_in.shape, x_valid_in.shape)"
      ],
      "metadata": {
        "colab": {
          "base_uri": "https://localhost:8080/"
        },
        "id": "9ZkcaZtMNWNX",
        "outputId": "1864a583-f68a-4ea9-cdd5-011cb8009e0f"
      },
      "execution_count": 8,
      "outputs": [
        {
          "output_type": "stream",
          "name": "stdout",
          "text": [
            "(60000, 28, 28) (10000, 28, 28)\n",
            "(60000, 28, 28, 1) (10000, 28, 28, 1)\n"
          ]
        }
      ]
    },
    {
      "cell_type": "markdown",
      "source": [
        "### 4-2-2. Sequential API로 모델 생성 및 학습\n",
        "합성곱 레이어 1개, 풀링 레이어 1개를 적용하는 간단한 모델\n",
        "\n",
        "* 최종 분류기로 Dense 레이어를 적용하기 위해, flatten 층을 추가해 1차원 배열로 펼쳐준다. \n",
        "* 합성곱은 Conv2D 레이어를 사용하고 (3,3) 크기의 서로 다른 32가지 종류의 커널을 적용한다.\n",
        "* ReLU 활성화 함수를 적용한다.\n",
        "* name 속성에 레이어의 이름을 'conv'라고 저장해 준다.\n",
        "* 폴링 레이어는 (2,2) 크기로 최대 풀링을 적용하고, 레이어 이름 속성도 추가해준다. 최종 분류기는 정답 레이블이 0~9까지 10개의 값을 가지므로 노드 개수:10개로 하고, 분류 클래스가 10개인 다중분류 문제이므로 활성화 함수로 softmax 적용"
      ],
      "metadata": {
        "id": "rIZF35wwIwpo"
      }
    },
    {
      "cell_type": "code",
      "source": [
        "# Sequential API를 사용하여 샘플 모델 생성\n",
        "model = tf.keras.Sequential([\n",
        "    # Convolution 적용 (32 filters)\n",
        "    tf.keras.layers.Conv2D(32, (3, 3), activation='relu', \n",
        "                           input_shape=(28, 28, 1), name='conv'),\n",
        "    # Max Pooling 적용\n",
        "    tf.keras.layers.MaxPooling2D((2, 2), name='pool'),\n",
        "    # Classifier 출력층 \n",
        "    tf.keras.layers.Flatten(),\n",
        "    tf.keras.layers.Dense(10, activation='softmax'),\n",
        "])"
      ],
      "metadata": {
        "id": "vc0PvYXBNXJ0"
      },
      "execution_count": 9,
      "outputs": []
    },
    {
      "cell_type": "markdown",
      "source": [
        "옵티마이저, 손실함수, 평가지표를 설정해 주고 컴파일하면 모델 인스턴스 생성됨.\n",
        "\n",
        "* fit()에 훈련, 검증 세트 주입 & epoch=10으로 지정 -> epoch 당 손실과 평가 결과 출력"
      ],
      "metadata": {
        "id": "JUh0cCc-RfCF"
      }
    },
    {
      "cell_type": "code",
      "source": [
        "# 모델 컴파일\n",
        "model.compile(optimizer='adam', loss='sparse_categorical_crossentropy', metrics=['accuracy'])\n",
        "\n",
        "# 모델 훈련\n",
        "history = model.fit(x_train_in, y_train, \n",
        "                    validation_data=(x_valid_in, y_valid), \n",
        "                    epochs=10)"
      ],
      "metadata": {
        "colab": {
          "base_uri": "https://localhost:8080/"
        },
        "id": "Tor8iEkBNa6p",
        "outputId": "e2be7649-8a72-46cb-9663-ad4de2cc2870"
      },
      "execution_count": 10,
      "outputs": [
        {
          "output_type": "stream",
          "name": "stdout",
          "text": [
            "Epoch 1/10\n",
            "1875/1875 [==============================] - 38s 20ms/step - loss: 0.2275 - accuracy: 0.9343 - val_loss: 0.0994 - val_accuracy: 0.9706\n",
            "Epoch 2/10\n",
            "1875/1875 [==============================] - 31s 16ms/step - loss: 0.0819 - accuracy: 0.9766 - val_loss: 0.0657 - val_accuracy: 0.9790\n",
            "Epoch 3/10\n",
            "1875/1875 [==============================] - 31s 16ms/step - loss: 0.0604 - accuracy: 0.9821 - val_loss: 0.0561 - val_accuracy: 0.9818\n",
            "Epoch 4/10\n",
            "1875/1875 [==============================] - 31s 16ms/step - loss: 0.0498 - accuracy: 0.9852 - val_loss: 0.0613 - val_accuracy: 0.9813\n",
            "Epoch 5/10\n",
            "1875/1875 [==============================] - 31s 16ms/step - loss: 0.0434 - accuracy: 0.9868 - val_loss: 0.0567 - val_accuracy: 0.9817\n",
            "Epoch 6/10\n",
            "1875/1875 [==============================] - 31s 17ms/step - loss: 0.0361 - accuracy: 0.9892 - val_loss: 0.0601 - val_accuracy: 0.9818\n",
            "Epoch 7/10\n",
            "1875/1875 [==============================] - 30s 16ms/step - loss: 0.0312 - accuracy: 0.9904 - val_loss: 0.0545 - val_accuracy: 0.9840\n",
            "Epoch 8/10\n",
            "1875/1875 [==============================] - 31s 16ms/step - loss: 0.0270 - accuracy: 0.9919 - val_loss: 0.0556 - val_accuracy: 0.9833\n",
            "Epoch 9/10\n",
            "1875/1875 [==============================] - 30s 16ms/step - loss: 0.0229 - accuracy: 0.9931 - val_loss: 0.0549 - val_accuracy: 0.9839\n",
            "Epoch 10/10\n",
            "1875/1875 [==============================] - 34s 18ms/step - loss: 0.0188 - accuracy: 0.9941 - val_loss: 0.0553 - val_accuracy: 0.9828\n"
          ]
        }
      ]
    },
    {
      "cell_type": "markdown",
      "source": [
        "evaluate() 메소드를 모델 인스턴스에 적용하면 모델의 학습된 가중치를 사용하여 손실과 평가지표 계산 - 약 98%"
      ],
      "metadata": {
        "id": "WeGMUkSVRwOp"
      }
    },
    {
      "cell_type": "code",
      "source": [
        "model.evaluate(x_valid_in, y_valid)"
      ],
      "metadata": {
        "colab": {
          "base_uri": "https://localhost:8080/"
        },
        "id": "Qz3CNzQLNdPz",
        "outputId": "99fd2e15-94e1-4d27-ac6d-acffeee52ca1"
      },
      "execution_count": 11,
      "outputs": [
        {
          "output_type": "stream",
          "name": "stdout",
          "text": [
            "313/313 [==============================] - 2s 7ms/step - loss: 0.0553 - accuracy: 0.9828\n"
          ]
        },
        {
          "output_type": "execute_result",
          "data": {
            "text/plain": [
              "[0.05533204227685928, 0.9828000068664551]"
            ]
          },
          "metadata": {},
          "execution_count": 11
        }
      ]
    },
    {
      "cell_type": "markdown",
      "source": [
        "훈련 결과: history 객체에 저장.\n",
        "\n",
        "훈련 셋의 손실) 계속 줄어듦\n",
        "검증 셋의 손실) 4 epoch 이후부터는 모델이 과대적합되어 더 이상 낮아지지 않는다."
      ],
      "metadata": {
        "id": "ML4vLNe9R91v"
      }
    },
    {
      "cell_type": "code",
      "source": [
        "def plot_loss_acc(history, epoch):\n",
        "\n",
        "    loss, val_loss = history.history['loss'], history.history['val_loss']\n",
        "    acc, val_acc = history.history['accuracy'], history.history['val_accuracy']\n",
        "\n",
        "    fig, axes = plt.subplots(1, 2, figsize=(12, 4))\n",
        "\n",
        "    axes[0].plot(range(1, epoch + 1), loss, label='Training')\n",
        "    axes[0].plot(range(1, epoch + 1), val_loss, label='Validation')\n",
        "    axes[0].legend(loc='best')\n",
        "    axes[0].set_title('Loss')\n",
        "\n",
        "    axes[1].plot(range(1, epoch + 1), acc, label='Training')\n",
        "    axes[1].plot(range(1, epoch + 1), val_acc, label='Validation')\n",
        "    axes[1].legend(loc='best')\n",
        "    axes[1].set_title('Accuracy')\n",
        "\n",
        "    plt.show()\n",
        "\n",
        "plot_loss_acc(history, 10)"
      ],
      "metadata": {
        "colab": {
          "base_uri": "https://localhost:8080/",
          "height": 281
        },
        "id": "Z6_017DBNfY7",
        "outputId": "b6a4de2e-b6e1-4e86-93dd-179d6ccf5ff8"
      },
      "execution_count": 12,
      "outputs": [
        {
          "output_type": "display_data",
          "data": {
            "text/plain": [
              "<Figure size 864x288 with 2 Axes>"
            ],
            "image/png": "[encoded data removed]"
          },
          "metadata": {
            "needs_background": "light"
          }
        }
      ]
    },
    {
      "cell_type": "markdown",
      "source": [
        "### 4-2-3. 모델 구조 파악"
      ],
      "metadata": {
        "id": "uyQsaxckIxkR"
      }
    },
    {
      "cell_type": "markdown",
      "source": [
        "레이어의 이름, 출력 텐서의 형태, 그리고 각 레이어를 구성하는 파라미터(가중치) 개수 알 수 있음.\n",
        "\n",
        "(28,28,1) --Conv2D--> (26,26,32)\n",
        "\n",
        "(3,3) 크기의 합성곱 필터를 사용해 이미지 가로 세로 크기가 2씩 줄어듦(패딩은 적용되지 않았음)\n",
        "\n",
        "서로 다른 32개의 필터 사용 -> (26,26) 크기의 특성맵이 32개 생성.\n",
        "\n",
        "=> (28,28,1) 이미지에 서로 다른 32개 커널을 적용해서 32가지 종류의 피처(특징)를 추출하는 것.\n",
        "\n",
        "(2,2) 크기의 풀링 레이어를 적용했기 때문에 이미지 크기 절반되어 (13,13,32) 텐서로 변환.\n",
        "\n",
        "Flatten 층에서 3차원 텐서를 1차원 텐서로 펼치면 5408개(13X13X32)원소를 갖는 1차원 벡터가 됨.\n"
      ],
      "metadata": {
        "id": "8ttzNfDGSH3J"
      }
    },
    {
      "cell_type": "code",
      "source": [
        "# 모델 구조 \n",
        "model.summary()"
      ],
      "metadata": {
        "colab": {
          "base_uri": "https://localhost:8080/"
        },
        "id": "cEFwGVIVNiZB",
        "outputId": "e449e401-753c-4922-a9d7-ee878dfbca4c"
      },
      "execution_count": 13,
      "outputs": [
        {
          "output_type": "stream",
          "name": "stdout",
          "text": [
            "Model: \"sequential\"\n",
            "_________________________________________________________________\n",
            " Layer (type)                Output Shape              Param #   \n",
            "=================================================================\n",
            " conv (Conv2D)               (None, 26, 26, 32)        320       \n",
            "                                                                 \n",
            " pool (MaxPooling2D)         (None, 13, 13, 32)        0         \n",
            "                                                                 \n",
            " flatten (Flatten)           (None, 5408)              0         \n",
            "                                                                 \n",
            " dense (Dense)               (None, 10)                54090     \n",
            "                                                                 \n",
            "=================================================================\n",
            "Total params: 54,410\n",
            "Trainable params: 54,410\n",
            "Non-trainable params: 0\n",
            "_________________________________________________________________\n"
          ]
        }
      ]
    },
    {
      "cell_type": "markdown",
      "source": [
        "생성된 모델 인스턴스의 input 속성으로부터 입력 레이어의 텐서 추출.\n",
        "\n",
        "앞에 있는 축(axis=0)의 None) 배치 크기가 들어오는 위치로서 배치 크기로 어떤 값이든 가능하다."
      ],
      "metadata": {
        "id": "eeArl-pFSoZH"
      }
    },
    {
      "cell_type": "code",
      "source": [
        "# 입력 텐서 형태 \n",
        "model.input"
      ],
      "metadata": {
        "colab": {
          "base_uri": "https://localhost:8080/"
        },
        "id": "zbNMufk8NjSX",
        "outputId": "fc9aee71-e45d-4f23-ce4d-345caa73d5d2"
      },
      "execution_count": 14,
      "outputs": [
        {
          "output_type": "execute_result",
          "data": {
            "text/plain": [
              "<KerasTensor: shape=(None, 28, 28, 1) dtype=float32 (created by layer 'conv_input')>"
            ]
          },
          "metadata": {},
          "execution_count": 14
        }
      ]
    },
    {
      "cell_type": "markdown",
      "source": [
        "output 속성으로 모델의 출력 센터 선택\n",
        "\n",
        "10개의 node를 갖는 1차원 벡터임."
      ],
      "metadata": {
        "id": "7j8jzmhtTNvF"
      }
    },
    {
      "cell_type": "code",
      "source": [
        "# 출력 텐서 형태 \n",
        "model.output"
      ],
      "metadata": {
        "colab": {
          "base_uri": "https://localhost:8080/"
        },
        "id": "6E4GlON6NqNF",
        "outputId": "106aeb45-b310-487a-a1d3-2cc0bf6637b9"
      },
      "execution_count": 15,
      "outputs": [
        {
          "output_type": "execute_result",
          "data": {
            "text/plain": [
              "<KerasTensor: shape=(None, 10) dtype=float32 (created by layer 'dense')>"
            ]
          },
          "metadata": {},
          "execution_count": 15
        }
      ]
    },
    {
      "cell_type": "code",
      "source": [
        "# 레이어 \n",
        "model.layers"
      ],
      "metadata": {
        "colab": {
          "base_uri": "https://localhost:8080/"
        },
        "id": "rWqW_oOyNvll",
        "outputId": "990baea2-2e8e-4211-9a4a-46084224c119"
      },
      "execution_count": 16,
      "outputs": [
        {
          "output_type": "execute_result",
          "data": {
            "text/plain": [
              "[<keras.layers.convolutional.Conv2D at 0x7f7423146850>,\n",
              " <keras.layers.pooling.MaxPooling2D at 0x7f742b158f90>,\n",
              " <keras.layers.core.flatten.Flatten at 0x7f742314bb10>,\n",
              " <keras.layers.core.dense.Dense at 0x7f742314bd90>]"
            ]
          },
          "metadata": {},
          "execution_count": 16
        }
      ]
    },
    {
      "cell_type": "code",
      "source": [
        "# 첫번째 레이어 선택\n",
        "model.layers[0]"
      ],
      "metadata": {
        "colab": {
          "base_uri": "https://localhost:8080/"
        },
        "id": "PbQYTKnjNt6h",
        "outputId": "f274fc0c-31d3-4df5-f7b5-44c2f8a1fd5c"
      },
      "execution_count": 17,
      "outputs": [
        {
          "output_type": "execute_result",
          "data": {
            "text/plain": [
              "<keras.layers.convolutional.Conv2D at 0x7f7423146850>"
            ]
          },
          "metadata": {},
          "execution_count": 17
        }
      ]
    },
    {
      "cell_type": "markdown",
      "source": [
        "앞의 Conv2D 레이어에는 모델 입력 데이터가 그대로 들어가기 때문에 (None, 28,28,1) 형태"
      ],
      "metadata": {
        "id": "oyeT5kKlTgne"
      }
    },
    {
      "cell_type": "code",
      "source": [
        "# 첫번째 레이어 입력\n",
        "model.layers[0].input"
      ],
      "metadata": {
        "colab": {
          "base_uri": "https://localhost:8080/"
        },
        "id": "qjyvxI3xNw1L",
        "outputId": "07ec236c-1387-4952-db29-71b4417f8de4"
      },
      "execution_count": 18,
      "outputs": [
        {
          "output_type": "execute_result",
          "data": {
            "text/plain": [
              "<KerasTensor: shape=(None, 28, 28, 1) dtype=float32 (created by layer 'conv_input')>"
            ]
          },
          "metadata": {},
          "execution_count": 18
        }
      ]
    },
    {
      "cell_type": "code",
      "source": [
        "# 첫번째 레이어 출력\n",
        "model.layers[0].output"
      ],
      "metadata": {
        "colab": {
          "base_uri": "https://localhost:8080/"
        },
        "id": "R-tQgDNsNzNP",
        "outputId": "65e95d70-1b43-481f-be92-349745d69fba"
      },
      "execution_count": 19,
      "outputs": [
        {
          "output_type": "execute_result",
          "data": {
            "text/plain": [
              "<KerasTensor: shape=(None, 26, 26, 32) dtype=float32 (created by layer 'conv')>"
            ]
          },
          "metadata": {},
          "execution_count": 19
        }
      ]
    },
    {
      "cell_type": "markdown",
      "source": [
        "각 레이어의 가중치 행렬 추천\n",
        "\n",
        "weights 속성을 각 레이어 인스턴스에 적용\n",
        "\n",
        "*con/kernel:0*) 커널(합성곱 필터) 행렬의 가중치\n",
        "\n",
        "*conv/bias:0*) 커널의 상수항(bias)"
      ],
      "metadata": {
        "id": "Yj5CVuYsVNnZ"
      }
    },
    {
      "cell_type": "code",
      "source": [
        "# 첫번째 레이어 가중치\n",
        "model.layers[0].weights"
      ],
      "metadata": {
        "colab": {
          "base_uri": "https://localhost:8080/"
        },
        "id": "w-MExQc0N0w2",
        "outputId": "2defb960-c3be-42f1-abad-43c8dd030557"
      },
      "execution_count": 20,
      "outputs": [
        {
          "output_type": "execute_result",
          "data": {
            "text/plain": [
              "[<tf.Variable 'conv/kernel:0' shape=(3, 3, 1, 32) dtype=float32, numpy=\n",
              " array([[[[-1.09287667e+00, -8.48767817e-01, -9.63079929e-01,\n",
              "           -2.30247453e-01, -6.24599874e-01, -1.25845563e+00,\n",
              "           -6.04132973e-02,  2.61304200e-01, -3.24442722e-02,\n",
              "           -6.79454580e-03,  1.80663183e-01,  1.97970405e-01,\n",
              "            3.22949916e-01, -4.54330176e-01, -4.32439238e-01,\n",
              "            1.16619535e-01, -2.15310082e-01, -2.63272196e-01,\n",
              "            2.21025608e-02,  3.54091942e-01, -1.37409866e-01,\n",
              "            3.82743061e-01, -4.29691464e-01, -3.46792400e-01,\n",
              "           -1.05090749e+00,  4.34890449e-01,  2.41481647e-01,\n",
              "            8.46830830e-02,  4.20266271e-01, -7.57081270e-01,\n",
              "            3.65406603e-01, -4.66390789e-01]],\n",
              " \n",
              "         [[-5.12189150e-01,  1.74933195e-01, -5.24773180e-01,\n",
              "           -1.04947649e-02, -2.13473961e-01, -1.04496765e+00,\n",
              "            5.23123085e-01,  2.10072145e-01,  5.75413525e-01,\n",
              "            3.25380743e-01, -3.84476155e-01,  8.24617669e-02,\n",
              "            5.91455042e-01,  1.95251793e-01, -2.41984695e-01,\n",
              "            2.21581683e-01,  3.58628750e-01,  1.66029543e-01,\n",
              "            2.80826628e-01,  6.09447241e-01,  1.62328631e-01,\n",
              "           -8.78907889e-02,  2.80278977e-02, -5.67952804e-02,\n",
              "           -1.89658493e-01,  3.03574681e-01,  1.73837960e-01,\n",
              "            1.04907848e-01, -2.96577305e-01, -7.41980672e-01,\n",
              "            1.60459682e-01, -2.79593229e-01]],\n",
              " \n",
              "         [[-3.92013878e-01, -3.59010324e-02,  4.19582665e-01,\n",
              "            1.13384323e-02,  2.29103729e-01,  3.02184224e-01,\n",
              "            5.60462892e-01, -2.26173431e-01,  7.23825753e-01,\n",
              "            4.00188386e-01, -6.34813249e-01, -1.69575065e-01,\n",
              "            6.04597211e-01,  2.47403726e-01,  3.41407239e-01,\n",
              "           -2.84958005e-01,  2.79948026e-01,  2.10598946e-01,\n",
              "           -2.15802774e-01,  1.27016053e-01, -5.87926328e-01,\n",
              "           -3.85604799e-01,  1.97085887e-01, -1.76124856e-01,\n",
              "            5.46201587e-01, -1.06842065e+00, -3.70094240e-01,\n",
              "           -4.51429449e-02, -7.62190521e-01, -5.85720658e-01,\n",
              "           -4.32445168e-01,  2.58195251e-01]]],\n",
              " \n",
              " \n",
              "        [[[ 3.44660729e-01,  2.35086694e-01,  2.57128358e-01,\n",
              "           -2.78081685e-01, -2.25168422e-01, -7.01792002e-01,\n",
              "           -1.09401715e+00, -3.64694715e-01, -4.69850391e-01,\n",
              "           -5.20017147e-01,  3.54898214e-01, -1.33933872e-02,\n",
              "            9.18237790e-02,  2.93206871e-01, -4.88618940e-01,\n",
              "            1.14144787e-01,  3.26922446e-01, -1.05471544e-01,\n",
              "           -3.04816544e-01,  2.22617447e-01,  1.09937847e-01,\n",
              "            1.39015138e-01,  1.39858440e-01,  4.73707348e-01,\n",
              "           -7.75830507e-01,  5.72823346e-01,  5.52883267e-01,\n",
              "            2.65246838e-01,  6.88056111e-01, -5.37475407e-01,\n",
              "           -1.21453710e-01,  1.85310572e-01]],\n",
              " \n",
              "         [[ 6.12787962e-01,  4.80352402e-01, -7.12615773e-02,\n",
              "            3.25209141e-01,  3.58197868e-01, -4.36083913e-01,\n",
              "            1.55452471e-02,  2.37181664e-01,  1.30249187e-01,\n",
              "           -2.57647246e-01,  8.55865031e-02,  2.32780144e-01,\n",
              "            3.44337732e-01,  1.12799726e-01,  9.71911624e-02,\n",
              "            7.29705766e-02,  1.98175058e-01,  2.48118743e-01,\n",
              "            2.81091064e-01, -5.65397032e-02,  4.92597997e-01,\n",
              "            1.40634641e-01,  2.90295482e-01,  2.31660008e-01,\n",
              "            1.48745194e-01,  3.88794750e-01,  1.94470410e-03,\n",
              "            3.47878933e-02, -1.10088721e-01,  2.11663112e-01,\n",
              "            2.07998887e-01,  3.74041647e-01]],\n",
              " \n",
              "         [[ 5.32365620e-01,  2.18253564e-02, -4.55472767e-01,\n",
              "           -1.48477390e-01,  3.23002249e-01,  7.06558704e-01,\n",
              "            4.93067324e-01,  1.00316279e-01,  4.74476159e-01,\n",
              "           -3.47910970e-01, -5.23444176e-01, -6.33927658e-02,\n",
              "            2.56445497e-01, -1.06627606e-01,  3.09436560e-01,\n",
              "            4.28121053e-02, -3.44036847e-01, -1.53127462e-01,\n",
              "           -1.00552246e-01, -7.24229574e-01, -3.74423057e-01,\n",
              "           -2.55613416e-01, -1.24274954e-01,  1.44655466e-01,\n",
              "            6.47573054e-01, -1.04685175e+00, -7.91153073e-01,\n",
              "           -9.88296047e-02, -4.57513779e-01,  2.19545975e-01,\n",
              "            8.17320682e-03,  2.99539745e-01]]],\n",
              " \n",
              " \n",
              "        [[[ 2.75907308e-01,  5.80541007e-02,  6.75971687e-01,\n",
              "            7.35000707e-03,  2.20965654e-01, -7.80644059e-01,\n",
              "           -8.19831252e-01, -2.39332132e-02, -9.05546010e-01,\n",
              "            1.42792389e-01,  2.85271406e-01, -3.16727370e-01,\n",
              "           -1.28740358e+00,  3.06097001e-01,  2.19626576e-01,\n",
              "           -4.18406695e-01,  7.50808790e-02,  2.91811436e-01,\n",
              "           -1.32145688e-01, -6.53269410e-01, -5.95025420e-01,\n",
              "           -1.47885576e-01,  1.32731553e-02, -4.48867798e-01,\n",
              "           -6.79927170e-01,  6.29009828e-02,  5.43166876e-01,\n",
              "           -3.58402431e-01,  4.72377300e-01,  3.36737067e-01,\n",
              "           -3.46525311e-01,  1.87524185e-01]],\n",
              " \n",
              "         [[-5.68749942e-02,  4.28522974e-02,  5.41011333e-01,\n",
              "            4.61308599e-01,  2.75981784e-01, -1.62159950e-01,\n",
              "           -6.27428234e-01, -8.97461250e-02, -9.30397928e-01,\n",
              "            1.45728901e-01,  5.40713489e-01,  3.34845893e-02,\n",
              "           -1.03062952e+00, -3.02014142e-01,  3.73374790e-01,\n",
              "            6.51323870e-02, -2.89065689e-01,  3.97792198e-02,\n",
              "            2.71527410e-01, -6.58873200e-01,  3.30346197e-01,\n",
              "            2.29385436e-01,  1.64902478e-01,  3.87696055e-05,\n",
              "            9.23678279e-02, -7.62386084e-01,  5.84015250e-02,\n",
              "            9.50991809e-02,  1.30976245e-01,  3.40530723e-01,\n",
              "            5.88424392e-02, -1.23087354e-01]],\n",
              " \n",
              "         [[-2.41004214e-01, -8.07123303e-01, -5.47824264e-01,\n",
              "           -4.62378234e-01, -3.03519040e-01,  6.70280099e-01,\n",
              "            9.88511592e-02,  2.42526084e-01, -2.24119201e-01,\n",
              "           -8.73084247e-01,  3.74137342e-01,  2.93266267e-01,\n",
              "           -1.18797660e+00, -4.56421375e-02,  6.22781366e-02,\n",
              "            2.79307812e-01, -3.18271220e-01, -1.03224784e-01,\n",
              "           -5.28101474e-02, -6.84858859e-01,  3.73521931e-02,\n",
              "            3.69876474e-01, -3.52013677e-01, -1.78760469e-01,\n",
              "            3.44580144e-01, -1.46236575e+00, -4.67346132e-01,\n",
              "            3.03447485e-01,  1.66381612e-01,  1.73185766e-01,\n",
              "            3.55884969e-01, -5.57978213e-01]]]], dtype=float32)>,\n",
              " <tf.Variable 'conv/bias:0' shape=(32,) dtype=float32, numpy=\n",
              " array([-0.00348203, -0.01524692, -0.00910823, -0.00117784, -0.32130504,\n",
              "        -0.00595985, -0.07788403, -0.26550493, -0.0019993 , -0.00906747,\n",
              "        -0.388521  , -0.3300782 ,  0.04810726, -0.26928672, -0.35750774,\n",
              "        -0.29685053, -0.20955515, -0.30203748, -0.15428075, -0.00449463,\n",
              "        -0.00425804, -0.43532708, -0.1829102 , -0.01369678, -0.04521132,\n",
              "         0.1836291 , -0.21784501, -0.28269958, -0.32957864, -0.05688809,\n",
              "        -0.29432023, -0.14029738], dtype=float32)>]"
            ]
          },
          "metadata": {},
          "execution_count": 20
        }
      ]
    },
    {
      "cell_type": "markdown",
      "source": [
        "(3,3) 필터의 크기\n",
        "\n",
        "(1) 입력층의 채널 개수\n",
        "\n",
        "(32) 출력층의 채널 개수\n",
        "\n",
        "=> layer[0] 커널의 학습(업데이트) 가능한 파라미터 개수는 3X3X1X32=288개\n",
        "\n",
        "상수항의 가중치 shape: (,32) = 출력층의 채널 수 \n",
        "\n",
        "=> layer[0] 커널의 총 학습(업데이트) 가능한 파라미터 = 288+32 = 320"
      ],
      "metadata": {
        "id": "LjG7nOihVoBP"
      }
    },
    {
      "cell_type": "code",
      "source": [
        "# 첫번째 레이어 커널 가중치\n",
        "model.layers[0].kernel"
      ],
      "metadata": {
        "colab": {
          "base_uri": "https://localhost:8080/"
        },
        "id": "oi807rREN3Ah",
        "outputId": "c175958f-2024-48e5-97b5-3dc54c2fe84e"
      },
      "execution_count": 21,
      "outputs": [
        {
          "output_type": "execute_result",
          "data": {
            "text/plain": [
              "<tf.Variable 'conv/kernel:0' shape=(3, 3, 1, 32) dtype=float32, numpy=\n",
              "array([[[[-1.09287667e+00, -8.48767817e-01, -9.63079929e-01,\n",
              "          -2.30247453e-01, -6.24599874e-01, -1.25845563e+00,\n",
              "          -6.04132973e-02,  2.61304200e-01, -3.24442722e-02,\n",
              "          -6.79454580e-03,  1.80663183e-01,  1.97970405e-01,\n",
              "           3.22949916e-01, -4.54330176e-01, -4.32439238e-01,\n",
              "           1.16619535e-01, -2.15310082e-01, -2.63272196e-01,\n",
              "           2.21025608e-02,  3.54091942e-01, -1.37409866e-01,\n",
              "           3.82743061e-01, -4.29691464e-01, -3.46792400e-01,\n",
              "          -1.05090749e+00,  4.34890449e-01,  2.41481647e-01,\n",
              "           8.46830830e-02,  4.20266271e-01, -7.57081270e-01,\n",
              "           3.65406603e-01, -4.66390789e-01]],\n",
              "\n",
              "        [[-5.12189150e-01,  1.74933195e-01, -5.24773180e-01,\n",
              "          -1.04947649e-02, -2.13473961e-01, -1.04496765e+00,\n",
              "           5.23123085e-01,  2.10072145e-01,  5.75413525e-01,\n",
              "           3.25380743e-01, -3.84476155e-01,  8.24617669e-02,\n",
              "           5.91455042e-01,  1.95251793e-01, -2.41984695e-01,\n",
              "           2.21581683e-01,  3.58628750e-01,  1.66029543e-01,\n",
              "           2.80826628e-01,  6.09447241e-01,  1.62328631e-01,\n",
              "          -8.78907889e-02,  2.80278977e-02, -5.67952804e-02,\n",
              "          -1.89658493e-01,  3.03574681e-01,  1.73837960e-01,\n",
              "           1.04907848e-01, -2.96577305e-01, -7.41980672e-01,\n",
              "           1.60459682e-01, -2.79593229e-01]],\n",
              "\n",
              "        [[-3.92013878e-01, -3.59010324e-02,  4.19582665e-01,\n",
              "           1.13384323e-02,  2.29103729e-01,  3.02184224e-01,\n",
              "           5.60462892e-01, -2.26173431e-01,  7.23825753e-01,\n",
              "           4.00188386e-01, -6.34813249e-01, -1.69575065e-01,\n",
              "           6.04597211e-01,  2.47403726e-01,  3.41407239e-01,\n",
              "          -2.84958005e-01,  2.79948026e-01,  2.10598946e-01,\n",
              "          -2.15802774e-01,  1.27016053e-01, -5.87926328e-01,\n",
              "          -3.85604799e-01,  1.97085887e-01, -1.76124856e-01,\n",
              "           5.46201587e-01, -1.06842065e+00, -3.70094240e-01,\n",
              "          -4.51429449e-02, -7.62190521e-01, -5.85720658e-01,\n",
              "          -4.32445168e-01,  2.58195251e-01]]],\n",
              "\n",
              "\n",
              "       [[[ 3.44660729e-01,  2.35086694e-01,  2.57128358e-01,\n",
              "          -2.78081685e-01, -2.25168422e-01, -7.01792002e-01,\n",
              "          -1.09401715e+00, -3.64694715e-01, -4.69850391e-01,\n",
              "          -5.20017147e-01,  3.54898214e-01, -1.33933872e-02,\n",
              "           9.18237790e-02,  2.93206871e-01, -4.88618940e-01,\n",
              "           1.14144787e-01,  3.26922446e-01, -1.05471544e-01,\n",
              "          -3.04816544e-01,  2.22617447e-01,  1.09937847e-01,\n",
              "           1.39015138e-01,  1.39858440e-01,  4.73707348e-01,\n",
              "          -7.75830507e-01,  5.72823346e-01,  5.52883267e-01,\n",
              "           2.65246838e-01,  6.88056111e-01, -5.37475407e-01,\n",
              "          -1.21453710e-01,  1.85310572e-01]],\n",
              "\n",
              "        [[ 6.12787962e-01,  4.80352402e-01, -7.12615773e-02,\n",
              "           3.25209141e-01,  3.58197868e-01, -4.36083913e-01,\n",
              "           1.55452471e-02,  2.37181664e-01,  1.30249187e-01,\n",
              "          -2.57647246e-01,  8.55865031e-02,  2.32780144e-01,\n",
              "           3.44337732e-01,  1.12799726e-01,  9.71911624e-02,\n",
              "           7.29705766e-02,  1.98175058e-01,  2.48118743e-01,\n",
              "           2.81091064e-01, -5.65397032e-02,  4.92597997e-01,\n",
              "           1.40634641e-01,  2.90295482e-01,  2.31660008e-01,\n",
              "           1.48745194e-01,  3.88794750e-01,  1.94470410e-03,\n",
              "           3.47878933e-02, -1.10088721e-01,  2.11663112e-01,\n",
              "           2.07998887e-01,  3.74041647e-01]],\n",
              "\n",
              "        [[ 5.32365620e-01,  2.18253564e-02, -4.55472767e-01,\n",
              "          -1.48477390e-01,  3.23002249e-01,  7.06558704e-01,\n",
              "           4.93067324e-01,  1.00316279e-01,  4.74476159e-01,\n",
              "          -3.47910970e-01, -5.23444176e-01, -6.33927658e-02,\n",
              "           2.56445497e-01, -1.06627606e-01,  3.09436560e-01,\n",
              "           4.28121053e-02, -3.44036847e-01, -1.53127462e-01,\n",
              "          -1.00552246e-01, -7.24229574e-01, -3.74423057e-01,\n",
              "          -2.55613416e-01, -1.24274954e-01,  1.44655466e-01,\n",
              "           6.47573054e-01, -1.04685175e+00, -7.91153073e-01,\n",
              "          -9.88296047e-02, -4.57513779e-01,  2.19545975e-01,\n",
              "           8.17320682e-03,  2.99539745e-01]]],\n",
              "\n",
              "\n",
              "       [[[ 2.75907308e-01,  5.80541007e-02,  6.75971687e-01,\n",
              "           7.35000707e-03,  2.20965654e-01, -7.80644059e-01,\n",
              "          -8.19831252e-01, -2.39332132e-02, -9.05546010e-01,\n",
              "           1.42792389e-01,  2.85271406e-01, -3.16727370e-01,\n",
              "          -1.28740358e+00,  3.06097001e-01,  2.19626576e-01,\n",
              "          -4.18406695e-01,  7.50808790e-02,  2.91811436e-01,\n",
              "          -1.32145688e-01, -6.53269410e-01, -5.95025420e-01,\n",
              "          -1.47885576e-01,  1.32731553e-02, -4.48867798e-01,\n",
              "          -6.79927170e-01,  6.29009828e-02,  5.43166876e-01,\n",
              "          -3.58402431e-01,  4.72377300e-01,  3.36737067e-01,\n",
              "          -3.46525311e-01,  1.87524185e-01]],\n",
              "\n",
              "        [[-5.68749942e-02,  4.28522974e-02,  5.41011333e-01,\n",
              "           4.61308599e-01,  2.75981784e-01, -1.62159950e-01,\n",
              "          -6.27428234e-01, -8.97461250e-02, -9.30397928e-01,\n",
              "           1.45728901e-01,  5.40713489e-01,  3.34845893e-02,\n",
              "          -1.03062952e+00, -3.02014142e-01,  3.73374790e-01,\n",
              "           6.51323870e-02, -2.89065689e-01,  3.97792198e-02,\n",
              "           2.71527410e-01, -6.58873200e-01,  3.30346197e-01,\n",
              "           2.29385436e-01,  1.64902478e-01,  3.87696055e-05,\n",
              "           9.23678279e-02, -7.62386084e-01,  5.84015250e-02,\n",
              "           9.50991809e-02,  1.30976245e-01,  3.40530723e-01,\n",
              "           5.88424392e-02, -1.23087354e-01]],\n",
              "\n",
              "        [[-2.41004214e-01, -8.07123303e-01, -5.47824264e-01,\n",
              "          -4.62378234e-01, -3.03519040e-01,  6.70280099e-01,\n",
              "           9.88511592e-02,  2.42526084e-01, -2.24119201e-01,\n",
              "          -8.73084247e-01,  3.74137342e-01,  2.93266267e-01,\n",
              "          -1.18797660e+00, -4.56421375e-02,  6.22781366e-02,\n",
              "           2.79307812e-01, -3.18271220e-01, -1.03224784e-01,\n",
              "          -5.28101474e-02, -6.84858859e-01,  3.73521931e-02,\n",
              "           3.69876474e-01, -3.52013677e-01, -1.78760469e-01,\n",
              "           3.44580144e-01, -1.46236575e+00, -4.67346132e-01,\n",
              "           3.03447485e-01,  1.66381612e-01,  1.73185766e-01,\n",
              "           3.55884969e-01, -5.57978213e-01]]]], dtype=float32)>"
            ]
          },
          "metadata": {},
          "execution_count": 21
        }
      ]
    },
    {
      "cell_type": "code",
      "source": [
        "# 첫번째 레이어 bias 가중치\n",
        "model.layers[0].bias"
      ],
      "metadata": {
        "colab": {
          "base_uri": "https://localhost:8080/"
        },
        "id": "DBU9_4CuN4rR",
        "outputId": "917e2782-68e2-42c1-84fa-2572d8681e6f"
      },
      "execution_count": 22,
      "outputs": [
        {
          "output_type": "execute_result",
          "data": {
            "text/plain": [
              "<tf.Variable 'conv/bias:0' shape=(32,) dtype=float32, numpy=\n",
              "array([-0.00348203, -0.01524692, -0.00910823, -0.00117784, -0.32130504,\n",
              "       -0.00595985, -0.07788403, -0.26550493, -0.0019993 , -0.00906747,\n",
              "       -0.388521  , -0.3300782 ,  0.04810726, -0.26928672, -0.35750774,\n",
              "       -0.29685053, -0.20955515, -0.30203748, -0.15428075, -0.00449463,\n",
              "       -0.00425804, -0.43532708, -0.1829102 , -0.01369678, -0.04521132,\n",
              "        0.1836291 , -0.21784501, -0.28269958, -0.32957864, -0.05688809,\n",
              "       -0.29432023, -0.14029738], dtype=float32)>"
            ]
          },
          "metadata": {},
          "execution_count": 22
        }
      ]
    },
    {
      "cell_type": "code",
      "source": [
        "# 레이어 이름 사용하여 레이어 선택\n",
        "model.get_layer('conv')"
      ],
      "metadata": {
        "colab": {
          "base_uri": "https://localhost:8080/"
        },
        "id": "NN-rIEjcN6MA",
        "outputId": "86f38a41-75cf-496a-f1f7-b883ad67c147"
      },
      "execution_count": 23,
      "outputs": [
        {
          "output_type": "execute_result",
          "data": {
            "text/plain": [
              "<keras.layers.convolutional.Conv2D at 0x7f7423146850>"
            ]
          },
          "metadata": {},
          "execution_count": 23
        }
      ]
    },
    {
      "cell_type": "markdown",
      "source": [
        "모델에 입력 데이터를 넣어주고, 모델의 첫 번째와 두 번째 레이어의 출력을 최종 출력으로 갖는 activator 모델 정의\n",
        "\n",
        "첫 번째 샘플에 대하여 각 레이어의 출력 예측"
      ],
      "metadata": {
        "id": "IIf3DeOFV_5p"
      }
    },
    {
      "cell_type": "code",
      "source": [
        "# 샘플 이미지의 레이어별 출력을 리스트에 추가 (첫번째, 두번째 레이어)\n",
        "activator = tf.keras.Model(inputs=model.input, \n",
        "                           outputs=[layer.output for layer in model.layers[:2]] ) \n",
        "activations = activator.predict(x_train_in[0][tf.newaxis, ...]) \n",
        "\n",
        "len(activations)"
      ],
      "metadata": {
        "colab": {
          "base_uri": "https://localhost:8080/"
        },
        "id": "wufZfz9QN7W6",
        "outputId": "4ce034a2-30f2-4e76-e12b-49271c135894"
      },
      "execution_count": 24,
      "outputs": [
        {
          "output_type": "execute_result",
          "data": {
            "text/plain": [
              "2"
            ]
          },
          "metadata": {},
          "execution_count": 24
        }
      ]
    },
    {
      "cell_type": "markdown",
      "source": [
        "2개의 출력 텐서 중 첫 번째는 Conv2D 레이어의 출력\n",
        "\n",
        "1: 입력 이미지의 개수 (샘플이 1개라는 뜻)"
      ],
      "metadata": {
        "id": "V2SNUpGtWHpz"
      }
    },
    {
      "cell_type": "code",
      "source": [
        "# 첫 번째 레이어(conv) 출력층 \n",
        "conv_activation = activations[0]\n",
        "conv_activation.shape"
      ],
      "metadata": {
        "colab": {
          "base_uri": "https://localhost:8080/"
        },
        "id": "QObikh9IN9MG",
        "outputId": "1ae337c2-66be-478d-a895-4e2a57dfb84d"
      },
      "execution_count": 25,
      "outputs": [
        {
          "output_type": "execute_result",
          "data": {
            "text/plain": [
              "(1, 26, 26, 32)"
            ]
          },
          "metadata": {},
          "execution_count": 25
        }
      ]
    },
    {
      "cell_type": "markdown",
      "source": [
        "첫 번째 레이어에서 출력되는 특성맵 이미지를 32개 커널별로 구분하여 시각화\n",
        "\n",
        "출력 이미지의 특징이 조금씩 차이 있음\n",
        "\n",
        "-> 커널은 입력 이미지로부터 서로 다른 피처(특징)를 추출하는 역할"
      ],
      "metadata": {
        "id": "dIXGdty9WOpf"
      }
    },
    {
      "cell_type": "code",
      "source": [
        "# Convolution 시각화\n",
        "fig, axes = plt.subplots(4, 8)\n",
        "fig.set_size_inches(10, 5)\n",
        "\n",
        "for i in range(32):\n",
        "    axes[i//8, i%8].matshow(conv_activation[0, :, :, i], cmap='viridis')\n",
        "    axes[i//8, i%8].set_title('kernel %s'%str(i), fontsize=10)\n",
        "    plt.setp( axes[i//8, i%8].get_xticklabels(), visible=False)\n",
        "    plt.setp( axes[i//8, i%8].get_yticklabels(), visible=False)\n",
        "\n",
        "plt.tight_layout()\n",
        "plt.show()"
      ],
      "metadata": {
        "colab": {
          "base_uri": "https://localhost:8080/",
          "height": 369
        },
        "id": "WI8wDkz5N_07",
        "outputId": "6be6473e-6d40-405d-c440-7a3c97225585"
      },
      "execution_count": 26,
      "outputs": [
        {
          "output_type": "display_data",
          "data": {
            "text/plain": [
              "<Figure size 720x360 with 32 Axes>"
            ],
            "image/png": "[encoded data removed]"
          },
          "metadata": {}
        }
      ]
    },
    {
      "cell_type": "markdown",
      "source": [
        "두 번째 레이어: 최대 풀링 레이어"
      ],
      "metadata": {
        "id": "g1uFaGQvWZ-t"
      }
    },
    {
      "cell_type": "code",
      "source": [
        "# 두 번째 레이어(pool) 출력층 \n",
        "pooling_activation = activations[1]\n",
        "print(pooling_activation.shape)"
      ],
      "metadata": {
        "colab": {
          "base_uri": "https://localhost:8080/"
        },
        "id": "xDB_ERTyOBTC",
        "outputId": "a816613d-9766-4fae-9291-12d4d2d164e2"
      },
      "execution_count": 27,
      "outputs": [
        {
          "output_type": "stream",
          "name": "stdout",
          "text": [
            "(1, 13, 13, 32)\n"
          ]
        }
      ]
    },
    {
      "cell_type": "markdown",
      "source": [
        "앞서 Conv2D 출력 이미지에 비하여 화소 크기가 굵어짐\n",
        "\n",
        "최대 풀링은 인근 픽셀들을 모아서 최대값으로 고정하기 때문에 픽셀 수는 줄이면서 특징을 더욱 강하게 드러낼 수 있음."
      ],
      "metadata": {
        "id": "htft3_AuWdTz"
      }
    },
    {
      "cell_type": "code",
      "source": [
        "# 시각화\n",
        "fig, axes = plt.subplots(4, 8)\n",
        "fig.set_size_inches(10, 5)\n",
        "\n",
        "for i in range(32):\n",
        "    axes[i//8, i%8].matshow(pooling_activation[0, :, :, i], cmap='viridis')\n",
        "    axes[i//8, i%8].set_title('kernel %s'%str(i), fontsize=10)\n",
        "    plt.setp( axes[i//8, i%8].get_xticklabels(), visible=False)\n",
        "    plt.setp( axes[i//8, i%8].get_yticklabels(), visible=False)\n",
        "\n",
        "plt.tight_layout()\n",
        "plt.show()"
      ],
      "metadata": {
        "colab": {
          "base_uri": "https://localhost:8080/",
          "height": 369
        },
        "id": "vIKRdUecOCvX",
        "outputId": "66b5a395-50aa-4145-b297-025e5824df12"
      },
      "execution_count": 28,
      "outputs": [
        {
          "output_type": "display_data",
          "data": {
            "text/plain": [
              "<Figure size 720x360 with 32 Axes>"
            ],
            "image/png": "[encoded data removed]"
          },
          "metadata": {}
        }
      ]
    },
    {
      "cell_type": "markdown",
      "source": [
        "## 4-3. 복잡한 모델 생성\n",
        ": 각 레이어를 기준으로 입력이 2개 이상이거나 출력이 2개 이상인 모델 만들 수 있음 or 중간에 있는 레이어를 건너뛰고 뒤쪽에 있는 레이어로 출력텐서를 전달하는 방식으로 직접 연결\n",
        "\n",
        "### 4-3-1. 데이터셋 준비"
      ],
      "metadata": {
        "id": "Jncr5c-aI2J5"
      }
    },
    {
      "cell_type": "code",
      "source": [
        "import tensorflow as tf\n",
        "import numpy as np"
      ],
      "metadata": {
        "id": "VE0Ft7DzOKuI"
      },
      "execution_count": 29,
      "outputs": []
    },
    {
      "cell_type": "markdown",
      "source": [
        "x: 0~9 숫자를 손글씨로 쓴 이미지\n",
        "\n",
        "y: 정답"
      ],
      "metadata": {
        "id": "O1wpES9LXGIK"
      }
    },
    {
      "cell_type": "code",
      "source": [
        "# MNIST 손글씨 이미지 데이터 로드\n",
        "mnist = tf.keras.datasets.mnist\n",
        "(x_train, y_train), (x_valid, y_valid) = mnist.load_data()\n",
        "\n",
        "print(x_train.shape, y_train.shape)\n",
        "print(x_valid.shape, y_valid.shape)"
      ],
      "metadata": {
        "colab": {
          "base_uri": "https://localhost:8080/"
        },
        "id": "FqfGp6z1OL_N",
        "outputId": "e3781fd8-7dff-4ae1-daba-39fbc7e05bcd"
      },
      "execution_count": 30,
      "outputs": [
        {
          "output_type": "stream",
          "name": "stdout",
          "text": [
            "(60000, 28, 28) (60000,)\n",
            "(10000, 28, 28) (10000,)\n"
          ]
        }
      ]
    },
    {
      "cell_type": "markdown",
      "source": [
        "y_odd: 홀수인지 짝수인지를 판단하는 정답\n",
        "\n",
        "y_train_odd: y_train 값이 홀수면 1, 짝수면 0으로 하는 배열"
      ],
      "metadata": {
        "id": "Q354Hjj-XLR8"
      }
    },
    {
      "cell_type": "code",
      "source": [
        "# 새로운 출력값 배열을 생성 (홀수: 1, 짝수: 0)\n",
        "y_train_odd = []\n",
        "for y in y_train:\n",
        "    if y % 2==0:\n",
        "        y_train_odd.append(0)\n",
        "    else:\n",
        "        y_train_odd.append(1)\n",
        "\n",
        "y_train_odd = np.array(y_train_odd)\n",
        "y_train_odd.shape"
      ],
      "metadata": {
        "colab": {
          "base_uri": "https://localhost:8080/"
        },
        "id": "aqZxwoQgOPz8",
        "outputId": "58414ef3-c515-4b64-a2d6-65c9b8ebdf64"
      },
      "execution_count": 31,
      "outputs": [
        {
          "output_type": "execute_result",
          "data": {
            "text/plain": [
              "(60000,)"
            ]
          },
          "metadata": {},
          "execution_count": 31
        }
      ]
    },
    {
      "cell_type": "markdown",
      "source": [
        "원본 y_train 배열과 홀짝으로 분류한 y_train_odd 배열 동시에 출력해 비교 - 홀짝 여부 잘 정리됨."
      ],
      "metadata": {
        "id": "eyjEDfeDXrGK"
      }
    },
    {
      "cell_type": "code",
      "source": [
        "print(y_train[:10])\n",
        "print(y_train_odd[:10])"
      ],
      "metadata": {
        "colab": {
          "base_uri": "https://localhost:8080/"
        },
        "id": "M8alpvt1ORtR",
        "outputId": "caf58e48-1d16-4c3f-8288-64ea6717d339"
      },
      "execution_count": 32,
      "outputs": [
        {
          "output_type": "stream",
          "name": "stdout",
          "text": [
            "[5 0 4 1 9 2 1 3 1 4]\n",
            "[1 0 0 1 1 0 1 1 1 0]\n"
          ]
        }
      ]
    },
    {
      "cell_type": "markdown",
      "source": [
        "검증 데이터 셋에 대해서도 홀짝을 나타내는 y_valid_odd 배열 만듦"
      ],
      "metadata": {
        "id": "vLKgoA3yXwLt"
      }
    },
    {
      "cell_type": "code",
      "source": [
        "# Validation 데이터셋 처리\n",
        "y_valid_odd = []\n",
        "for y in y_valid:\n",
        "    if y % 2==0:\n",
        "        y_valid_odd.append(0)\n",
        "    else:\n",
        "        y_valid_odd.append(1)\n",
        "\n",
        "y_valid_odd = np.array(y_valid_odd)\n",
        "y_valid_odd.shape"
      ],
      "metadata": {
        "colab": {
          "base_uri": "https://localhost:8080/"
        },
        "id": "Oc_T3u4EOTyf",
        "outputId": "f3dc6c6a-7074-4d94-a593-99deaca12e90"
      },
      "execution_count": 33,
      "outputs": [
        {
          "output_type": "execute_result",
          "data": {
            "text/plain": [
              "(10000,)"
            ]
          },
          "metadata": {},
          "execution_count": 33
        }
      ]
    },
    {
      "cell_type": "markdown",
      "source": [
        "색상이 하나인 모노 컬러 이미지이므로, 새로운 축을 추가하고 채널 개수를 1개로 지정.\n",
        "\n",
        "텐서플로의 *expand_dims()* 함수에 원본 배열을 입력하고, 새롭게 추가하려는 축의 인덱스를 지정하면 해당 인덱스에 새로운 축 추가됨. 여기에서는 축의 인덱스로 -1을 지정했기 때문에 새로운 축은 끝에 추가되어 (60000,28,28) -> (60000,28,28,1)"
      ],
      "metadata": {
        "id": "GWMurP1SX0wn"
      }
    },
    {
      "cell_type": "code",
      "source": [
        "# 정규화(Normalization)\n",
        "x_train = x_train / 255.0\n",
        "x_valid = x_valid / 255.0\n",
        "\n",
        "# 채널 추가\n",
        "x_train_in = tf.expand_dims(x_train, -1)\n",
        "x_valid_in = tf.expand_dims(x_valid, -1)\n",
        "\n",
        "print(x_train_in.shape, x_valid_in.shape)"
      ],
      "metadata": {
        "colab": {
          "base_uri": "https://localhost:8080/"
        },
        "id": "eA0JhRVfOWD9",
        "outputId": "50e5929a-317a-41fc-b3f4-ed210f22edf7"
      },
      "execution_count": 34,
      "outputs": [
        {
          "output_type": "stream",
          "name": "stdout",
          "text": [
            "(60000, 28, 28, 1) (10000, 28, 28, 1)\n"
          ]
        }
      ]
    },
    {
      "cell_type": "markdown",
      "source": [
        "### 4-3-2. Functional API로 다중 입력, 다중 출력 레이어 생성\n",
        ": 다중 입력/다중 출력 같은 구조 만들 수 있음\n",
        "\n",
        "아래 코드에서 inputs: Conv2D 레이어와 Flatten 레이어의 입력으로 사용됨. 따라서, 입력 레이어는 2개의 출력을 갖게 된다. 서로 다른 2개의 출력은 각각 다른 레이어의 입력으로 사용되고, 최종적으로 Concatenate 레이어에서 합쳐진 다음에 Dense 레이어를 통과한다."
      ],
      "metadata": {
        "id": "63xysjJVI5Ne"
      }
    },
    {
      "cell_type": "code",
      "source": [
        "# Functional API를 사용하여 모델 생성\n",
        "\n",
        "inputs = tf.keras.layers.Input(shape=(28, 28, 1))\n",
        "\n",
        "conv = tf.keras.layers.Conv2D(32, (3, 3), activation='relu')(inputs)\n",
        "pool = tf.keras.layers.MaxPooling2D((2, 2))(conv)\n",
        "flat = tf.keras.layers.Flatten()(pool)\n",
        "\n",
        "flat_inputs = tf.keras.layers.Flatten()(inputs)\n",
        "concat = tf.keras.layers.Concatenate()([flat, flat_inputs])\n",
        "outputs = tf.keras.layers.Dense(10, activation='softmax')(concat)\n",
        "\n",
        "model = tf.keras.models.Model(inputs=inputs, outputs=outputs)\n",
        "\n",
        "model.summary()"
      ],
      "metadata": {
        "colab": {
          "base_uri": "https://localhost:8080/"
        },
        "id": "juzJmnJyOW2b",
        "outputId": "8e81f99f-0ddd-439a-c93b-c8bf4b9040da"
      },
      "execution_count": 35,
      "outputs": [
        {
          "output_type": "stream",
          "name": "stdout",
          "text": [
            "Model: \"model_1\"\n",
            "__________________________________________________________________________________________________\n",
            " Layer (type)                   Output Shape         Param #     Connected to                     \n",
            "==================================================================================================\n",
            " input_1 (InputLayer)           [(None, 28, 28, 1)]  0           []                               \n",
            "                                                                                                  \n",
            " conv2d (Conv2D)                (None, 26, 26, 32)   320         ['input_1[0][0]']                \n",
            "                                                                                                  \n",
            " max_pooling2d (MaxPooling2D)   (None, 13, 13, 32)   0           ['conv2d[0][0]']                 \n",
            "                                                                                                  \n",
            " flatten_1 (Flatten)            (None, 5408)         0           ['max_pooling2d[0][0]']          \n",
            "                                                                                                  \n",
            " flatten_2 (Flatten)            (None, 784)          0           ['input_1[0][0]']                \n",
            "                                                                                                  \n",
            " concatenate (Concatenate)      (None, 6192)         0           ['flatten_1[0][0]',              \n",
            "                                                                  'flatten_2[0][0]']              \n",
            "                                                                                                  \n",
            " dense_1 (Dense)                (None, 10)           61930       ['concatenate[0][0]']            \n",
            "                                                                                                  \n",
            "==================================================================================================\n",
            "Total params: 62,250\n",
            "Trainable params: 62,250\n",
            "Non-trainable params: 0\n",
            "__________________________________________________________________________________________________\n"
          ]
        }
      ]
    },
    {
      "cell_type": "code",
      "source": [
        "# 모델 구조 출력 및 이미지 파일로 저장\n",
        "from tensorflow.python.keras.utils.vis_utils import plot_model\n",
        "plot_model(model, show_shapes=True, show_layer_names=True, to_file='functional_cnn.png')"
      ],
      "metadata": {
        "colab": {
          "base_uri": "https://localhost:8080/",
          "height": 505
        },
        "id": "6uktBv3pOazV",
        "outputId": "937342e2-c547-4324-a283-0f06e9d9f049"
      },
      "execution_count": 50,
      "outputs": [
        {
          "output_type": "error",
          "ename": "ImportError",
          "evalue": "ignored",
          "traceback": [
            "\u001b[0;31m---------------------------------------------------------------------------\u001b[0m",
            "\u001b[0;31mImportError\u001b[0m                               Traceback (most recent call last)",
            "\u001b[0;32m<ipython-input-50-dc9beee06826>\u001b[0m in \u001b[0;36m<module>\u001b[0;34m()\u001b[0m\n\u001b[1;32m      1\u001b[0m \u001b[0;31m# 모델 구조 출력 및 이미지 파일로 저장\u001b[0m\u001b[0;34m\u001b[0m\u001b[0;34m\u001b[0m\u001b[0;34m\u001b[0m\u001b[0m\n\u001b[1;32m      2\u001b[0m \u001b[0;32mfrom\u001b[0m \u001b[0mtensorflow\u001b[0m\u001b[0;34m.\u001b[0m\u001b[0mpython\u001b[0m\u001b[0;34m.\u001b[0m\u001b[0mkeras\u001b[0m\u001b[0;34m.\u001b[0m\u001b[0mutils\u001b[0m\u001b[0;34m.\u001b[0m\u001b[0mvis_utils\u001b[0m \u001b[0;32mimport\u001b[0m \u001b[0mplot_model\u001b[0m\u001b[0;34m\u001b[0m\u001b[0;34m\u001b[0m\u001b[0m\n\u001b[0;32m----> 3\u001b[0;31m \u001b[0mplot_model\u001b[0m\u001b[0;34m(\u001b[0m\u001b[0mmodel\u001b[0m\u001b[0;34m,\u001b[0m \u001b[0mshow_shapes\u001b[0m\u001b[0;34m=\u001b[0m\u001b[0;32mTrue\u001b[0m\u001b[0;34m,\u001b[0m \u001b[0mshow_layer_names\u001b[0m\u001b[0;34m=\u001b[0m\u001b[0;32mTrue\u001b[0m\u001b[0;34m)\u001b[0m\u001b[0;34m\u001b[0m\u001b[0;34m\u001b[0m\u001b[0m\n\u001b[0m",
            "\u001b[0;32m/usr/local/lib/python3.7/dist-packages/tensorflow/python/keras/utils/vis_utils.py\u001b[0m in \u001b[0;36mplot_model\u001b[0;34m(model, to_file, show_shapes, show_dtype, show_layer_names, rankdir, expand_nested, dpi)\u001b[0m\n\u001b[1;32m    327\u001b[0m       \u001b[0mrankdir\u001b[0m\u001b[0;34m=\u001b[0m\u001b[0mrankdir\u001b[0m\u001b[0;34m,\u001b[0m\u001b[0;34m\u001b[0m\u001b[0;34m\u001b[0m\u001b[0m\n\u001b[1;32m    328\u001b[0m       \u001b[0mexpand_nested\u001b[0m\u001b[0;34m=\u001b[0m\u001b[0mexpand_nested\u001b[0m\u001b[0;34m,\u001b[0m\u001b[0;34m\u001b[0m\u001b[0;34m\u001b[0m\u001b[0m\n\u001b[0;32m--> 329\u001b[0;31m       dpi=dpi)\n\u001b[0m\u001b[1;32m    330\u001b[0m   \u001b[0mto_file\u001b[0m \u001b[0;34m=\u001b[0m \u001b[0mpath_to_string\u001b[0m\u001b[0;34m(\u001b[0m\u001b[0mto_file\u001b[0m\u001b[0;34m)\u001b[0m\u001b[0;34m\u001b[0m\u001b[0;34m\u001b[0m\u001b[0m\n\u001b[1;32m    331\u001b[0m   \u001b[0;32mif\u001b[0m \u001b[0mdot\u001b[0m \u001b[0;32mis\u001b[0m \u001b[0;32mNone\u001b[0m\u001b[0;34m:\u001b[0m\u001b[0;34m\u001b[0m\u001b[0;34m\u001b[0m\u001b[0m\n",
            "\u001b[0;32m/usr/local/lib/python3.7/dist-packages/tensorflow/python/keras/utils/vis_utils.py\u001b[0m in \u001b[0;36mmodel_to_dot\u001b[0;34m(model, show_shapes, show_dtype, show_layer_names, rankdir, expand_nested, dpi, subgraph)\u001b[0m\n\u001b[1;32m     96\u001b[0m     \u001b[0mImportError\u001b[0m\u001b[0;34m:\u001b[0m \u001b[0;32mif\u001b[0m \u001b[0mgraphviz\u001b[0m \u001b[0;32mor\u001b[0m \u001b[0mpydot\u001b[0m \u001b[0mare\u001b[0m \u001b[0;32mnot\u001b[0m \u001b[0mavailable\u001b[0m\u001b[0;34m.\u001b[0m\u001b[0;34m\u001b[0m\u001b[0;34m\u001b[0m\u001b[0m\n\u001b[1;32m     97\u001b[0m   \"\"\"\n\u001b[0;32m---> 98\u001b[0;31m   \u001b[0;32mfrom\u001b[0m \u001b[0mtensorflow\u001b[0m\u001b[0;34m.\u001b[0m\u001b[0mpython\u001b[0m\u001b[0;34m.\u001b[0m\u001b[0mkeras\u001b[0m\u001b[0;34m.\u001b[0m\u001b[0mlayers\u001b[0m \u001b[0;32mimport\u001b[0m \u001b[0mwrappers\u001b[0m\u001b[0;34m\u001b[0m\u001b[0;34m\u001b[0m\u001b[0m\n\u001b[0m\u001b[1;32m     99\u001b[0m   \u001b[0;32mfrom\u001b[0m \u001b[0mtensorflow\u001b[0m\u001b[0;34m.\u001b[0m\u001b[0mpython\u001b[0m\u001b[0;34m.\u001b[0m\u001b[0mkeras\u001b[0m\u001b[0;34m.\u001b[0m\u001b[0mengine\u001b[0m \u001b[0;32mimport\u001b[0m \u001b[0msequential\u001b[0m\u001b[0;34m\u001b[0m\u001b[0;34m\u001b[0m\u001b[0m\n\u001b[1;32m    100\u001b[0m   \u001b[0;32mfrom\u001b[0m \u001b[0mtensorflow\u001b[0m\u001b[0;34m.\u001b[0m\u001b[0mpython\u001b[0m\u001b[0;34m.\u001b[0m\u001b[0mkeras\u001b[0m\u001b[0;34m.\u001b[0m\u001b[0mengine\u001b[0m \u001b[0;32mimport\u001b[0m \u001b[0mfunctional\u001b[0m\u001b[0;34m\u001b[0m\u001b[0;34m\u001b[0m\u001b[0m\n",
            "\u001b[0;31mImportError\u001b[0m: cannot import name 'wrappers' from 'tensorflow.python.keras.layers' (/usr/local/lib/python3.7/dist-packages/tensorflow/python/keras/layers/__init__.py)",
            "",
            "\u001b[0;31m---------------------------------------------------------------------------\u001b[0;32m\nNOTE: If your import is failing due to a missing package, you can\nmanually install dependencies using either !pip or !apt.\n\nTo view examples of installing some common dependencies, click the\n\"Open Examples\" button below.\n\u001b[0;31m---------------------------------------------------------------------------\u001b[0m\n"
          ],
          "errorDetails": {
            "actions": [
              {
                "action": "open_url",
                "actionText": "Open Examples",
                "url": "/notebooks/snippets/importing_libraries.ipynb"
              }
            ]
          }
        }
      ]
    },
    {
      "cell_type": "markdown",
      "source": [
        "다중 분류 모델에 맞게 손실함수와 평가지표를 지정하고, 옵티마이저로는 adam 사용\n",
        "\n",
        "10 epoch에 대한 모델 훈련을 마치고 검증 데이터에 대한 모델의 예측 성능 평가.\n",
        "\n",
        "10개의 숫자 레이블을 맞추는 모델의 정확도는 98%로서 앞서 학습했던 Sequential 모델과 큰 차이는 없음."
      ],
      "metadata": {
        "id": "JTlDc4i4Yj0B"
      }
    },
    {
      "cell_type": "code",
      "source": [
        "# 모델 컴파일\n",
        "model.compile(optimizer='adam', loss='sparse_categorical_crossentropy', metrics=['accuracy'])\n",
        "\n",
        "# 모델 훈련\n",
        "history = model.fit(x_train_in, y_train, \n",
        "                    validation_data=(x_valid_in, y_valid), \n",
        "                    epochs=10)\n",
        "\n",
        "# 모델 성능\n",
        "val_loss, val_acc = model.evaluate(x_valid_in, y_valid)\n",
        "print(val_loss, val_acc)"
      ],
      "metadata": {
        "colab": {
          "base_uri": "https://localhost:8080/"
        },
        "id": "S1KZG_oZOdU6",
        "outputId": "eba7d379-a991-48d0-a2ca-3f95b1000732"
      },
      "execution_count": 37,
      "outputs": [
        {
          "output_type": "stream",
          "name": "stdout",
          "text": [
            "Epoch 1/10\n",
            "1875/1875 [==============================] - 35s 18ms/step - loss: 0.1950 - accuracy: 0.9446 - val_loss: 0.0824 - val_accuracy: 0.9745\n",
            "Epoch 2/10\n",
            "1875/1875 [==============================] - 31s 17ms/step - loss: 0.0732 - accuracy: 0.9785 - val_loss: 0.0653 - val_accuracy: 0.9783\n",
            "Epoch 3/10\n",
            "1875/1875 [==============================] - 32s 17ms/step - loss: 0.0570 - accuracy: 0.9829 - val_loss: 0.0665 - val_accuracy: 0.9794\n",
            "Epoch 4/10\n",
            "1875/1875 [==============================] - 31s 17ms/step - loss: 0.0467 - accuracy: 0.9860 - val_loss: 0.0550 - val_accuracy: 0.9831\n",
            "Epoch 5/10\n",
            "1875/1875 [==============================] - 31s 16ms/step - loss: 0.0386 - accuracy: 0.9878 - val_loss: 0.0611 - val_accuracy: 0.9805\n",
            "Epoch 6/10\n",
            "1875/1875 [==============================] - 31s 16ms/step - loss: 0.0328 - accuracy: 0.9899 - val_loss: 0.0552 - val_accuracy: 0.9831\n",
            "Epoch 7/10\n",
            "1875/1875 [==============================] - 31s 17ms/step - loss: 0.0277 - accuracy: 0.9913 - val_loss: 0.0566 - val_accuracy: 0.9821\n",
            "Epoch 8/10\n",
            "1875/1875 [==============================] - 31s 17ms/step - loss: 0.0237 - accuracy: 0.9926 - val_loss: 0.0631 - val_accuracy: 0.9810\n",
            "Epoch 9/10\n",
            "1875/1875 [==============================] - 31s 16ms/step - loss: 0.0192 - accuracy: 0.9944 - val_loss: 0.0615 - val_accuracy: 0.9832\n",
            "Epoch 10/10\n",
            "1875/1875 [==============================] - 31s 17ms/step - loss: 0.0165 - accuracy: 0.9950 - val_loss: 0.0575 - val_accuracy: 0.9835\n",
            "313/313 [==============================] - 2s 7ms/step - loss: 0.0575 - accuracy: 0.9835\n",
            "0.05753928795456886 0.9835000038146973\n"
          ]
        }
      ]
    },
    {
      "cell_type": "markdown",
      "source": [
        "### 4-3-3. 다중 출력 분류 모델\n",
        "0~9까지의 숫자를 맞추는 분류 문제+홀짝을 맞추는 분류 문제를 동시에 풀어내는 모델 정의\n",
        "\n",
        "각기 다른 문제에 맞도록 최종 분류기의 출력 레이어를 2개 만드는 것이 핵심."
      ],
      "metadata": {
        "id": "Lmhc0YjgI6p7"
      }
    },
    {
      "cell_type": "code",
      "source": [
        "# Functional API를 사용하여 모델 생성\n",
        "\n",
        "inputs = tf.keras.layers.Input(shape=(28, 28, 1), name='inputs')\n",
        "\n",
        "conv = tf.keras.layers.Conv2D(32, (3, 3), activation='relu', name='conv2d_layer')(inputs)\n",
        "pool = tf.keras.layers.MaxPooling2D((2, 2), name='maxpool_layer')(conv)\n",
        "flat = tf.keras.layers.Flatten(name='flatten_layer')(pool)\n",
        "\n",
        "flat_inputs = tf.keras.layers.Flatten()(inputs)\n",
        "concat = tf.keras.layers.Concatenate()([flat, flat_inputs])\n",
        "digit_outputs = tf.keras.layers.Dense(10, activation='softmax', name='digit_dense')(concat)\n",
        "\n",
        "odd_outputs = tf.keras.layers.Dense(1, activation='sigmoid', name='odd_dense')(flat_inputs)\n",
        "\n",
        "model = tf.keras.models.Model(inputs=inputs, outputs=[digit_outputs, odd_outputs])\n",
        "\n",
        "model.summary()"
      ],
      "metadata": {
        "colab": {
          "base_uri": "https://localhost:8080/"
        },
        "id": "R5l8R5DKOf9f",
        "outputId": "d59674b2-9e9a-48a4-a81c-d04f4530f33a"
      },
      "execution_count": 38,
      "outputs": [
        {
          "output_type": "stream",
          "name": "stdout",
          "text": [
            "Model: \"model_2\"\n",
            "__________________________________________________________________________________________________\n",
            " Layer (type)                   Output Shape         Param #     Connected to                     \n",
            "==================================================================================================\n",
            " inputs (InputLayer)            [(None, 28, 28, 1)]  0           []                               \n",
            "                                                                                                  \n",
            " conv2d_layer (Conv2D)          (None, 26, 26, 32)   320         ['inputs[0][0]']                 \n",
            "                                                                                                  \n",
            " maxpool_layer (MaxPooling2D)   (None, 13, 13, 32)   0           ['conv2d_layer[0][0]']           \n",
            "                                                                                                  \n",
            " flatten_layer (Flatten)        (None, 5408)         0           ['maxpool_layer[0][0]']          \n",
            "                                                                                                  \n",
            " flatten_3 (Flatten)            (None, 784)          0           ['inputs[0][0]']                 \n",
            "                                                                                                  \n",
            " concatenate_1 (Concatenate)    (None, 6192)         0           ['flatten_layer[0][0]',          \n",
            "                                                                  'flatten_3[0][0]']              \n",
            "                                                                                                  \n",
            " digit_dense (Dense)            (None, 10)           61930       ['concatenate_1[0][0]']          \n",
            "                                                                                                  \n",
            " odd_dense (Dense)              (None, 1)            785         ['flatten_3[0][0]']              \n",
            "                                                                                                  \n",
            "==================================================================================================\n",
            "Total params: 63,035\n",
            "Trainable params: 63,035\n",
            "Non-trainable params: 0\n",
            "__________________________________________________________________________________________________\n"
          ]
        }
      ]
    },
    {
      "cell_type": "markdown",
      "source": [
        "입력은 하나이고, 출력은 10개인 텐서와 1개인 텐서로 두 개가 확인됨."
      ],
      "metadata": {
        "id": "pW2lMYgIZBu0"
      }
    },
    {
      "cell_type": "code",
      "source": [
        "# 모델의 입력과 출력을 나타내는 텐서\n",
        "print(model.input)\n",
        "print(model.output)"
      ],
      "metadata": {
        "colab": {
          "base_uri": "https://localhost:8080/"
        },
        "id": "PO_PGpI6OiDu",
        "outputId": "ba906a34-07ba-4bd9-f09c-61edef755ae5"
      },
      "execution_count": 39,
      "outputs": [
        {
          "output_type": "stream",
          "name": "stdout",
          "text": [
            "KerasTensor(type_spec=TensorSpec(shape=(None, 28, 28, 1), dtype=tf.float32, name='inputs'), name='inputs', description=\"created by layer 'inputs'\")\n",
            "[<KerasTensor: shape=(None, 10) dtype=float32 (created by layer 'digit_dense')>, <KerasTensor: shape=(None, 1) dtype=float32 (created by layer 'odd_dense')>]\n"
          ]
        }
      ]
    },
    {
      "cell_type": "code",
      "source": [
        "plot_model(model, show_shapes=True, show_layer_names=True, to_file='multi_output_cnn.png')"
      ],
      "metadata": {
        "colab": {
          "base_uri": "https://localhost:8080/",
          "height": 469
        },
        "id": "IjK4D_sOOj4L",
        "outputId": "05facdf2-e20f-4c13-84bc-a35c46d05149"
      },
      "execution_count": 40,
      "outputs": [
        {
          "output_type": "error",
          "ename": "ImportError",
          "evalue": "ignored",
          "traceback": [
            "\u001b[0;31m---------------------------------------------------------------------------\u001b[0m",
            "\u001b[0;31mImportError\u001b[0m                               Traceback (most recent call last)",
            "\u001b[0;32m<ipython-input-40-dd3eb2069114>\u001b[0m in \u001b[0;36m<module>\u001b[0;34m()\u001b[0m\n\u001b[0;32m----> 1\u001b[0;31m \u001b[0mplot_model\u001b[0m\u001b[0;34m(\u001b[0m\u001b[0mmodel\u001b[0m\u001b[0;34m,\u001b[0m \u001b[0mshow_shapes\u001b[0m\u001b[0;34m=\u001b[0m\u001b[0;32mTrue\u001b[0m\u001b[0;34m,\u001b[0m \u001b[0mshow_layer_names\u001b[0m\u001b[0;34m=\u001b[0m\u001b[0;32mTrue\u001b[0m\u001b[0;34m,\u001b[0m \u001b[0mto_file\u001b[0m\u001b[0;34m=\u001b[0m\u001b[0;34m'multi_output_cnn.png'\u001b[0m\u001b[0;34m)\u001b[0m\u001b[0;34m\u001b[0m\u001b[0;34m\u001b[0m\u001b[0m\n\u001b[0m",
            "\u001b[0;32m/usr/local/lib/python3.7/dist-packages/tensorflow/python/keras/utils/vis_utils.py\u001b[0m in \u001b[0;36mplot_model\u001b[0;34m(model, to_file, show_shapes, show_dtype, show_layer_names, rankdir, expand_nested, dpi)\u001b[0m\n\u001b[1;32m    327\u001b[0m       \u001b[0mrankdir\u001b[0m\u001b[0;34m=\u001b[0m\u001b[0mrankdir\u001b[0m\u001b[0;34m,\u001b[0m\u001b[0;34m\u001b[0m\u001b[0;34m\u001b[0m\u001b[0m\n\u001b[1;32m    328\u001b[0m       \u001b[0mexpand_nested\u001b[0m\u001b[0;34m=\u001b[0m\u001b[0mexpand_nested\u001b[0m\u001b[0;34m,\u001b[0m\u001b[0;34m\u001b[0m\u001b[0;34m\u001b[0m\u001b[0m\n\u001b[0;32m--> 329\u001b[0;31m       dpi=dpi)\n\u001b[0m\u001b[1;32m    330\u001b[0m   \u001b[0mto_file\u001b[0m \u001b[0;34m=\u001b[0m \u001b[0mpath_to_string\u001b[0m\u001b[0;34m(\u001b[0m\u001b[0mto_file\u001b[0m\u001b[0;34m)\u001b[0m\u001b[0;34m\u001b[0m\u001b[0;34m\u001b[0m\u001b[0m\n\u001b[1;32m    331\u001b[0m   \u001b[0;32mif\u001b[0m \u001b[0mdot\u001b[0m \u001b[0;32mis\u001b[0m \u001b[0;32mNone\u001b[0m\u001b[0;34m:\u001b[0m\u001b[0;34m\u001b[0m\u001b[0;34m\u001b[0m\u001b[0m\n",
            "\u001b[0;32m/usr/local/lib/python3.7/dist-packages/tensorflow/python/keras/utils/vis_utils.py\u001b[0m in \u001b[0;36mmodel_to_dot\u001b[0;34m(model, show_shapes, show_dtype, show_layer_names, rankdir, expand_nested, dpi, subgraph)\u001b[0m\n\u001b[1;32m     96\u001b[0m     \u001b[0mImportError\u001b[0m\u001b[0;34m:\u001b[0m \u001b[0;32mif\u001b[0m \u001b[0mgraphviz\u001b[0m \u001b[0;32mor\u001b[0m \u001b[0mpydot\u001b[0m \u001b[0mare\u001b[0m \u001b[0;32mnot\u001b[0m \u001b[0mavailable\u001b[0m\u001b[0;34m.\u001b[0m\u001b[0;34m\u001b[0m\u001b[0;34m\u001b[0m\u001b[0m\n\u001b[1;32m     97\u001b[0m   \"\"\"\n\u001b[0;32m---> 98\u001b[0;31m   \u001b[0;32mfrom\u001b[0m \u001b[0mtensorflow\u001b[0m\u001b[0;34m.\u001b[0m\u001b[0mpython\u001b[0m\u001b[0;34m.\u001b[0m\u001b[0mkeras\u001b[0m\u001b[0;34m.\u001b[0m\u001b[0mlayers\u001b[0m \u001b[0;32mimport\u001b[0m \u001b[0mwrappers\u001b[0m\u001b[0;34m\u001b[0m\u001b[0;34m\u001b[0m\u001b[0m\n\u001b[0m\u001b[1;32m     99\u001b[0m   \u001b[0;32mfrom\u001b[0m \u001b[0mtensorflow\u001b[0m\u001b[0;34m.\u001b[0m\u001b[0mpython\u001b[0m\u001b[0;34m.\u001b[0m\u001b[0mkeras\u001b[0m\u001b[0;34m.\u001b[0m\u001b[0mengine\u001b[0m \u001b[0;32mimport\u001b[0m \u001b[0msequential\u001b[0m\u001b[0;34m\u001b[0m\u001b[0;34m\u001b[0m\u001b[0m\n\u001b[1;32m    100\u001b[0m   \u001b[0;32mfrom\u001b[0m \u001b[0mtensorflow\u001b[0m\u001b[0;34m.\u001b[0m\u001b[0mpython\u001b[0m\u001b[0;34m.\u001b[0m\u001b[0mkeras\u001b[0m\u001b[0;34m.\u001b[0m\u001b[0mengine\u001b[0m \u001b[0;32mimport\u001b[0m \u001b[0mfunctional\u001b[0m\u001b[0;34m\u001b[0m\u001b[0;34m\u001b[0m\u001b[0m\n",
            "\u001b[0;31mImportError\u001b[0m: cannot import name 'wrappers' from 'tensorflow.python.keras.layers' (/usr/local/lib/python3.7/dist-packages/tensorflow/python/keras/layers/__init__.py)",
            "",
            "\u001b[0;31m---------------------------------------------------------------------------\u001b[0;32m\nNOTE: If your import is failing due to a missing package, you can\nmanually install dependencies using either !pip or !apt.\n\nTo view examples of installing some common dependencies, click the\n\"Open Examples\" button below.\n\u001b[0;31m---------------------------------------------------------------------------\u001b[0m\n"
          ],
          "errorDetails": {
            "actions": [
              {
                "action": "open_url",
                "actionText": "Open Examples",
                "url": "/notebooks/snippets/importing_libraries.ipynb"
              }
            ]
          }
        }
      ]
    },
    {
      "cell_type": "markdown",
      "source": [
        "* 컴파일 시 주의: 지정한 이름='key', 해당 key에 해당하는 레이어에 적용할 손실함수와 가중치를 딕셔너리 형태로 지정\n",
        "\n",
        "* fit() 메소드를 적용할 때도 출력 값을 2개 지정하고, 레이어 이름 속성을 key로 하는 딕셔너리 형태로 각각의 출력에 맞는 정답 배열을 입력해야 한다."
      ],
      "metadata": {
        "id": "2P8tpFoPZF8f"
      }
    },
    {
      "cell_type": "code",
      "source": [
        "# 모델 컴파일\n",
        "model.compile(optimizer='adam', \n",
        "              loss={'digit_dense': 'sparse_categorical_crossentropy', 'odd_dense': 'binary_crossentropy'}, \n",
        "              loss_weights={'digit_dense': 1, 'odd_dense': 0.5}, # loss = 1.0 *sparse_categorical_crossentropy + 0.5*binary_crossentropy\n",
        "              metrics=['accuracy'])\n",
        "\n",
        "# 모델 훈련\n",
        "history = model.fit({'inputs': x_train_in}, {'digit_dense': y_train, 'odd_dense': y_train_odd}, \n",
        "                    validation_data=({'inputs': x_valid_in},  {'digit_dense': y_valid, 'odd_dense': y_valid_odd}), \n",
        "                    epochs=10)"
      ],
      "metadata": {
        "colab": {
          "base_uri": "https://localhost:8080/"
        },
        "id": "MRQAobGXOmDl",
        "outputId": "75715be1-efcb-4cb7-f4e0-f40b83b171a6"
      },
      "execution_count": 42,
      "outputs": [
        {
          "output_type": "stream",
          "name": "stdout",
          "text": [
            "Epoch 1/10\n",
            "1875/1875 [==============================] - 39s 20ms/step - loss: 0.3681 - digit_dense_loss: 0.2039 - odd_dense_loss: 0.3286 - digit_dense_accuracy: 0.9412 - odd_dense_accuracy: 0.8605 - val_loss: 0.2286 - val_digit_dense_loss: 0.0897 - val_odd_dense_loss: 0.2778 - val_digit_dense_accuracy: 0.9724 - val_odd_dense_accuracy: 0.8873\n",
            "Epoch 2/10\n",
            "1875/1875 [==============================] - 33s 17ms/step - loss: 0.2168 - digit_dense_loss: 0.0807 - odd_dense_loss: 0.2721 - digit_dense_accuracy: 0.9760 - odd_dense_accuracy: 0.8898 - val_loss: 0.1985 - val_digit_dense_loss: 0.0662 - val_odd_dense_loss: 0.2645 - val_digit_dense_accuracy: 0.9794 - val_odd_dense_accuracy: 0.8968\n",
            "Epoch 3/10\n",
            "1875/1875 [==============================] - 32s 17ms/step - loss: 0.1921 - digit_dense_loss: 0.0607 - odd_dense_loss: 0.2629 - digit_dense_accuracy: 0.9821 - odd_dense_accuracy: 0.8957 - val_loss: 0.1960 - val_digit_dense_loss: 0.0659 - val_odd_dense_loss: 0.2602 - val_digit_dense_accuracy: 0.9789 - val_odd_dense_accuracy: 0.8996\n",
            "Epoch 4/10\n",
            "1875/1875 [==============================] - 35s 19ms/step - loss: 0.1795 - digit_dense_loss: 0.0500 - odd_dense_loss: 0.2591 - digit_dense_accuracy: 0.9849 - odd_dense_accuracy: 0.8984 - val_loss: 0.1931 - val_digit_dense_loss: 0.0637 - val_odd_dense_loss: 0.2588 - val_digit_dense_accuracy: 0.9791 - val_odd_dense_accuracy: 0.9008\n",
            "Epoch 5/10\n",
            "1875/1875 [==============================] - 34s 18ms/step - loss: 0.1709 - digit_dense_loss: 0.0422 - odd_dense_loss: 0.2574 - digit_dense_accuracy: 0.9869 - odd_dense_accuracy: 0.8981 - val_loss: 0.1845 - val_digit_dense_loss: 0.0561 - val_odd_dense_loss: 0.2569 - val_digit_dense_accuracy: 0.9819 - val_odd_dense_accuracy: 0.9021\n",
            "Epoch 6/10\n",
            "1875/1875 [==============================] - 32s 17ms/step - loss: 0.1634 - digit_dense_loss: 0.0355 - odd_dense_loss: 0.2558 - digit_dense_accuracy: 0.9887 - odd_dense_accuracy: 0.8996 - val_loss: 0.1842 - val_digit_dense_loss: 0.0558 - val_odd_dense_loss: 0.2567 - val_digit_dense_accuracy: 0.9825 - val_odd_dense_accuracy: 0.9019\n",
            "Epoch 7/10\n",
            "1875/1875 [==============================] - 33s 17ms/step - loss: 0.1568 - digit_dense_loss: 0.0293 - odd_dense_loss: 0.2549 - digit_dense_accuracy: 0.9913 - odd_dense_accuracy: 0.9005 - val_loss: 0.1902 - val_digit_dense_loss: 0.0622 - val_odd_dense_loss: 0.2561 - val_digit_dense_accuracy: 0.9806 - val_odd_dense_accuracy: 0.9008\n",
            "Epoch 8/10\n",
            "1875/1875 [==============================] - 33s 17ms/step - loss: 0.1522 - digit_dense_loss: 0.0251 - odd_dense_loss: 0.2542 - digit_dense_accuracy: 0.9922 - odd_dense_accuracy: 0.9007 - val_loss: 0.1859 - val_digit_dense_loss: 0.0581 - val_odd_dense_loss: 0.2557 - val_digit_dense_accuracy: 0.9836 - val_odd_dense_accuracy: 0.8996\n",
            "Epoch 9/10\n",
            "1875/1875 [==============================] - 34s 18ms/step - loss: 0.1488 - digit_dense_loss: 0.0220 - odd_dense_loss: 0.2536 - digit_dense_accuracy: 0.9934 - odd_dense_accuracy: 0.9013 - val_loss: 0.1846 - val_digit_dense_loss: 0.0560 - val_odd_dense_loss: 0.2573 - val_digit_dense_accuracy: 0.9832 - val_odd_dense_accuracy: 0.9007\n",
            "Epoch 10/10\n",
            "1875/1875 [==============================] - 33s 18ms/step - loss: 0.1452 - digit_dense_loss: 0.0186 - odd_dense_loss: 0.2531 - digit_dense_accuracy: 0.9942 - odd_dense_accuracy: 0.9014 - val_loss: 0.1858 - val_digit_dense_loss: 0.0579 - val_odd_dense_loss: 0.2559 - val_digit_dense_accuracy: 0.9837 - val_odd_dense_accuracy: 0.9033\n"
          ]
        }
      ]
    },
    {
      "cell_type": "markdown",
      "source": [
        "숫자 맞추는 문제: 98% 정확도\n",
        "\n",
        "홀수 여부 판단하는 문제: 90% 정확도 - 레이어를 추가해 예측 정확도를 높여야."
      ],
      "metadata": {
        "id": "SCui_GV_ZVK4"
      }
    },
    {
      "cell_type": "code",
      "source": [
        "# 모델 성능\n",
        "model.evaluate({'inputs': x_valid_in}, {'digit_dense': y_valid, 'odd_dense': y_valid_odd})"
      ],
      "metadata": {
        "colab": {
          "base_uri": "https://localhost:8080/"
        },
        "id": "wT0qQ5KxOohZ",
        "outputId": "11654ec7-1e6e-4290-cdac-86df13db5227"
      },
      "execution_count": 43,
      "outputs": [
        {
          "output_type": "stream",
          "name": "stdout",
          "text": [
            "313/313 [==============================] - 2s 8ms/step - loss: 0.1858 - digit_dense_loss: 0.0579 - odd_dense_loss: 0.2559 - digit_dense_accuracy: 0.9837 - odd_dense_accuracy: 0.9033\n"
          ]
        },
        {
          "output_type": "execute_result",
          "data": {
            "text/plain": [
              "[0.18583844602108002,\n",
              " 0.057895079255104065,\n",
              " 0.25588664412498474,\n",
              " 0.9836999773979187,\n",
              " 0.9032999873161316]"
            ]
          },
          "metadata": {},
          "execution_count": 43
        }
      ]
    },
    {
      "cell_type": "code",
      "source": [
        "# 샘플 이미지 출력\n",
        "import matplotlib.pylab as plt\n",
        "\n",
        "def plot_image(data, idx):\n",
        "    plt.figure(figsize=(5, 5))\n",
        "    plt.imshow(data[idx])\n",
        "    plt.axis(\"off\")\n",
        "    plt.show()\n",
        "\n",
        "plot_image(x_valid, 0)"
      ],
      "metadata": {
        "colab": {
          "base_uri": "https://localhost:8080/",
          "height": 303
        },
        "id": "PV65EVj2Opjw",
        "outputId": "3ac00609-45c2-4eb7-d4c0-b45deba7d7bf"
      },
      "execution_count": 44,
      "outputs": [
        {
          "output_type": "display_data",
          "data": {
            "text/plain": [
              "<Figure size 360x360 with 1 Axes>"
            ],
            "image/png": "[encoded data removed]"
          },
          "metadata": {
            "needs_background": "light"
          }
        }
      ]
    },
    {
      "cell_type": "markdown",
      "source": [
        "검증 데이터셋의 모든 이미지 데이터를 입력해서 2개의 분류 문제에 대한 예측 확률을 구함.\n",
        "\n",
        "첫 번째 예측값: 10개의 분류 레이블에 대한 확률\n",
        "\n",
        "두 번째 예측값: 홀수일 확률\n",
        "\n",
        "about 숫자 7 이미지에 대한 예측 확률"
      ],
      "metadata": {
        "id": "a7hSTnfEZd3D"
      }
    },
    {
      "cell_type": "code",
      "source": [
        "digit_preds, odd_preds = model.predict(x_valid_in)\n",
        "print(digit_preds[0])\n",
        "print(odd_preds[0])"
      ],
      "metadata": {
        "colab": {
          "base_uri": "https://localhost:8080/"
        },
        "id": "wYmSuapbOr4M",
        "outputId": "164eabcb-e0f0-4fd0-fae8-ea8d083a67f0"
      },
      "execution_count": 45,
      "outputs": [
        {
          "output_type": "stream",
          "name": "stdout",
          "text": [
            "[1.49740875e-12 9.77313092e-11 8.50289883e-09 7.17284729e-06\n",
            " 2.15843294e-12 2.32200598e-13 1.29182024e-19 9.99992728e-01\n",
            " 1.16269625e-08 5.60740894e-08]\n",
            "[0.99969083]\n"
          ]
        }
      ]
    },
    {
      "cell_type": "markdown",
      "source": [
        "argmax로 예측 확률을 실제 정답 레이블로 변환\n",
        "\n",
        "검증 데이터셋의 첫 10개 이미지에 대한 예측 레이블은 다음과 같고 첫 번째 이미지를 7로 예측하고 있음."
      ],
      "metadata": {
        "id": "BXNj1e71Zp3B"
      }
    },
    {
      "cell_type": "code",
      "source": [
        "digit_labels = np.argmax(digit_preds, axis=-1)\n",
        "digit_labels[0:10]"
      ],
      "metadata": {
        "colab": {
          "base_uri": "https://localhost:8080/"
        },
        "id": "pHcmyc1pOu43",
        "outputId": "e800af10-56cb-4116-9219-d57cc5195d2b"
      },
      "execution_count": 46,
      "outputs": [
        {
          "output_type": "execute_result",
          "data": {
            "text/plain": [
              "array([7, 2, 1, 0, 4, 1, 4, 9, 5, 9])"
            ]
          },
          "metadata": {},
          "execution_count": 46
        }
      ]
    },
    {
      "cell_type": "markdown",
      "source": [
        "임계값으로 0.5를 지정했는데, 홀수일 확률>0.5인 경우 홀수로 분류\n",
        "\n",
        "첫 번째 이미지와 두 번째 이미지 각각 홀, 짝으로 잘 분류"
      ],
      "metadata": {
        "id": "ZyhAU_40ZxM2"
      }
    },
    {
      "cell_type": "code",
      "source": [
        "odd_labels = (odd_preds > 0.5).astype(np.int).reshape(1, -1)[0]\n",
        "odd_labels[0:10]"
      ],
      "metadata": {
        "colab": {
          "base_uri": "https://localhost:8080/"
        },
        "id": "WFAsV19eOwLq",
        "outputId": "4e43cfec-1df9-42d8-d71f-1d04477209e4"
      },
      "execution_count": 47,
      "outputs": [
        {
          "output_type": "stream",
          "name": "stderr",
          "text": [
            "/usr/local/lib/python3.7/dist-packages/ipykernel_launcher.py:1: DeprecationWarning: `np.int` is a deprecated alias for the builtin `int`. To silence this warning, use `int` by itself. Doing this will not modify any behavior and is safe. When replacing `np.int`, you may wish to use e.g. `np.int64` or `np.int32` to specify the precision. If you wish to review your current use, check the release note link for additional information.\n",
            "Deprecated in NumPy 1.20; for more details and guidance: https://numpy.org/devdocs/release/1.20.0-notes.html#deprecations\n",
            "  \"\"\"Entry point for launching an IPython kernel.\n"
          ]
        },
        {
          "output_type": "execute_result",
          "data": {
            "text/plain": [
              "array([1, 0, 1, 0, 0, 1, 0, 1, 1, 1])"
            ]
          },
          "metadata": {},
          "execution_count": 47
        }
      ]
    },
    {
      "cell_type": "markdown",
      "source": [
        "### 4-3-4. 전이학습(Transfer Learning)\n",
        "앞서 훈련한 모델의 일부를 가져와 그대로 사용하고, 최종 출력층만 추가하여 모델 재구성\n",
        "\n",
        "입력 레이어부터 'flatten_layer'라는 name 속성을 갖는 Flatten에 해당하는 부분을 따로 추출하여, base_model 객체 생성\n",
        "\n",
        "모델 개요를 출력해서 확인해 보면 (28,28,1) 이미지를 받아서 5408개의 피처로 특징을 추출해 출력하는 모델"
      ],
      "metadata": {
        "id": "NK3gSb6QI7x1"
      }
    },
    {
      "cell_type": "code",
      "source": [
        "# 앞의 모델에서 flatten_layer 출력을 추출\n",
        "base_model_output = model.get_layer('flatten_layer').output\n",
        "\n",
        "# 앞의 출력을 출력으로 하는 모델 정의\n",
        "base_model = tf.keras.models.Model(inputs=model.input, outputs=base_model_output, name='base')\n",
        "base_model.summary()"
      ],
      "metadata": {
        "colab": {
          "base_uri": "https://localhost:8080/"
        },
        "id": "GFfFupHzI43G",
        "outputId": "fc39abfa-84f8-47a6-ba5b-0124ca99ab32"
      },
      "execution_count": 48,
      "outputs": [
        {
          "output_type": "stream",
          "name": "stdout",
          "text": [
            "Model: \"base\"\n",
            "_________________________________________________________________\n",
            " Layer (type)                Output Shape              Param #   \n",
            "=================================================================\n",
            " inputs (InputLayer)         [(None, 28, 28, 1)]       0         \n",
            "                                                                 \n",
            " conv2d_layer (Conv2D)       (None, 26, 26, 32)        320       \n",
            "                                                                 \n",
            " maxpool_layer (MaxPooling2D  (None, 13, 13, 32)       0         \n",
            " )                                                               \n",
            "                                                                 \n",
            " flatten_layer (Flatten)     (None, 5408)              0         \n",
            "                                                                 \n",
            "=================================================================\n",
            "Total params: 320\n",
            "Trainable params: 320\n",
            "Non-trainable params: 0\n",
            "_________________________________________________________________\n"
          ]
        }
      ]
    },
    {
      "cell_type": "code",
      "source": [
        "plot_model(base_model, show_shapes=True, show_layer_names=True, to_file='base_model.png')"
      ],
      "metadata": {
        "colab": {
          "base_uri": "https://localhost:8080/",
          "height": 469
        },
        "id": "Sus5fF7OOxHz",
        "outputId": "08e0184f-87c0-49f2-d403-94240a99e0e8"
      },
      "execution_count": 49,
      "outputs": [
        {
          "output_type": "error",
          "ename": "ImportError",
          "evalue": "ignored",
          "traceback": [
            "\u001b[0;31m---------------------------------------------------------------------------\u001b[0m",
            "\u001b[0;31mImportError\u001b[0m                               Traceback (most recent call last)",
            "\u001b[0;32m<ipython-input-49-b8331571bc6c>\u001b[0m in \u001b[0;36m<module>\u001b[0;34m()\u001b[0m\n\u001b[0;32m----> 1\u001b[0;31m \u001b[0mplot_model\u001b[0m\u001b[0;34m(\u001b[0m\u001b[0mbase_model\u001b[0m\u001b[0;34m,\u001b[0m \u001b[0mshow_shapes\u001b[0m\u001b[0;34m=\u001b[0m\u001b[0;32mTrue\u001b[0m\u001b[0;34m,\u001b[0m \u001b[0mshow_layer_names\u001b[0m\u001b[0;34m=\u001b[0m\u001b[0;32mTrue\u001b[0m\u001b[0;34m,\u001b[0m \u001b[0mto_file\u001b[0m\u001b[0;34m=\u001b[0m\u001b[0;34m'base_model.png'\u001b[0m\u001b[0;34m)\u001b[0m\u001b[0;34m\u001b[0m\u001b[0;34m\u001b[0m\u001b[0m\n\u001b[0m",
            "\u001b[0;32m/usr/local/lib/python3.7/dist-packages/tensorflow/python/keras/utils/vis_utils.py\u001b[0m in \u001b[0;36mplot_model\u001b[0;34m(model, to_file, show_shapes, show_dtype, show_layer_names, rankdir, expand_nested, dpi)\u001b[0m\n\u001b[1;32m    327\u001b[0m       \u001b[0mrankdir\u001b[0m\u001b[0;34m=\u001b[0m\u001b[0mrankdir\u001b[0m\u001b[0;34m,\u001b[0m\u001b[0;34m\u001b[0m\u001b[0;34m\u001b[0m\u001b[0m\n\u001b[1;32m    328\u001b[0m       \u001b[0mexpand_nested\u001b[0m\u001b[0;34m=\u001b[0m\u001b[0mexpand_nested\u001b[0m\u001b[0;34m,\u001b[0m\u001b[0;34m\u001b[0m\u001b[0;34m\u001b[0m\u001b[0m\n\u001b[0;32m--> 329\u001b[0;31m       dpi=dpi)\n\u001b[0m\u001b[1;32m    330\u001b[0m   \u001b[0mto_file\u001b[0m \u001b[0;34m=\u001b[0m \u001b[0mpath_to_string\u001b[0m\u001b[0;34m(\u001b[0m\u001b[0mto_file\u001b[0m\u001b[0;34m)\u001b[0m\u001b[0;34m\u001b[0m\u001b[0;34m\u001b[0m\u001b[0m\n\u001b[1;32m    331\u001b[0m   \u001b[0;32mif\u001b[0m \u001b[0mdot\u001b[0m \u001b[0;32mis\u001b[0m \u001b[0;32mNone\u001b[0m\u001b[0;34m:\u001b[0m\u001b[0;34m\u001b[0m\u001b[0;34m\u001b[0m\u001b[0m\n",
            "\u001b[0;32m/usr/local/lib/python3.7/dist-packages/tensorflow/python/keras/utils/vis_utils.py\u001b[0m in \u001b[0;36mmodel_to_dot\u001b[0;34m(model, show_shapes, show_dtype, show_layer_names, rankdir, expand_nested, dpi, subgraph)\u001b[0m\n\u001b[1;32m     96\u001b[0m     \u001b[0mImportError\u001b[0m\u001b[0;34m:\u001b[0m \u001b[0;32mif\u001b[0m \u001b[0mgraphviz\u001b[0m \u001b[0;32mor\u001b[0m \u001b[0mpydot\u001b[0m \u001b[0mare\u001b[0m \u001b[0;32mnot\u001b[0m \u001b[0mavailable\u001b[0m\u001b[0;34m.\u001b[0m\u001b[0;34m\u001b[0m\u001b[0;34m\u001b[0m\u001b[0m\n\u001b[1;32m     97\u001b[0m   \"\"\"\n\u001b[0;32m---> 98\u001b[0;31m   \u001b[0;32mfrom\u001b[0m \u001b[0mtensorflow\u001b[0m\u001b[0;34m.\u001b[0m\u001b[0mpython\u001b[0m\u001b[0;34m.\u001b[0m\u001b[0mkeras\u001b[0m\u001b[0;34m.\u001b[0m\u001b[0mlayers\u001b[0m \u001b[0;32mimport\u001b[0m \u001b[0mwrappers\u001b[0m\u001b[0;34m\u001b[0m\u001b[0;34m\u001b[0m\u001b[0m\n\u001b[0m\u001b[1;32m     99\u001b[0m   \u001b[0;32mfrom\u001b[0m \u001b[0mtensorflow\u001b[0m\u001b[0;34m.\u001b[0m\u001b[0mpython\u001b[0m\u001b[0;34m.\u001b[0m\u001b[0mkeras\u001b[0m\u001b[0;34m.\u001b[0m\u001b[0mengine\u001b[0m \u001b[0;32mimport\u001b[0m \u001b[0msequential\u001b[0m\u001b[0;34m\u001b[0m\u001b[0;34m\u001b[0m\u001b[0m\n\u001b[1;32m    100\u001b[0m   \u001b[0;32mfrom\u001b[0m \u001b[0mtensorflow\u001b[0m\u001b[0;34m.\u001b[0m\u001b[0mpython\u001b[0m\u001b[0;34m.\u001b[0m\u001b[0mkeras\u001b[0m\u001b[0;34m.\u001b[0m\u001b[0mengine\u001b[0m \u001b[0;32mimport\u001b[0m \u001b[0mfunctional\u001b[0m\u001b[0;34m\u001b[0m\u001b[0;34m\u001b[0m\u001b[0m\n",
            "\u001b[0;31mImportError\u001b[0m: cannot import name 'wrappers' from 'tensorflow.python.keras.layers' (/usr/local/lib/python3.7/dist-packages/tensorflow/python/keras/layers/__init__.py)",
            "",
            "\u001b[0;31m---------------------------------------------------------------------------\u001b[0;32m\nNOTE: If your import is failing due to a missing package, you can\nmanually install dependencies using either !pip or !apt.\n\nTo view examples of installing some common dependencies, click the\n\"Open Examples\" button below.\n\u001b[0;31m---------------------------------------------------------------------------\u001b[0m\n"
          ],
          "errorDetails": {
            "actions": [
              {
                "action": "open_url",
                "actionText": "Open Examples",
                "url": "/notebooks/snippets/importing_libraries.ipynb"
              }
            ]
          }
        }
      ]
    },
    {
      "cell_type": "markdown",
      "source": [
        "앞서 정의한 base_model을 레이어로 추가하고, 최종 분류기의 역할을 하는 Dense 레이어를 새롭게 이어서 추가해 준다.\n",
        "\n",
        "총 파라미터: 54,410개(모두 훈련 가능=모델 훈련 시 파라미터 값이 업데이트)"
      ],
      "metadata": {
        "id": "EYBv8L0RaPow"
      }
    },
    {
      "cell_type": "code",
      "execution_count": 51,
      "metadata": {
        "colab": {
          "base_uri": "https://localhost:8080/"
        },
        "id": "8uKhO6BZGzfc",
        "outputId": "6df0c118-d97d-4bce-e2e5-ad96ca87f3dc"
      },
      "outputs": [
        {
          "output_type": "stream",
          "name": "stdout",
          "text": [
            "Model: \"sequential_1\"\n",
            "_________________________________________________________________\n",
            " Layer (type)                Output Shape              Param #   \n",
            "=================================================================\n",
            " base (Functional)           (None, 5408)              320       \n",
            "                                                                 \n",
            " dense_2 (Dense)             (None, 10)                54090     \n",
            "                                                                 \n",
            "=================================================================\n",
            "Total params: 54,410\n",
            "Trainable params: 54,410\n",
            "Non-trainable params: 0\n",
            "_________________________________________________________________\n"
          ]
        }
      ],
      "source": [
        "# Sequential API 적용\n",
        "digit_model = tf.keras.Sequential([\n",
        "                                   base_model,\n",
        "                                   tf.keras.layers.Dense(10, activation='softmax'),\n",
        "                                   ])\n",
        "digit_model.summary()"
      ]
    },
    {
      "cell_type": "code",
      "source": [
        "plot_model(digit_model, show_shapes=True, show_layer_names=True, to_file='digit_model.png')"
      ],
      "metadata": {
        "id": "wP_PsqpRO4GJ"
      },
      "execution_count": null,
      "outputs": []
    },
    {
      "cell_type": "markdown",
      "source": [
        "98.3%의 정확도"
      ],
      "metadata": {
        "id": "hzwMF-nCaaGz"
      }
    },
    {
      "cell_type": "code",
      "source": [
        "# 모델 컴파일\n",
        "digit_model.compile(optimizer='adam', loss='sparse_categorical_crossentropy', metrics=['accuracy'])\n",
        "\n",
        "# 모델 훈련\n",
        "history = digit_model.fit(x_train_in, y_train, \n",
        "                    validation_data=(x_valid_in, y_valid), \n",
        "                    epochs=10)"
      ],
      "metadata": {
        "colab": {
          "base_uri": "https://localhost:8080/"
        },
        "id": "34VoZSb7O582",
        "outputId": "be0fa433-789a-4be5-ee5c-87db98505fb7"
      },
      "execution_count": 52,
      "outputs": [
        {
          "output_type": "stream",
          "name": "stdout",
          "text": [
            "Epoch 1/10\n",
            "1875/1875 [==============================] - 31s 16ms/step - loss: 0.1285 - accuracy: 0.9641 - val_loss: 0.0644 - val_accuracy: 0.9798\n",
            "Epoch 2/10\n",
            "1875/1875 [==============================] - 30s 16ms/step - loss: 0.0585 - accuracy: 0.9827 - val_loss: 0.0541 - val_accuracy: 0.9835\n",
            "Epoch 3/10\n",
            "1875/1875 [==============================] - 32s 17ms/step - loss: 0.0440 - accuracy: 0.9866 - val_loss: 0.0562 - val_accuracy: 0.9823\n",
            "Epoch 4/10\n",
            "1875/1875 [==============================] - 30s 16ms/step - loss: 0.0362 - accuracy: 0.9890 - val_loss: 0.0512 - val_accuracy: 0.9838\n",
            "Epoch 5/10\n",
            "1875/1875 [==============================] - 31s 16ms/step - loss: 0.0289 - accuracy: 0.9911 - val_loss: 0.0525 - val_accuracy: 0.9838\n",
            "Epoch 6/10\n",
            "1875/1875 [==============================] - 31s 17ms/step - loss: 0.0248 - accuracy: 0.9919 - val_loss: 0.0543 - val_accuracy: 0.9836\n",
            "Epoch 7/10\n",
            "1875/1875 [==============================] - 30s 16ms/step - loss: 0.0204 - accuracy: 0.9936 - val_loss: 0.0537 - val_accuracy: 0.9851\n",
            "Epoch 8/10\n",
            "1875/1875 [==============================] - 31s 17ms/step - loss: 0.0172 - accuracy: 0.9947 - val_loss: 0.0561 - val_accuracy: 0.9835\n",
            "Epoch 9/10\n",
            "1875/1875 [==============================] - 32s 17ms/step - loss: 0.0148 - accuracy: 0.9955 - val_loss: 0.0544 - val_accuracy: 0.9847\n",
            "Epoch 10/10\n",
            "1875/1875 [==============================] - 32s 17ms/step - loss: 0.0120 - accuracy: 0.9962 - val_loss: 0.0569 - val_accuracy: 0.9833\n"
          ]
        }
      ]
    },
    {
      "cell_type": "markdown",
      "source": [
        "모델 인스턴스는 trainable 속성을 가짐. False로 지정하면 모델의 파라미터 값이 고정되어 훈련을 통해 업데이트되지 않는다.\n",
        "\n",
        "이런 방식으로 base_model_frozen을 구성하면 훈련 가능한 파라미터 개수가 0으로 확인."
      ],
      "metadata": {
        "id": "204gOmbAafDE"
      }
    },
    {
      "cell_type": "code",
      "source": [
        "# 베이스 모델의 가중치를 고정 (Freeze Model)\n",
        "\n",
        "base_model_frozen = tf.keras.models.Model(inputs=model.input, outputs=base_model_output, name='base_frozen')\n",
        "base_model_frozen.trainable = False\n",
        "base_model_frozen.summary()"
      ],
      "metadata": {
        "colab": {
          "base_uri": "https://localhost:8080/"
        },
        "id": "9CBeArpzO8Xd",
        "outputId": "7536c801-6738-41b3-e740-d7c1ccaae373"
      },
      "execution_count": 53,
      "outputs": [
        {
          "output_type": "stream",
          "name": "stdout",
          "text": [
            "Model: \"base_frozen\"\n",
            "_________________________________________________________________\n",
            " Layer (type)                Output Shape              Param #   \n",
            "=================================================================\n",
            " inputs (InputLayer)         [(None, 28, 28, 1)]       0         \n",
            "                                                                 \n",
            " conv2d_layer (Conv2D)       (None, 26, 26, 32)        320       \n",
            "                                                                 \n",
            " maxpool_layer (MaxPooling2D  (None, 13, 13, 32)       0         \n",
            " )                                                               \n",
            "                                                                 \n",
            " flatten_layer (Flatten)     (None, 5408)              0         \n",
            "                                                                 \n",
            "=================================================================\n",
            "Total params: 320\n",
            "Trainable params: 0\n",
            "Non-trainable params: 320\n",
            "_________________________________________________________________\n"
          ]
        }
      ]
    },
    {
      "cell_type": "markdown",
      "source": [
        "파라미터를 고정한 base_model_input 모델과 새로운 분류기 역할을 하는 Dense 레이어를 Functional API를 적용해 구성.\n",
        "\n",
        "총 파라미터: 54,410개이고 앞서 고정한 320개의 파라미터는 훈련 불가\n",
        "\n",
        "훈련 가능한 파라미터: Flatten 레이어의 출력 5408 + Dense 레이어의 10개 노드 사이의 가중치 (Flatten 레이어 이전에 존재하는 Conv2D 레이어의 파라미터 320개는 포함X)"
      ],
      "metadata": {
        "id": "QsZ0bOhlapHx"
      }
    },
    {
      "cell_type": "code",
      "source": [
        "# Functional API 적용\n",
        "dense_output = tf.keras.layers.Dense(10, activation='softmax')(base_model_frozen.output)\n",
        "digit_model_frozen = tf.keras.models.Model(inputs=base_model_frozen.input, outputs=dense_output)\n",
        "digit_model_frozen.summary()"
      ],
      "metadata": {
        "colab": {
          "base_uri": "https://localhost:8080/"
        },
        "id": "baRnG1U3O-C1",
        "outputId": "48441966-0f74-40e3-c4b8-e16561c3e95d"
      },
      "execution_count": 54,
      "outputs": [
        {
          "output_type": "stream",
          "name": "stdout",
          "text": [
            "Model: \"model_3\"\n",
            "_________________________________________________________________\n",
            " Layer (type)                Output Shape              Param #   \n",
            "=================================================================\n",
            " inputs (InputLayer)         [(None, 28, 28, 1)]       0         \n",
            "                                                                 \n",
            " conv2d_layer (Conv2D)       (None, 26, 26, 32)        320       \n",
            "                                                                 \n",
            " maxpool_layer (MaxPooling2D  (None, 13, 13, 32)       0         \n",
            " )                                                               \n",
            "                                                                 \n",
            " flatten_layer (Flatten)     (None, 5408)              0         \n",
            "                                                                 \n",
            " dense_3 (Dense)             (None, 10)                54090     \n",
            "                                                                 \n",
            "=================================================================\n",
            "Total params: 54,410\n",
            "Trainable params: 54,090\n",
            "Non-trainable params: 320\n",
            "_________________________________________________________________\n"
          ]
        }
      ]
    },
    {
      "cell_type": "code",
      "source": [
        "# 모델 컴파일\n",
        "digit_model_frozen.compile(optimizer='adam', loss='sparse_categorical_crossentropy', metrics=['accuracy'])\n",
        "\n",
        "# 모델 훈련\n",
        "history = digit_model_frozen.fit(x_train_in, y_train, \n",
        "                    validation_data=(x_valid_in, y_valid), \n",
        "                    epochs=10)"
      ],
      "metadata": {
        "colab": {
          "base_uri": "https://localhost:8080/"
        },
        "id": "rM0vYzjsO_lh",
        "outputId": "6c8530ad-11bb-4e5f-e280-fb12fee249d7"
      },
      "execution_count": 55,
      "outputs": [
        {
          "output_type": "stream",
          "name": "stdout",
          "text": [
            "Epoch 1/10\n",
            "1875/1875 [==============================] - 17s 9ms/step - loss: 0.1164 - accuracy: 0.9684 - val_loss: 0.0550 - val_accuracy: 0.9830\n",
            "Epoch 2/10\n",
            "1875/1875 [==============================] - 16s 9ms/step - loss: 0.0489 - accuracy: 0.9857 - val_loss: 0.0474 - val_accuracy: 0.9848\n",
            "Epoch 3/10\n",
            "1875/1875 [==============================] - 16s 8ms/step - loss: 0.0354 - accuracy: 0.9895 - val_loss: 0.0518 - val_accuracy: 0.9835\n",
            "Epoch 4/10\n",
            "1875/1875 [==============================] - 18s 9ms/step - loss: 0.0282 - accuracy: 0.9915 - val_loss: 0.0502 - val_accuracy: 0.9849\n",
            "Epoch 5/10\n",
            "1875/1875 [==============================] - 16s 9ms/step - loss: 0.0221 - accuracy: 0.9932 - val_loss: 0.0524 - val_accuracy: 0.9846\n",
            "Epoch 6/10\n",
            "1875/1875 [==============================] - 16s 9ms/step - loss: 0.0187 - accuracy: 0.9942 - val_loss: 0.0541 - val_accuracy: 0.9846\n",
            "Epoch 7/10\n",
            "1875/1875 [==============================] - 18s 9ms/step - loss: 0.0149 - accuracy: 0.9957 - val_loss: 0.0514 - val_accuracy: 0.9852\n",
            "Epoch 8/10\n",
            "1875/1875 [==============================] - 17s 9ms/step - loss: 0.0129 - accuracy: 0.9962 - val_loss: 0.0554 - val_accuracy: 0.9841\n",
            "Epoch 9/10\n",
            "1875/1875 [==============================] - 16s 9ms/step - loss: 0.0105 - accuracy: 0.9968 - val_loss: 0.0567 - val_accuracy: 0.9840\n",
            "Epoch 10/10\n",
            "1875/1875 [==============================] - 15s 8ms/step - loss: 0.0091 - accuracy: 0.9976 - val_loss: 0.0642 - val_accuracy: 0.9823\n"
          ]
        }
      ]
    },
    {
      "cell_type": "markdown",
      "source": [
        "모델 전체가 아니라 특정 레이어를 지정하여 파라미터가 업데이트되지 않도록 고정하는 방법도 가능.\n",
        "\n",
        "아래 코드: Conv2D 레이어를 취소하고 trainable 속성을 False로 지정"
      ],
      "metadata": {
        "id": "h-EhsYGaa7yP"
      }
    },
    {
      "cell_type": "code",
      "source": [
        "# 베이스 모델의 Conv2D 레이어의 가중치만 고정 (Freeze Layer)\n",
        "base_model_frozen2 = tf.keras.models.Model(inputs=model.input, outputs=base_model_output, name='base_frozen2')\n",
        "base_model_frozen2.get_layer('conv2d_layer').trainable = False\n",
        "base_model_frozen2.summary()"
      ],
      "metadata": {
        "colab": {
          "base_uri": "https://localhost:8080/"
        },
        "id": "9bF2fr2yPCqq",
        "outputId": "1e05e51d-bc4b-463b-bfcb-3ef059cafb56"
      },
      "execution_count": 56,
      "outputs": [
        {
          "output_type": "stream",
          "name": "stdout",
          "text": [
            "Model: \"base_frozen2\"\n",
            "_________________________________________________________________\n",
            " Layer (type)                Output Shape              Param #   \n",
            "=================================================================\n",
            " inputs (InputLayer)         [(None, 28, 28, 1)]       0         \n",
            "                                                                 \n",
            " conv2d_layer (Conv2D)       (None, 26, 26, 32)        320       \n",
            "                                                                 \n",
            " maxpool_layer (MaxPooling2D  (None, 13, 13, 32)       0         \n",
            " )                                                               \n",
            "                                                                 \n",
            " flatten_layer (Flatten)     (None, 5408)              0         \n",
            "                                                                 \n",
            "=================================================================\n",
            "Total params: 320\n",
            "Trainable params: 0\n",
            "Non-trainable params: 320\n",
            "_________________________________________________________________\n"
          ]
        }
      ]
    },
    {
      "cell_type": "markdown",
      "source": [
        "앞서 고정한 모델에 새로운 분류기 역할을 하는 Dense 레이어를 연결하여 모델 구성"
      ],
      "metadata": {
        "id": "GiFkqESUbGZP"
      }
    },
    {
      "cell_type": "code",
      "source": [
        "# Functional API 적용\n",
        "dense_output2 = tf.keras.layers.Dense(10, activation='softmax')(base_model_frozen2.output)\n",
        "digit_model_frozen2 = tf.keras.models.Model(inputs=base_model_frozen2.input, outputs=dense_output2)\n",
        "digit_model_frozen2.summary()"
      ],
      "metadata": {
        "colab": {
          "base_uri": "https://localhost:8080/"
        },
        "id": "mcsHJaEBPCoR",
        "outputId": "f9321f6f-19b6-4374-977a-c04ff13423c4"
      },
      "execution_count": 57,
      "outputs": [
        {
          "output_type": "stream",
          "name": "stdout",
          "text": [
            "Model: \"model_4\"\n",
            "_________________________________________________________________\n",
            " Layer (type)                Output Shape              Param #   \n",
            "=================================================================\n",
            " inputs (InputLayer)         [(None, 28, 28, 1)]       0         \n",
            "                                                                 \n",
            " conv2d_layer (Conv2D)       (None, 26, 26, 32)        320       \n",
            "                                                                 \n",
            " maxpool_layer (MaxPooling2D  (None, 13, 13, 32)       0         \n",
            " )                                                               \n",
            "                                                                 \n",
            " flatten_layer (Flatten)     (None, 5408)              0         \n",
            "                                                                 \n",
            " dense_4 (Dense)             (None, 10)                54090     \n",
            "                                                                 \n",
            "=================================================================\n",
            "Total params: 54,410\n",
            "Trainable params: 54,090\n",
            "Non-trainable params: 320\n",
            "_________________________________________________________________\n"
          ]
        }
      ]
    },
    {
      "cell_type": "code",
      "source": [
        "# 모델 컴파일\n",
        "digit_model_frozen2.compile(optimizer='adam', loss='sparse_categorical_crossentropy', metrics=['accuracy'])\n",
        "\n",
        "# 모델 훈련\n",
        "history = digit_model_frozen2.fit(x_train_in, y_train, \n",
        "                    validation_data=(x_valid_in, y_valid), \n",
        "                    epochs=10)"
      ],
      "metadata": {
        "colab": {
          "base_uri": "https://localhost:8080/"
        },
        "id": "eZeTx2eVPCfZ",
        "outputId": "a3def050-05c0-42d9-de38-69a6de75418b"
      },
      "execution_count": 58,
      "outputs": [
        {
          "output_type": "stream",
          "name": "stdout",
          "text": [
            "Epoch 1/10\n",
            "1875/1875 [==============================] - 17s 9ms/step - loss: 0.1152 - accuracy: 0.9688 - val_loss: 0.0580 - val_accuracy: 0.9812\n",
            "Epoch 2/10\n",
            "1875/1875 [==============================] - 17s 9ms/step - loss: 0.0481 - accuracy: 0.9857 - val_loss: 0.0517 - val_accuracy: 0.9840\n",
            "Epoch 3/10\n",
            "1875/1875 [==============================] - 18s 10ms/step - loss: 0.0361 - accuracy: 0.9888 - val_loss: 0.0479 - val_accuracy: 0.9852\n",
            "Epoch 4/10\n",
            "1875/1875 [==============================] - 16s 9ms/step - loss: 0.0283 - accuracy: 0.9914 - val_loss: 0.0490 - val_accuracy: 0.9840\n",
            "Epoch 5/10\n",
            "1875/1875 [==============================] - 18s 9ms/step - loss: 0.0226 - accuracy: 0.9932 - val_loss: 0.0471 - val_accuracy: 0.9858\n",
            "Epoch 6/10\n",
            "1875/1875 [==============================] - 17s 9ms/step - loss: 0.0185 - accuracy: 0.9946 - val_loss: 0.0502 - val_accuracy: 0.9851\n",
            "Epoch 7/10\n",
            "1875/1875 [==============================] - 16s 9ms/step - loss: 0.0150 - accuracy: 0.9954 - val_loss: 0.0541 - val_accuracy: 0.9838\n",
            "Epoch 8/10\n",
            "1875/1875 [==============================] - 16s 9ms/step - loss: 0.0129 - accuracy: 0.9961 - val_loss: 0.0518 - val_accuracy: 0.9854\n",
            "Epoch 9/10\n",
            "1875/1875 [==============================] - 16s 9ms/step - loss: 0.0104 - accuracy: 0.9972 - val_loss: 0.0559 - val_accuracy: 0.9833\n",
            "Epoch 10/10\n",
            "1875/1875 [==============================] - 16s 9ms/step - loss: 0.0091 - accuracy: 0.9972 - val_loss: 0.0589 - val_accuracy: 0.9842\n"
          ]
        }
      ]
    }
  ]
}
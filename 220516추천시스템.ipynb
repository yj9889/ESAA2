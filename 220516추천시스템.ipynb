{
  "nbformat": 4,
  "nbformat_minor": 0,
  "metadata": {
    "colab": {
      "name": "220516추천시스템.ipynb",
      "provenance": [],
      "authorship_tag": "ABX9TyOf/cdHql+Ys1lnbzeI5rJx",
      "include_colab_link": true
    },
    "kernelspec": {
      "name": "python3",
      "display_name": "Python 3"
    },
    "language_info": {
      "name": "python"
    }
  },
  "cells": [
    {
      "cell_type": "markdown",
      "metadata": {
        "id": "view-in-github",
        "colab_type": "text"
      },
      "source": [
        "<a href=\"https://colab.research.google.com/github/yj9889/ESAA2/blob/main/220516%EC%B6%94%EC%B2%9C%EC%8B%9C%EC%8A%A4%ED%85%9C.ipynb\" target=\"_parent\"><img src=\"https://colab.research.google.com/assets/colab-badge.svg\" alt=\"Open In Colab\"/></a>"
      ]
    },
    {
      "cell_type": "markdown",
      "source": [
        "# 파이썬 머신러닝 ch9.추천시스템 \n",
        "1~4 pg. 562-579"
      ],
      "metadata": {
        "id": "2kIqurybAuXv"
      }
    },
    {
      "cell_type": "markdown",
      "source": [
        "> ## 9.1 추천 시스템의 개요와 배경\n",
        "\n",
        "**추천 시스템의 개요**\n",
        "\n",
        "유튜브, 애플 뮤직, 아마존, 이베이 - 추천엔진\n",
        "\n",
        "**온라인 스토어의 필수 요소, 추천 시스템**\n",
        "\n",
        "\n",
        "**추천 시스템의 유형**\n",
        "\n",
        "* 콘텐츠 기반 필터링(Content based)\n",
        "* 협업 필터링(Collaborative)\n",
        "  * 최근접 이웃(Nearest Neighbor) 협업 필터링\n",
        "    * 아마존\n",
        "  * 잠재 요인(Latent Factor) 협업 필터링\n",
        "    * 넷플릭스 추천 시스템 경연 대회 - 행렬 분해 기법"
      ],
      "metadata": {
        "id": "8y9zL3IYE5m2"
      }
    },
    {
      "cell_type": "markdown",
      "source": [
        "> ## 9.2 콘텐츠 기반 필터링 추천 시스템\n",
        "\n",
        ": 사용자가 특정한 아이템을 매우 선호하는 경우, 그 아이템과 비슷한 콘텐츠(영화 - 장르, 감독, 출연 배우, 키워드)를 가진 다른 아이템 추천\n",
        "\n"
      ],
      "metadata": {
        "id": "7Ks2BPgBFLB7"
      }
    },
    {
      "cell_type": "markdown",
      "source": [
        "> ## 9.3 최근접 이웃 협업 필터링 = 메모리 협업 필터링\n",
        "\n",
        ": 사용자가 아이템에 매긴 평점 정보나 상품 구매 이력과 같은 사용자 행동 양식만을 기반으로 추천 수행\n",
        "\n",
        "\n",
        "* 목표: **사용자-아이템 평점 매트릭스**와 같은 축적된 사용자 행동 데이터를 기반으로 사용자가 아직 평가하지 않은 아이템 예측 평가하는 것.\n",
        "  * 행: 개별 사용자\n",
        "  * 열: 개별 아이템\n",
        "  * 각 칸: 평점\n",
        "  * *pivor_table()*:레코드 레벨 형태 -> 사용자-아이템 평점 행렬 형태\n",
        "\n",
        "\n",
        "* **사용자 기반**\n",
        "  * 행: 개별 사용자\n",
        "  * 열: 개별 아이템\n",
        "    * \"당신과 비슷한 고객들이 다음 상품도 구매했습니다.\"\n",
        "\n",
        "\n",
        "* **아이템 기반** - 더 높은 정확도\n",
        "  * 행: 개별 아이템\n",
        "  * 열: 개별 사용자\n",
        "    * \"이 상품을 선택한 고객들은 다음 상품도 구매했습니다.\"\n"
      ],
      "metadata": {
        "id": "jfduroSQFMNn"
      }
    },
    {
      "cell_type": "markdown",
      "source": [
        "> ## 9.4 잠재 요인 협업 필터링\n",
        "\n",
        "### **잠재 요인 협업 필터링의 이해**\n",
        "\n",
        ": 사용자-아이템 평점 매트릭스 속에 숨어 있는 잠재 요인을 추출해 추천 예측할 수 있게 하는 기법\n",
        "\n",
        "행렬분해: 대규모 다차원 행렬을 SVD와 같은 차원 감소 기법으로 분해하는 과정에서 잠재 요인을 추출\n",
        "\n",
        "\n",
        "* 알고리즘의 골자\n",
        "\n",
        "*다차원 희소 행렬* **사용자-아이템 행렬** \n",
        "\n",
        "-> *저차원 밀집 행렬* **사용자-잠재 요인 행렬** & **잠재요인-아이템 행렬** *영화 장르 선호도&영화의 장르별 특성값*\n",
        "\n",
        "=(내적)=> 새로운 **예측 사용자-아이템 행렬**\n",
        "\n"
      ],
      "metadata": {
        "id": "QbYTaEDGFNeS"
      }
    },
    {
      "cell_type": "markdown",
      "source": [
        "### **행렬 분해의 이해**\n",
        "\n",
        "* SVD(Singular Vector Decomposition)\n",
        "  * 행렬 분해, NaN값이 없는 행렬에만. (NaN 값 많으면 SGD, ALS)\n",
        "* NMF(Non-Negative Matrix Factorization)\n",
        "\n",
        "* R = P * Q.T *(M,N) = (M,K)X(K,N)\n",
        "  * M: 총 사용자 수\n",
        "  * N: 총 아이템 수\n",
        "  * K: 잠재 요인의 차원 수\n",
        "  * R: MXN 차원의 사용자-아이템 평점 행렬\n",
        "  * P: 사용자의 잠재 요인과의 관계 값을 가지는 MXK 차원의 사용자-잠재 요인 행렬\n",
        "  * Q: 아이템과 잠재 요인과의 관계 값을 가지는 NXK 차원의 아이템-잠재 요인 행렬\n",
        "  * Q.T: Q 매트릭스의 행과 열 값을 교환한 전치 행렬\n",
        "\n"
      ],
      "metadata": {
        "id": "7a8zZjhm4l23"
      }
    },
    {
      "cell_type": "markdown",
      "source": [
        "### **확률적 경사 하강법을 이용한 행렬 분해**\n",
        "1. P와 Q를 임의의 값을 가진 행렬로 설정\n",
        "2. P와 Q.T 값을 곱해 예측 R 행렬로 계산하고 예측 R 행렬과 실제 R 행렬에 해당하는 오류 값 계산\n",
        "3. 이 오류 값을 최소화할 수 있도록 P와 Q 행렬을 적절한 값으로 각각 업데이트\n",
        "4. 만족할 만한 오류 값을 가질 때까지 2,3번 작업을 반복하면서 P와 Q 값을 업데이트해 근사화\n",
        "\n",
        "아래: 실제 값과 예측값의 오류 최소화와 L2규제를 고려한 비용 함수식"
      ],
      "metadata": {
        "id": "Vd6w7b2a69yc"
      }
    },
    {
      "cell_type": "markdown",
      "source": [
        "![image.png](data:image/png;base64,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)"
      ],
      "metadata": {
        "id": "IfjbKv9k9Zax"
      }
    },
    {
      "cell_type": "markdown",
      "source": [
        "아래: 위 비용함수를 최소화하기 위해 업데이트된 값\n",
        "* P_u: P 행렬의 사용자 u행 벡터\n",
        "* Q^t_i: Q 행렬의 아이템 i행의 전치 벡터\n",
        "* r(u,i): 실제 R 행렬의 u행, i열에 위치한 값\n",
        "* r(u,i)^: 예측 R^ 행렬의 u행, i열에 위치한 값\n",
        "* e(u,i): u행, i열에 위치한 실제 행렬 값과 예측 행렬 값의 차이 오류\n",
        "* 람다: SGD 학습률\n",
        "* 감마: L2 규제 계수"
      ],
      "metadata": {
        "id": "rG0HumKm9n0M"
      }
    },
    {
      "cell_type": "markdown",
      "source": [
        "![image.png](data:image/png;base64,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)"
      ],
      "metadata": {
        "id": "YS_yoxgi9gPB"
      }
    },
    {
      "cell_type": "markdown",
      "source": [
        "L2 규제를 반영해 실제 R 행렬 값과 예측 R 행렬 값의 차이를 최소화하는 방향성을 가지고 P 행렬과 Q 행렬에 업데이트 값을 반복적으로 수행하면서 최적화된 예측 R 행렬 구함"
      ],
      "metadata": {
        "id": "K5yxEypC-gVy"
      }
    },
    {
      "cell_type": "code",
      "execution_count": 1,
      "metadata": {
        "id": "6nkKzPPb_kfG"
      },
      "outputs": [],
      "source": [
        "import numpy as np\n",
        "\n",
        "# 원본 행렬 R 생성, 분해 행렬 P와 Q 초기화, 잠재요인 차원 K는 3 설정. \n",
        "R = np.array([[4, np.NaN, np.NaN, 2, np.NaN ],\n",
        "              [np.NaN, 5, np.NaN, 3, 1 ],\n",
        "              [np.NaN, np.NaN, 3, 4, 4 ],\n",
        "              [5, 2, 1, 2, np.NaN ]])\n",
        "num_users, num_items = R.shape\n",
        "K=3\n",
        "\n",
        "# P와 Q 매트릭스의 크기를 지정하고 정규분포를 가진 random한 값으로 입력합니다. \n",
        "np.random.seed(1)\n",
        "P = np.random.normal(scale=1./K, size=(num_users, K))\n",
        "Q = np.random.normal(scale=1./K, size=(num_items, K))"
      ]
    },
    {
      "cell_type": "code",
      "source": [
        "from sklearn.metrics import mean_squared_error\n",
        "\n",
        "def get_rmse(R, P, Q, non_zeros):\n",
        "    error = 0\n",
        "    # 두개의 분해된 행렬 P와 Q.T의 내적으로 예측 R 행렬 생성\n",
        "    full_pred_matrix = np.dot(P, Q.T)\n",
        "    \n",
        "    # 실제 R 행렬에서 널이 아닌 값의 위치 인덱스 추출하여 실제 R 행렬과 예측 행렬의 RMSE 추출\n",
        "    x_non_zero_ind = [non_zero[0] for non_zero in non_zeros]\n",
        "    y_non_zero_ind = [non_zero[1] for non_zero in non_zeros]\n",
        "    R_non_zeros = R[x_non_zero_ind, y_non_zero_ind]\n",
        "    full_pred_matrix_non_zeros = full_pred_matrix[x_non_zero_ind, y_non_zero_ind]\n",
        "      \n",
        "    mse = mean_squared_error(R_non_zeros, full_pred_matrix_non_zeros)\n",
        "    rmse = np.sqrt(mse)\n",
        "    \n",
        "    return rmse"
      ],
      "metadata": {
        "id": "_BCWyWe5E0I7"
      },
      "execution_count": 2,
      "outputs": []
    },
    {
      "cell_type": "code",
      "source": [
        "# R > 0 인 행 위치, 열 위치, 값을 non_zeros 리스트에 저장. \n",
        "non_zeros = [ (i, j, R[i,j]) for i in range(num_users) for j in range(num_items) if R[i,j] > 0 ]\n",
        "\n",
        "steps=1000\n",
        "learning_rate=0.01\n",
        "r_lambda=0.01\n",
        "\n",
        "# SGD 기법으로 P와 Q 매트릭스를 계속 업데이트. \n",
        "for step in range(steps): #steps: SGD를 반복해서 업데이트할 횟수\n",
        "    for i, j, r in non_zeros:\n",
        "        # 실제 값과 예측 값의 차이인 오류 값 구함\n",
        "        eij = r - np.dot(P[i, :], Q[j, :].T)\n",
        "        # Regularization을 반영한 SGD 업데이트 공식 적용\n",
        "        P[i,:] = P[i,:] + learning_rate*(eij * Q[j, :] - r_lambda*P[i,:]) #learning rate: SGD의 학습률, r_lambda: L2 규제 계수\n",
        "        Q[j,:] = Q[j,:] + learning_rate*(eij * P[i, :] - r_lambda*Q[j,:])\n",
        "\n",
        "    rmse = get_rmse(R, P, Q, non_zeros) # 50회마다 오류값 출력\n",
        "    if (step % 50) == 0 :\n",
        "        print(\"### iteration step : \", step,\" rmse : \", rmse)"
      ],
      "metadata": {
        "colab": {
          "base_uri": "https://localhost:8080/"
        },
        "id": "T4TL1L8IE0Gw",
        "outputId": "f9ca2776-27aa-4f92-863f-e7bdf19bc2fc"
      },
      "execution_count": 3,
      "outputs": [
        {
          "output_type": "stream",
          "name": "stdout",
          "text": [
            "### iteration step :  0  rmse :  3.2388050277987723\n",
            "### iteration step :  50  rmse :  0.4876723101369648\n",
            "### iteration step :  100  rmse :  0.1564340384819247\n",
            "### iteration step :  150  rmse :  0.07455141311978046\n",
            "### iteration step :  200  rmse :  0.04325226798579314\n",
            "### iteration step :  250  rmse :  0.029248328780878973\n",
            "### iteration step :  300  rmse :  0.022621116143829466\n",
            "### iteration step :  350  rmse :  0.019493636196525135\n",
            "### iteration step :  400  rmse :  0.018022719092132704\n",
            "### iteration step :  450  rmse :  0.01731968595344266\n",
            "### iteration step :  500  rmse :  0.016973657887570753\n",
            "### iteration step :  550  rmse :  0.016796804595895633\n",
            "### iteration step :  600  rmse :  0.01670132290188466\n",
            "### iteration step :  650  rmse :  0.01664473691247669\n",
            "### iteration step :  700  rmse :  0.016605910068210026\n",
            "### iteration step :  750  rmse :  0.016574200475705\n",
            "### iteration step :  800  rmse :  0.01654431582921597\n",
            "### iteration step :  850  rmse :  0.01651375177473524\n",
            "### iteration step :  900  rmse :  0.01648146573819501\n",
            "### iteration step :  950  rmse :  0.016447171683479155\n"
          ]
        }
      ]
    },
    {
      "cell_type": "code",
      "source": [
        "pred_matrix = np.dot(P, Q.T)\n",
        "print('예측 행렬:\\n', np.round(pred_matrix, 3))"
      ],
      "metadata": {
        "colab": {
          "base_uri": "https://localhost:8080/"
        },
        "id": "s6BZ74xFE0Eh",
        "outputId": "cd0412d1-cf22-4912-9477-ec756175cac2"
      },
      "execution_count": 4,
      "outputs": [
        {
          "output_type": "stream",
          "name": "stdout",
          "text": [
            "예측 행렬:\n",
            " [[3.991 0.897 1.306 2.002 1.663]\n",
            " [6.696 4.978 0.979 2.981 1.003]\n",
            " [6.677 0.391 2.987 3.977 3.986]\n",
            " [4.968 2.005 1.006 2.017 1.14 ]]\n"
          ]
        }
      ]
    },
    {
      "cell_type": "markdown",
      "source": [
        "NaN이 아닌 값은 큰 차이X, NaN 값은 새로운 예측값"
      ],
      "metadata": {
        "id": "944ym0zI_JjV"
      }
    }
  ]
}
{
  "nbformat": 4,
  "nbformat_minor": 0,
  "metadata": {
    "colab": {
      "name": "220620tenserflow_image_classification.ipynb",
      "provenance": [],
      "mount_file_id": "1zu8UFL6Ep33r90ot0iVbXPytByJZzEXS",
      "authorship_tag": "ABX9TyN0PY69FAAqtZ7l2Y0ffAhA",
      "include_colab_link": true
    },
    "kernelspec": {
      "name": "python3",
      "display_name": "Python 3"
    },
    "language_info": {
      "name": "python"
    }
  },
  "cells": [
    {
      "cell_type": "markdown",
      "metadata": {
        "id": "view-in-github",
        "colab_type": "text"
      },
      "source": [
        "<a href=\"https://colab.research.google.com/github/yj9889/ESAA2/blob/main/220620tenserflow_image_classification.ipynb\" target=\"_parent\"><img src=\"https://colab.research.google.com/assets/colab-badge.svg\" alt=\"Open In Colab\"/></a>"
      ]
    },
    {
      "cell_type": "markdown",
      "source": [
        "https://dacon.io/competitions/official/235874/codeshare/4548?page=1&dtype=recent"
      ],
      "metadata": {
        "id": "V9qTiPyHa1xf"
      }
    },
    {
      "cell_type": "markdown",
      "source": [
        "# **Convolutional Neural Network(CNN)**\n",
        "## **Neural Network**\n",
        "인공지능에서 기본 개념으로 사용되는 인공신경망 뉴런은 생물학적 뉴런을 수학적으로 모델링한 것입니다.\n",
        "\n",
        "인공신경망 뉴런은 여러 입력값을 받아 일정 수준을 넘어서게 되면 활성화되고 출력값을 내보냅니다.\n",
        "\n",
        "### **Sigmoid**\n",
        "sigmoid 함수는 활성화 함수(Activation function)로 많이 사용되며 보통 0.5 미만은 0, 이상은 1을 출력하게 됩니다.\n",
        "\n",
        "sigmoid(x) = 1 / 1 + exp(-x)\n",
        "\n",
        "그래프를 보시면 양 극단 값의 기울기(미분값)이 0에 가까워져 학습이 되지 않는 문제가 발생합니다. 이를 Gradient Vanishing 문제라고 하는데 이러한 문제를 해결하기 위해 다양한 활성화 함수들이 고안되었습니다.\n",
        "\n",
        "### **ReLU**\n",
        "ReLU 함수는 그렇게 고안된 활성화 함수 중 하나로, Gradient Vanishing 문제를 해결 가능합니다.\n",
        "\n",
        "relu(x) = 0 if x < 0 else max(0,x)\n",
        "위 식과 같이 ReLU 함수는 입력값을 0과 비교해 둘 중 큰 값을 출력합니다.\n",
        "\n",
        "따라서 계산이 빠르고 양 극단값이 포화되지 않는다는 장점이 있습니다.\n",
        "\n",
        "그러나 여전히 음수인 경우에는 0을 출력하여 학습이 이루어지지 않는다는 단점이 존재합니다.\n",
        "\n",
        "### **Perceptron**\n",
        "퍼셉트론이란 신경망의 기원이 되는 개념으로, Frank Rosenblatt이 1957년 고안한 알고리즘입니다.\n",
        "\n",
        "이는 여러 신호를 입력받아 0(흐르지 않는다) 또는 1(흐른다)이라는 출력값을 앞으로 전달합니다.\n",
        "\n",
        "각 입력 신호 X는 각 가중치 w와 곱해집니다. 가중치가 클수록 그 신호가 중요하다는 뜻입니다.\n",
        "\n",
        "그러나 퍼셉트론은 단순한 선형 분류기로, AND나 OR과 같은 분류는 가능하나 XOR 분류는 불가능합니다.\n",
        "\n",
        "### **MLP(Multi-Layer Perceptron)**\n",
        "직선형 영역만 표시할 수 있는 단층 퍼셉트론의 한계를 극복하기 위해 고안된 것이 다층 퍼셉트론입니다.\n",
        "\n",
        "XOR 문제의 경우 각 영역을 직선으로 분리가 불가능한데, 비선형 영역까지 표현 가능한 다층 퍼셉트론으로 XOR 게이트까지 구현할 수 있습니다."
      ],
      "metadata": {
        "id": "J-fOR61Ia4Cs"
      }
    },
    {
      "cell_type": "markdown",
      "source": [
        "## 환경 설정 및 데이터 로드"
      ],
      "metadata": {
        "id": "RwWhFDq1bFla"
      }
    },
    {
      "cell_type": "code",
      "execution_count": 1,
      "metadata": {
        "id": "7HBGcPqNa1L7"
      },
      "outputs": [],
      "source": [
        "import os\n",
        "import warnings\n",
        "warnings.filterwarnings(action='ignore')\n",
        "\n",
        "os.environ[\"CUDA_VISIBLE_DEVICES\"]=\"0\" # GPU 할당"
      ]
    },
    {
      "cell_type": "code",
      "source": [
        "#create training dataset\n",
        "from glob import glob\n",
        "import numpy as np\n",
        "import PIL\n",
        "from PIL import Image\n",
        "\n",
        "path = '/content/drive/MyDrive/data/0620'\n",
        "\n",
        "from keras.datasets import cifar10\n",
        "\n",
        "(training_images, training_labels), (test_images,test_idx) = cifar10.load_data()\n",
        "\n",
        "\n",
        "for filename in glob(path +\"*\"):\n",
        "    for img in glob(filename + \"/*.jpg\"):\n",
        "        an_img = PIL.Image.open(img) #read img\n",
        "        img_array = np.array(an_img) #img to array\n",
        "        training_images.append(img_array) #append array to training_images \n",
        "        label = filename.split('/')[3] #get label\n",
        "        training_labels.append(label) #append label\n",
        "\n",
        "training_images = np.array(training_images)\n",
        "training_labels = np.array(training_labels)\n",
        "\n",
        "from sklearn.preprocessing import LabelEncoder\n",
        "\n",
        "le = LabelEncoder()\n",
        "training_labels= le.fit_transform(training_labels)\n",
        "training_labels = training_labels.reshape(-1,1)\n",
        "\n",
        "print(training_images.shape)\n",
        "print(training_labels.shape)"
      ],
      "metadata": {
        "colab": {
          "base_uri": "https://localhost:8080/"
        },
        "id": "oT9oJFH8bIE5",
        "outputId": "f9ed1235-00f9-4a23-ee5b-7d55decb1eda"
      },
      "execution_count": 2,
      "outputs": [
        {
          "output_type": "stream",
          "name": "stdout",
          "text": [
            "(50000, 32, 32, 3)\n",
            "(50000, 1)\n"
          ]
        }
      ]
    },
    {
      "cell_type": "code",
      "source": [
        "#create test dataset\n",
        "\n",
        "path = '/content/drive/MyDrive/data/0620'\n",
        "\n",
        "test_images = []\n",
        "test_idx = []\n",
        "\n",
        "flist = sorted(glob(path + '*.jpg'))\n",
        "\n",
        "for filename in flist:\n",
        "    an_img = PIL.Image.open(filename) #read img\n",
        "    img_array = np.array(an_img) #img to array\n",
        "    test_images.append(img_array) #append array to training_images \n",
        "    \n",
        "    label = filename.split('/')[3] #get id \n",
        "    test_idx.append(label) #append id\n",
        "    \n",
        "test_images = np.array(test_images)\n",
        "\n",
        "print(test_images.shape)\n",
        "print(test_idx[0:5])"
      ],
      "metadata": {
        "colab": {
          "base_uri": "https://localhost:8080/"
        },
        "id": "gmEfnhMXbICd",
        "outputId": "eefc569e-9710-47cd-fde0-ca26f199f1ec"
      },
      "execution_count": 3,
      "outputs": [
        {
          "output_type": "stream",
          "name": "stdout",
          "text": [
            "(0,)\n",
            "[]\n"
          ]
        }
      ]
    },
    {
      "cell_type": "code",
      "source": [
        "import matplotlib.pyplot as plt\n",
        "%matplotlib inline\n",
        "\n",
        "for i in range(10):\n",
        "    plt.subplot(2, 5, i + 1)\n",
        "    plt.imshow(training_images[i])\n",
        "    print(training_labels[i], end=\",\")\n",
        "plt.show()"
      ],
      "metadata": {
        "colab": {
          "base_uri": "https://localhost:8080/",
          "height": 245
        },
        "id": "iiaD0SZxbIAK",
        "outputId": "d8923b87-03fc-4902-c4bf-67d97843b098"
      },
      "execution_count": 4,
      "outputs": [
        {
          "output_type": "stream",
          "name": "stdout",
          "text": [
            "[6],[9],[9],[4],[1],[1],[2],[7],[8],[3],"
          ]
        },
        {
          "output_type": "display_data",
          "data": {
            "text/plain": [
              "<Figure size 432x288 with 10 Axes>"
            ],
            "image/png": "[encoded data removed]"
          },
          "metadata": {
            "needs_background": "light"
          }
        }
      ]
    },
    {
      "cell_type": "markdown",
      "source": [
        "## 데이터셋 준비"
      ],
      "metadata": {
        "id": "8KlPeUWnc3mD"
      }
    },
    {
      "cell_type": "markdown",
      "source": [
        "이미지를 살펴보면 10가지 종류의 이미지들이 존재하며 0부터 9까지 10개의 라벨이 달려있습니다.\n",
        "\n",
        "CIFAR-10 이미지 데이터셋을 분류하기 위해 CNN의 기본 개념을 이해하고 데이터셋에 적용해보도록 하겠습니다.\n",
        "\n",
        "우리의 목표는 CNN 모델을 통해 10가지 종류의 이미지들을 각 레이블에 맞게 분류하는 것입니다."
      ],
      "metadata": {
        "id": "3yFWZelMCq3c"
      }
    },
    {
      "cell_type": "markdown",
      "source": [
        "## **데이터셋 준비**\n",
        "데이터셋을 X와 y로 분리하고, train 이미지 데이터셋을 학습용과 검증용으로 나누어줍니다."
      ],
      "metadata": {
        "id": "xNS7Kh_nCsxn"
      }
    },
    {
      "cell_type": "code",
      "source": [
        "from sklearn.model_selection import train_test_split\n",
        "\n",
        "X_train, X_valid, y_train, y_valid = train_test_split(training_images, training_labels, test_size=0.2, random_state=42)\n",
        "\n",
        "X_test = test_images"
      ],
      "metadata": {
        "id": "-aHfxi_Dc7KK"
      },
      "execution_count": 5,
      "outputs": []
    },
    {
      "cell_type": "code",
      "source": [
        "print('X_train 크기:',X_train.shape)\n",
        "print('X_valid 크기:',X_valid.shape)\n",
        "print('X_test  크기:',X_test.shape)"
      ],
      "metadata": {
        "id": "j3HW733lc78f",
        "colab": {
          "base_uri": "https://localhost:8080/"
        },
        "outputId": "ec03d71f-1488-4db6-8ca2-5e401eef79b3"
      },
      "execution_count": 6,
      "outputs": [
        {
          "output_type": "stream",
          "name": "stdout",
          "text": [
            "X_train 크기: (40000, 32, 32, 3)\n",
            "X_valid 크기: (10000, 32, 32, 3)\n",
            "X_test  크기: (0,)\n"
          ]
        }
      ]
    },
    {
      "cell_type": "markdown",
      "source": [
        "이미지의 RGB 채널은 각각 0~255까지의 값을 갖고 있기 때문에\n",
        "\n",
        "255로 나누어 0에서 1 사이 값을 갖도록 normalization을 해줍니다."
      ],
      "metadata": {
        "id": "XcOF-Ow6Cx5t"
      }
    },
    {
      "cell_type": "code",
      "source": [
        "X_train = X_train / 255.0\n",
        "X_valid = X_valid / 255.0\n",
        "X_test = X_test / 255.0"
      ],
      "metadata": {
        "id": "GtZGoB2pc719"
      },
      "execution_count": 7,
      "outputs": []
    },
    {
      "cell_type": "markdown",
      "source": [
        "## CNN 모델 설계\n",
        "필요한 layer들을 추가하며 CNN 모델을 설계합니다."
      ],
      "metadata": {
        "id": "dxV3h97ic-1v"
      }
    },
    {
      "cell_type": "code",
      "source": [
        "import tensorflow as tf\n",
        "\n",
        "model = tf.keras.models.Sequential([\n",
        "    tf.keras.layers.Conv2D(16, (3,3), activation='relu', padding='SAME',input_shape=(32, 32, 3)), #cnn layer\n",
        "    tf.keras.layers.MaxPooling2D(2, 2, padding='SAME'), #pooling layer\n",
        "    tf.keras.layers.Dropout(0.23), # 무작위로 퍼셉트론 비활성화(23%)\n",
        "    tf.keras.layers.Conv2D(32, (3,3), activation='relu', padding='SAME'),\n",
        "    tf.keras.layers.MaxPooling2D(2, 2, padding='SAME'),\n",
        "    tf.keras.layers.Dropout(0.23),\n",
        "    tf.keras.layers.Conv2D(32, (3,3), activation='relu', padding='SAME'),\n",
        "    tf.keras.layers.MaxPooling2D(2, 2, padding='SAME'),\n",
        "    tf.keras.layers.Dropout(0.23),\n",
        "    tf.keras.layers.Flatten(), # N차원 배열 -> 1차원 배열\n",
        "    tf.keras.layers.Dense(1024, activation = 'relu'), #fully connected layer\n",
        "    tf.keras.layers.Dropout(0.5),\n",
        "    tf.keras.layers.Dense(10, activation = 'softmax') # ouput layer\n",
        "])"
      ],
      "metadata": {
        "id": "7KQpySW3c7uZ"
      },
      "execution_count": 8,
      "outputs": []
    },
    {
      "cell_type": "markdown",
      "source": [
        "### **Convoultion Layer**\n",
        "Convolution Layer에서는 이미지의 특징(feature map)을 추출해내는 역할을 합니다.\n",
        "\n",
        "입력 데이터가 주어지면 필터를 이용해 특징을 추출한 다음 아웃풋을 내보냅니다.\n",
        "\n",
        "이 필터는 커널(Kernel) 혹은 가중치의 배열이라고도 부르며 이 값을 조정하는 것이 곧 학습을 의미합니다.\n",
        "\n",
        "첫번째 Convolution Layer에서는 3x3 크기의 커널을 사용했습니다. 이는 곧 학습해야 할 가중치가 9개라는 뜻입니다.\n",
        "\n",
        "* Stride\n",
        "\n",
        "커널을 이동시키는 거리입니다. 특별한 언급이 없다면 1로 가정합니다.\n",
        "\n",
        "Convolution을 하게되면 입력 데이터의 크기가 자연스럽게 줄어들게 되는데, 주변에 값이 0인 셀들을 추가(Padding)해서 입력 데이터의 크기를 유지시키기도 합니다.\n",
        "\n",
        "\n",
        "* Padding\n",
        "\n",
        "zero padding은 이미지 주위에 0을 둘러서 이미지 데이터의 축소를 방지해주는 역할을 합니다.\n",
        "\n",
        "필터로 인해 특징이 추출되면 자연스럽게 크기가 작아지는데, 이미지 벡터들 가장자리에 0을 채워 Convolution Layer를 통과할 때 크기를 동일하게 유지시켜줄 수 있습니다."
      ],
      "metadata": {
        "id": "V_bHthnAdBzw"
      }
    },
    {
      "cell_type": "markdown",
      "source": [
        "### **Pooling Layer - Max Pooling**\n",
        "Pooling Layer는 데이터의 공간적 크기를 축소하는데 사용합니다.\n",
        "\n",
        "보통 이 레이어에서 이미지의 크기를 조절하며, CNN에서는 주로 Max-Pooling 방식을 사용합니다.\n",
        "\n",
        "Conv layer 는 이미지의 특정 영역의 특징을 잡아내는 역할이라면, Pooling 은 이미지의 크기를 줄이는 동시에 이미지의 전체의 특징 또한 보존합니다.\n",
        "\n",
        "따라서 Pooling 은 모델로 하여금 이미지 전체를 볼 수 있게 도와줍니다.\n",
        "\n",
        "Max Pooling에서는 선택된 영역에서 가장 큰 값을 뽑아 대표값으로 설정하는 방식입니다.\n",
        "\n",
        "이를 통해 학습 시간을 단축하고 오버피팅 문제를 완화할 수 있습니다.\n",
        "\n"
      ],
      "metadata": {
        "id": "ukNgno22dD49"
      }
    },
    {
      "cell_type": "markdown",
      "source": [
        "### **Dropout**\n",
        "Drop Out 방식은 뉴럴 네트워크의 유닛(뉴런)들을 랜덤으로 비활성화 하여 과적합(Overfittng)을 방지하기 위한 기법입니다.\n",
        "### **Fully Connected Layer**\n",
        "* Flatten Layer\n",
        "\n",
        "N차원 배열을 1차원으로 변환합니다.\n",
        "\n",
        "* Dense Layer\n",
        "\n",
        "1차원 배열을 뉴럴넷에 입력해 줍니다.\n",
        "\n",
        "이때, Dense Layer 는 오로지 퍼셉트론이로 이루어진 layer 입니다.\n",
        "\n",
        "* Softmax\n",
        "\n",
        "Softmax는 활성화 함수의 일종이며 마지막 layer 에서 class 별 확률를 출력하기 위해 사용됩니다.\n",
        "\n",
        "* Loss Functinon (손실 함수)\n",
        "\n",
        "이때 Loss Function 은 실재 값과 모델이 예측한 값의 거리를 출력하는 함수 입니다.\n",
        "\n",
        "쉽게 말해 Loss Function 은 모델의 예측이 얼마나 틀렸는지를 알려주는 함수 입니다.\n",
        "\n",
        "이 때 \"모델의 예측이 얼마나 틀렸는지\" 를 어떻게 정의하느냐에 따라 어떤 Loss Function 을 사용할 지가 정해집니다."
      ],
      "metadata": {
        "id": "GT0mNhd4dFld"
      }
    },
    {
      "cell_type": "code",
      "source": [
        "model.compile(optimizer='adam', loss = 'sparse_categorical_crossentropy', metrics=['accuracy'])"
      ],
      "metadata": {
        "id": "IGCPgswLdCwq"
      },
      "execution_count": 9,
      "outputs": []
    },
    {
      "cell_type": "markdown",
      "source": [
        "이번 베이스라인에서는 최적화 함수로는 Adam 함수를 사용했고, 손실함수로는 'sparse_categorical_crossentropy', 그리고 평가지표로는 정확도를 사용했습니다.\n",
        "\n",
        "모델을 완성했으면 summary() 함수를 통해 모델의 세부 내용를 요약 출력해봅니다."
      ],
      "metadata": {
        "id": "kwEB4_Q1DLvd"
      }
    },
    {
      "cell_type": "code",
      "source": [
        "model.summary()"
      ],
      "metadata": {
        "id": "oCuqaRRDdQJW",
        "colab": {
          "base_uri": "https://localhost:8080/"
        },
        "outputId": "a3034f2a-56e0-4919-f633-a79e4f178b8b"
      },
      "execution_count": 10,
      "outputs": [
        {
          "output_type": "stream",
          "name": "stdout",
          "text": [
            "Model: \"sequential\"\n",
            "_________________________________________________________________\n",
            " Layer (type)                Output Shape              Param #   \n",
            "=================================================================\n",
            " conv2d (Conv2D)             (None, 32, 32, 16)        448       \n",
            "                                                                 \n",
            " max_pooling2d (MaxPooling2D  (None, 16, 16, 16)       0         \n",
            " )                                                               \n",
            "                                                                 \n",
            " dropout (Dropout)           (None, 16, 16, 16)        0         \n",
            "                                                                 \n",
            " conv2d_1 (Conv2D)           (None, 16, 16, 32)        4640      \n",
            "                                                                 \n",
            " max_pooling2d_1 (MaxPooling  (None, 8, 8, 32)         0         \n",
            " 2D)                                                             \n",
            "                                                                 \n",
            " dropout_1 (Dropout)         (None, 8, 8, 32)          0         \n",
            "                                                                 \n",
            " conv2d_2 (Conv2D)           (None, 8, 8, 32)          9248      \n",
            "                                                                 \n",
            " max_pooling2d_2 (MaxPooling  (None, 4, 4, 32)         0         \n",
            " 2D)                                                             \n",
            "                                                                 \n",
            " dropout_2 (Dropout)         (None, 4, 4, 32)          0         \n",
            "                                                                 \n",
            " flatten (Flatten)           (None, 512)               0         \n",
            "                                                                 \n",
            " dense (Dense)               (None, 1024)              525312    \n",
            "                                                                 \n",
            " dropout_3 (Dropout)         (None, 1024)              0         \n",
            "                                                                 \n",
            " dense_1 (Dense)             (None, 10)                10250     \n",
            "                                                                 \n",
            "=================================================================\n",
            "Total params: 549,898\n",
            "Trainable params: 549,898\n",
            "Non-trainable params: 0\n",
            "_________________________________________________________________\n"
          ]
        }
      ]
    },
    {
      "cell_type": "markdown",
      "source": [
        "## **학습**\n",
        "### **batch size**\n",
        "batch size란 cpu 또는 gpu 연산 시, 하드웨어로 로드되는 데이터의 개수 입니다.\n",
        "\n",
        "본인의 컴퓨팅 환경에 따라 batch size 를 조절하는 것이 좋습니다.\n",
        "\n",
        "gpu 를 사용하는 경우 본인의 gpu 메모리 용량을 고려하여 batch size 를 설정해 주어야 합니다.\n",
        "\n",
        "batch size 는 모델 학습 과정에 영향을 끼치기도 합니다.\n",
        "\n",
        "따라서 하드웨어 상황을 고려하면서도 학습 과정 또한 고려하여 batch size 를 설정해 주어야 합니다."
      ],
      "metadata": {
        "id": "A5cGKQEQdRxM"
      }
    },
    {
      "cell_type": "markdown",
      "source": [
        "### **epoch**\n",
        "딥러닝에서 epoch는 전체 트레이닝 셋이 신경망을 통과한 횟수입니다.\n",
        "\n",
        "1-epoch는 전체 트레이닝 셋이 하나의 신경망에 적용되어 순전파와 역전파를 통해 신경망을 한 번 통과했다는 뜻입니다.\n",
        "\n",
        "epoch 은 많을 수록 학습이 잘되는 것이 아닙니다.\n",
        "\n",
        "epoch 이 너무 적을 경우 학습이 덜 이루어지는 경우가 있고, epoch 이 너무 많을 경우 과적합이 되는 경우가 있습니다.\n",
        "\n",
        "따라서 적절한 epoch 을 설정해 주어야 합니다.\n",
        "\n",
        "이때 validation loss 와 accuracy 은 epoch 을 언제 중단 할지 모니터링 하는 용도로 사용되기도 합니다.\n",
        "\n",
        "자, 이제 CNN 모델 설계를 완료했으니 다음과 같이 배치 사이즈와 에폭을 설정하여 모델을 학습시키겠습니다."
      ],
      "metadata": {
        "id": "gt9NCNhxdckd"
      }
    },
    {
      "cell_type": "code",
      "source": [
        "model.fit(X_train, y_train, validation_data=(X_valid, y_valid), epochs=10, batch_size=128)"
      ],
      "metadata": {
        "id": "DqqgpsVPdeI0",
        "colab": {
          "base_uri": "https://localhost:8080/"
        },
        "outputId": "c275f4e5-17a2-4b9e-e436-e0da0fa1148a"
      },
      "execution_count": 11,
      "outputs": [
        {
          "output_type": "stream",
          "name": "stdout",
          "text": [
            "Epoch 1/10\n",
            "313/313 [==============================] - 52s 159ms/step - loss: 1.7775 - accuracy: 0.3455 - val_loss: 1.4941 - val_accuracy: 0.4623\n",
            "Epoch 2/10\n",
            "313/313 [==============================] - 47s 152ms/step - loss: 1.4702 - accuracy: 0.4665 - val_loss: 1.3781 - val_accuracy: 0.5114\n",
            "Epoch 3/10\n",
            "313/313 [==============================] - 51s 163ms/step - loss: 1.3627 - accuracy: 0.5109 - val_loss: 1.2768 - val_accuracy: 0.5301\n",
            "Epoch 4/10\n",
            "313/313 [==============================] - 48s 153ms/step - loss: 1.2742 - accuracy: 0.5423 - val_loss: 1.1428 - val_accuracy: 0.5950\n",
            "Epoch 5/10\n",
            "313/313 [==============================] - 47s 151ms/step - loss: 1.2076 - accuracy: 0.5677 - val_loss: 1.1066 - val_accuracy: 0.6005\n",
            "Epoch 6/10\n",
            "313/313 [==============================] - 46s 148ms/step - loss: 1.1564 - accuracy: 0.5879 - val_loss: 1.0709 - val_accuracy: 0.6232\n",
            "Epoch 7/10\n",
            "313/313 [==============================] - 52s 166ms/step - loss: 1.1108 - accuracy: 0.6041 - val_loss: 1.0523 - val_accuracy: 0.6268\n",
            "Epoch 8/10\n",
            "313/313 [==============================] - 46s 148ms/step - loss: 1.0796 - accuracy: 0.6164 - val_loss: 0.9460 - val_accuracy: 0.6709\n",
            "Epoch 9/10\n",
            "313/313 [==============================] - 46s 147ms/step - loss: 1.0452 - accuracy: 0.6293 - val_loss: 0.9378 - val_accuracy: 0.6731\n",
            "Epoch 10/10\n",
            "313/313 [==============================] - 49s 156ms/step - loss: 1.0094 - accuracy: 0.6426 - val_loss: 0.9422 - val_accuracy: 0.6729\n"
          ]
        },
        {
          "output_type": "execute_result",
          "data": {
            "text/plain": [
              "<keras.callbacks.History at 0x7ff7d3e88810>"
            ]
          },
          "metadata": {},
          "execution_count": 11
        }
      ]
    },
    {
      "cell_type": "markdown",
      "source": [
        "## 추론"
      ],
      "metadata": {
        "id": "lZ7bdKN2doSS"
      }
    },
    {
      "cell_type": "code",
      "source": [
        "pred_proba = model.predict(X_test) \n",
        "\n",
        "pred_class = []\n",
        "\n",
        "for i in pred_proba:\n",
        "    pred = np.argmax(i)\n",
        "    pred_class.append(pred)\n",
        "    \n",
        "pred_class = le.inverse_transform(pred_class)\n",
        "pred_class[0:5]"
      ],
      "metadata": {
        "id": "g6mZK9EodpvC",
        "colab": {
          "base_uri": "https://localhost:8080/",
          "height": 414
        },
        "outputId": "3a0e20bb-9568-49fe-b338-e9aa751c8582"
      },
      "execution_count": 12,
      "outputs": [
        {
          "output_type": "error",
          "ename": "ValueError",
          "evalue": "ignored",
          "traceback": [
            "\u001b[0;31m---------------------------------------------------------------------------\u001b[0m",
            "\u001b[0;31mValueError\u001b[0m                                Traceback (most recent call last)",
            "\u001b[0;32m<ipython-input-12-3cbb165ba563>\u001b[0m in \u001b[0;36m<module>\u001b[0;34m()\u001b[0m\n\u001b[0;32m----> 1\u001b[0;31m \u001b[0mpred_proba\u001b[0m \u001b[0;34m=\u001b[0m \u001b[0mmodel\u001b[0m\u001b[0;34m.\u001b[0m\u001b[0mpredict\u001b[0m\u001b[0;34m(\u001b[0m\u001b[0mX_test\u001b[0m\u001b[0;34m)\u001b[0m\u001b[0;34m\u001b[0m\u001b[0;34m\u001b[0m\u001b[0m\n\u001b[0m\u001b[1;32m      2\u001b[0m \u001b[0;34m\u001b[0m\u001b[0m\n\u001b[1;32m      3\u001b[0m \u001b[0mpred_class\u001b[0m \u001b[0;34m=\u001b[0m \u001b[0;34m[\u001b[0m\u001b[0;34m]\u001b[0m\u001b[0;34m\u001b[0m\u001b[0;34m\u001b[0m\u001b[0m\n\u001b[1;32m      4\u001b[0m \u001b[0;34m\u001b[0m\u001b[0m\n\u001b[1;32m      5\u001b[0m \u001b[0;32mfor\u001b[0m \u001b[0mi\u001b[0m \u001b[0;32min\u001b[0m \u001b[0mpred_proba\u001b[0m\u001b[0;34m:\u001b[0m\u001b[0;34m\u001b[0m\u001b[0;34m\u001b[0m\u001b[0m\n",
            "\u001b[0;32m/usr/local/lib/python3.7/dist-packages/keras/utils/traceback_utils.py\u001b[0m in \u001b[0;36merror_handler\u001b[0;34m(*args, **kwargs)\u001b[0m\n\u001b[1;32m     65\u001b[0m     \u001b[0;32mexcept\u001b[0m \u001b[0mException\u001b[0m \u001b[0;32mas\u001b[0m \u001b[0me\u001b[0m\u001b[0;34m:\u001b[0m  \u001b[0;31m# pylint: disable=broad-except\u001b[0m\u001b[0;34m\u001b[0m\u001b[0;34m\u001b[0m\u001b[0m\n\u001b[1;32m     66\u001b[0m       \u001b[0mfiltered_tb\u001b[0m \u001b[0;34m=\u001b[0m \u001b[0m_process_traceback_frames\u001b[0m\u001b[0;34m(\u001b[0m\u001b[0me\u001b[0m\u001b[0;34m.\u001b[0m\u001b[0m__traceback__\u001b[0m\u001b[0;34m)\u001b[0m\u001b[0;34m\u001b[0m\u001b[0;34m\u001b[0m\u001b[0m\n\u001b[0;32m---> 67\u001b[0;31m       \u001b[0;32mraise\u001b[0m \u001b[0me\u001b[0m\u001b[0;34m.\u001b[0m\u001b[0mwith_traceback\u001b[0m\u001b[0;34m(\u001b[0m\u001b[0mfiltered_tb\u001b[0m\u001b[0;34m)\u001b[0m \u001b[0;32mfrom\u001b[0m \u001b[0;32mNone\u001b[0m\u001b[0;34m\u001b[0m\u001b[0;34m\u001b[0m\u001b[0m\n\u001b[0m\u001b[1;32m     68\u001b[0m     \u001b[0;32mfinally\u001b[0m\u001b[0;34m:\u001b[0m\u001b[0;34m\u001b[0m\u001b[0;34m\u001b[0m\u001b[0m\n\u001b[1;32m     69\u001b[0m       \u001b[0;32mdel\u001b[0m \u001b[0mfiltered_tb\u001b[0m\u001b[0;34m\u001b[0m\u001b[0;34m\u001b[0m\u001b[0m\n",
            "\u001b[0;32m/usr/local/lib/python3.7/dist-packages/keras/engine/training.py\u001b[0m in \u001b[0;36mpredict\u001b[0;34m(self, x, batch_size, verbose, steps, callbacks, max_queue_size, workers, use_multiprocessing)\u001b[0m\n\u001b[1;32m   1995\u001b[0m             \u001b[0mcallbacks\u001b[0m\u001b[0;34m.\u001b[0m\u001b[0mon_predict_batch_end\u001b[0m\u001b[0;34m(\u001b[0m\u001b[0mend_step\u001b[0m\u001b[0;34m,\u001b[0m \u001b[0;34m{\u001b[0m\u001b[0;34m'outputs'\u001b[0m\u001b[0;34m:\u001b[0m \u001b[0mbatch_outputs\u001b[0m\u001b[0;34m}\u001b[0m\u001b[0;34m)\u001b[0m\u001b[0;34m\u001b[0m\u001b[0;34m\u001b[0m\u001b[0m\n\u001b[1;32m   1996\u001b[0m       \u001b[0;32mif\u001b[0m \u001b[0mbatch_outputs\u001b[0m \u001b[0;32mis\u001b[0m \u001b[0;32mNone\u001b[0m\u001b[0;34m:\u001b[0m\u001b[0;34m\u001b[0m\u001b[0;34m\u001b[0m\u001b[0m\n\u001b[0;32m-> 1997\u001b[0;31m         raise ValueError('Unexpected result of `predict_function` '\n\u001b[0m\u001b[1;32m   1998\u001b[0m                          \u001b[0;34m'(Empty batch_outputs). Please use '\u001b[0m\u001b[0;34m\u001b[0m\u001b[0;34m\u001b[0m\u001b[0m\n\u001b[1;32m   1999\u001b[0m                          \u001b[0;34m'`Model.compile(..., run_eagerly=True)`, or '\u001b[0m\u001b[0;34m\u001b[0m\u001b[0;34m\u001b[0m\u001b[0m\n",
            "\u001b[0;31mValueError\u001b[0m: Unexpected result of `predict_function` (Empty batch_outputs). Please use `Model.compile(..., run_eagerly=True)`, or `tf.config.run_functions_eagerly(True)` for more information of where went wrong, or file a issue/bug to `tf.keras`."
          ]
        }
      ]
    }
  ]
}
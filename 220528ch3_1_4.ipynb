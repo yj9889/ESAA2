{
  "nbformat": 4,
  "nbformat_minor": 0,
  "metadata": {
    "colab": {
      "name": "220528ch3.1-4.ipynb",
      "provenance": [],
      "collapsed_sections": [],
      "authorship_tag": "ABX9TyNA44EBjOI/65OlmhIL8Lld",
      "include_colab_link": true
    },
    "kernelspec": {
      "name": "python3",
      "display_name": "Python 3"
    },
    "language_info": {
      "name": "python"
    }
  },
  "cells": [
    {
      "cell_type": "markdown",
      "metadata": {
        "id": "view-in-github",
        "colab_type": "text"
      },
      "source": [
        "<a href=\"https://colab.research.google.com/github/yj9889/ESAA2/blob/main/220528ch3_1_4.ipynb\" target=\"_parent\"><img src=\"https://colab.research.google.com/assets/colab-badge.svg\" alt=\"Open In Colab\"/></a>"
      ]
    },
    {
      "cell_type": "markdown",
      "source": [
        "# 파이썬 딥러닝 텐서플로 \n",
        "ch3. 1-4 pg. 50-95"
      ],
      "metadata": {
        "id": "Cd2uqeIG_jqI"
      }
    },
    {
      "cell_type": "markdown",
      "source": [
        "# 01. 딥러닝 준비\n",
        "## 1-1. 주요 용어\n",
        "### 1-1-1. 하이퍼 파라미터\n",
        "* 사용자가 직접 설정해주는 설정 값\n",
        "  * weights나 bias처럼 자동으로 업데이트되는 값이 아닌, 학습 속도나 반복 훈련 횟수 등을 일컫음\n",
        "  * 튜닝한다고 표현\n",
        "\n",
        "### 1-1-2. 과소적합vs과대적합\n",
        "* 훈련 데이터를 반복학습하면서 예측데이터가 다른 분포를 갖거나, 학습 데이터가 특정 레이블에 편향된 데이터로 이루어져 있을 때\n",
        "* 과소적합: 모델이 충분히 학습되지 않은 경우 예측 성능이 떨어짐.\n",
        "* 과대적합: 지나치게 반복학습해 노이즈까지 반영되어 예측성능은 좋지만 오차가 발생\n",
        "\n",
        "### 1-1-3. 에포크\n",
        "* 딥러닝 모델이 반복 훈련할 때 데이터셋을 전부 학습에 사용하는 1회의 훈련 loop\n",
        "\n",
        "### 1-1-4. 손실함수\n",
        "* 예측 값과 정답 값의 차이 또는 오차\n",
        "  * 사용자가 정의해야 함.(분류/회귀 모델에 따라 다르게 적용)\n",
        "* 지도학습의 분류 문제\n",
        "  * 이진 분류: *binary_crossentropy* 사용, *activation function이 sigmoid*인 경우\n",
        "  * 다중 분류: *categorical_crossentropy* 사용, one-hot vector 클래스 대상일 경우, *activation function이 softmax*인 경우\n",
        "* 회귀 모델\n",
        "  * mean squared error\n",
        "  * mean absoluted error\n",
        "  * huber"
      ],
      "metadata": {
        "id": "gjgS19laAmdM"
      }
    },
    {
      "cell_type": "code",
      "execution_count": 2,
      "metadata": {
        "colab": {
          "base_uri": "https://localhost:8080/"
        },
        "id": "-dT0Qki4_O6Y",
        "outputId": "7be4b481-106f-4e07-c017-acd2c2f832ac"
      },
      "outputs": [
        {
          "output_type": "execute_result",
          "data": {
            "text/plain": [
              "<keras.losses.BinaryCrossentropy at 0x7f2f392a08d0>"
            ]
          },
          "metadata": {},
          "execution_count": 2
        }
      ],
      "source": [
        "import tensorflow as tf\n",
        "\n",
        "#클래스\n",
        "tf.keras.losses.BinaryCrossentropy()\n",
        "\n",
        "#함수\n",
        "#tf.keras.losses.binary_crossentropy()"
      ]
    },
    {
      "cell_type": "markdown",
      "source": [
        "### 1-1-5. 경사하강법\n",
        ": 모델 내부의 가중치에 대한 미분값을 구하고 목적 함수 값이 낮아지는 방향으로 차감하면서 결국 최소 함수 값을 갖도록 하는 방법"
      ],
      "metadata": {
        "id": "79gBu3UqAn9r"
      }
    },
    {
      "cell_type": "code",
      "source": [
        "import numpy as np\n",
        "import matplotlib.pyplot as plt\n",
        "\n",
        "# 샘플에 활용할 데이터 셋 만들기\n",
        "def make_linear(w=0.5, b=0.8, size=50, noise=1.0):\n",
        "    x = np.random.rand(size)\n",
        "    y = w * x + b\n",
        "    noise = np.random.uniform(-abs(noise), abs(noise), size=y.shape) #노이즈 추가\n",
        "    yy = y + noise\n",
        "    plt.figure(figsize=(10, 7))\n",
        "    plt.plot(x, y, color='r', label=f'y = {w}*x + {b}')\n",
        "    plt.scatter(x, yy, label='data')\n",
        "    plt.legend(fontsize=20)\n",
        "    plt.show()\n",
        "    print(f'w: {w}, b: {b}')\n",
        "    return x, yy\n",
        "\n",
        "x, y = make_linear(w=0.3, b=0.5, size=100, noise=0.01)"
      ],
      "metadata": {
        "colab": {
          "base_uri": "https://localhost:8080/",
          "height": 446
        },
        "id": "tdmQWzPDAHlV",
        "outputId": "87e91498-b9dc-490e-9d7c-06e574eb1188"
      },
      "execution_count": 3,
      "outputs": [
        {
          "output_type": "display_data",
          "data": {
            "text/plain": [
              "<Figure size 720x504 with 1 Axes>"
            ],
            "image/png": "[encoded data removed]"
          },
          "metadata": {
            "needs_background": "light"
          }
        },
        {
          "output_type": "stream",
          "name": "stdout",
          "text": [
            "w: 0.3, b: 0.5\n"
          ]
        }
      ]
    },
    {
      "cell_type": "code",
      "source": [
        "# 최대 반복 횟수\n",
        "num_epoch = 1000\n",
        "\n",
        "# 학습율 (learning_rate)\n",
        "learning_rate = 0.005\n",
        "\n",
        "# 에러 기록\n",
        "errors = []\n",
        "\n",
        "# random 한 값으로 w, b를 초기화 합니다.\n",
        "w = np.random.uniform(low=0.0, high=1.0)\n",
        "b = np.random.uniform(low=0.0, high=1.0)\n",
        "\n",
        "for epoch in range(num_epoch):\n",
        "    # Hypothesis 정의\n",
        "    y_hat = w * x + b\n",
        "    \n",
        "    # Loss Function 정의\n",
        "    error = 0.5*((y_hat - y) ** 2).sum()\n",
        "    if error < 0.005:\n",
        "        break\n",
        "    # Gradient 미분 계산\n",
        "    w = w - learning_rate * ((y_hat - y) * x).sum()\n",
        "    b = b - learning_rate * (y_hat - y).sum()\n",
        "    \n",
        "    errors.append(error)\n",
        "\n",
        "    if epoch % 5 == 0:\n",
        "        print(\"{0:2} w = {1:.5f}, b = {2:.5f} error = {3:.5f}\".format(epoch, w, b, error))\n",
        "    \n",
        "print(\"----\" * 15)\n",
        "print(\"{0:2} w = {1:.1f}, b = {2:.1f} error = {3:.5f}\".format(epoch, w, b, error))"
      ],
      "metadata": {
        "colab": {
          "base_uri": "https://localhost:8080/"
        },
        "id": "aN6NcwVnAcNL",
        "outputId": "9c264d33-584e-4def-d51a-dcbcb8a3c543"
      },
      "execution_count": 4,
      "outputs": [
        {
          "output_type": "stream",
          "name": "stdout",
          "text": [
            " 0 w = 0.58081, b = 0.59986 error = 26.98242\n",
            " 5 w = 0.44623, b = 0.41920 error = 0.09334\n",
            "10 w = 0.42470, b = 0.43004 error = 0.06826\n",
            "15 w = 0.40676, b = 0.44019 error = 0.05043\n",
            "20 w = 0.39142, b = 0.44887 error = 0.03737\n",
            "25 w = 0.37828, b = 0.45631 error = 0.02781\n",
            "30 w = 0.36705, b = 0.46267 error = 0.02080\n",
            "35 w = 0.35743, b = 0.46811 error = 0.01568\n",
            "40 w = 0.34920, b = 0.47277 error = 0.01192\n",
            "45 w = 0.34216, b = 0.47675 error = 0.00917\n",
            "50 w = 0.33613, b = 0.48016 error = 0.00716\n",
            "55 w = 0.33097, b = 0.48308 error = 0.00568\n",
            "------------------------------------------------------------\n",
            "58 w = 0.3, b = 0.5 error = 0.00499\n"
          ]
        }
      ]
    },
    {
      "cell_type": "code",
      "source": [
        "plt.figure(figsize=(10, 7))\n",
        "plt.plot(errors)\n",
        "plt.xlabel('Epochs')\n",
        "plt.ylabel('Error')\n",
        "plt.show()"
      ],
      "metadata": {
        "colab": {
          "base_uri": "https://localhost:8080/",
          "height": 442
        },
        "id": "oXfeCCfDAcK4",
        "outputId": "8d752c4f-3146-4cab-f21e-1f0318747511"
      },
      "execution_count": 5,
      "outputs": [
        {
          "output_type": "display_data",
          "data": {
            "text/plain": [
              "<Figure size 720x504 with 1 Axes>"
            ],
            "image/png": "[encoded data removed]"
          },
          "metadata": {
            "needs_background": "light"
          }
        }
      ]
    },
    {
      "cell_type": "markdown",
      "source": [
        "## 1-2. 딥러닝 프로세스\n",
        "### 1-2-1. 데이터 전처리\n",
        "* 배열의 차원 변경/스케일 조정 등을 거쳐 데이터 가공\n",
        "\n",
        "### 1-2-2. 모델 생성\n",
        "* 모델의 구조를 정의하고 생성\n",
        "  * 순차적 구조: *Sequential API*\n",
        "  * 다중 입력 및 출력 구조: *Functional API* or *Model Subclassing*\n",
        "\n",
        "### 1-2-3. 모델 컴파일\n",
        "* 모델 훈련에 사용할 손실함수, 옵티마이저, 평가지표 정의\n",
        "  * 모델 인스턴스에 *compile()* 메소드 적용\n",
        "\n",
        "### 1-2-4. 모델 훈련\n",
        "* *fit()* 함수에 모델 훈련에 필요한 정보를 매개변수로 전달\n",
        "\n",
        "### 1-2-5. 모델 검증\n",
        "* 훈련 시 사용하지 않은 test를 모델에 입력해 predict 값을 정답과 비교해 평가지표 계산, 반복\n",
        "\n",
        "### 1-2-6. 모델 예측\n"
      ],
      "metadata": {
        "id": "rjPEEnd_A76o"
      }
    },
    {
      "cell_type": "markdown",
      "source": [
        "# 02. 단순 신경망 훈련\n",
        "## 2-1. 선형회귀\n",
        "* 텐서플로 케라스를 활용해 단순선형회귀 모델 만들고 딥러닝 진행\n",
        "  * y = wx + b (w: weights, b: bias)\n",
        "\n",
        "## 2-2. 뉴런\n",
        "* node라고도 불림.\n",
        "  * 여러개 layer 가지며 1개의 layer는 1개 이상의 뉴런으로 구성\n",
        "  * 뉴런 내부에 가중치 존재, 모델이 훈련 진행하면서 오차 역전파를 통해 뉴런의 가중치 업데이트\n",
        "\n",
        "## 2-3. Dense 레이어\n",
        "* 심층 신경망 모델을 구성하는 가장 기본 레이어\n",
        "  * 레이어끼리 모든 뉴런이 연결되어 있어 완전 연결층이라고도 불림."
      ],
      "metadata": {
        "id": "KZvSvzbwA8rf"
      }
    },
    {
      "cell_type": "code",
      "source": [
        "#10개의 노드로 이루어진 dense 레이어\n",
        "tf.keras.layers.Dense(10)\n",
        "\n",
        "#ReLU 활성화 함수 적용\n",
        "tf.keras.layers.Dense(10, activation='relu')"
      ],
      "metadata": {
        "colab": {
          "base_uri": "https://localhost:8080/"
        },
        "id": "-rK3WG3cAcI_",
        "outputId": "e142da6f-b21f-4e6d-c4fd-475231c2d818"
      },
      "execution_count": 6,
      "outputs": [
        {
          "output_type": "execute_result",
          "data": {
            "text/plain": [
              "<keras.layers.core.dense.Dense at 0x7f2f38c6c7d0>"
            ]
          },
          "metadata": {},
          "execution_count": 6
        }
      ]
    },
    {
      "cell_type": "markdown",
      "source": [
        "## 2-4. 데이터셋 만들기"
      ],
      "metadata": {
        "id": "fCMKfEwIBWui"
      }
    },
    {
      "cell_type": "code",
      "source": [
        "import numpy as np\n",
        "\n",
        "# 순차적 샘플 데이터셋 생성\n",
        "x = np.arange(1, 6)\n",
        "\n",
        "# y = 3x + 2\n",
        "y = 3 * x + 2\n",
        "print(x)\n",
        "print(y)"
      ],
      "metadata": {
        "colab": {
          "base_uri": "https://localhost:8080/"
        },
        "id": "HKl0GmbKAcG-",
        "outputId": "e46b5b09-ce2d-4269-8d6d-80c4e48ec51d"
      },
      "execution_count": 7,
      "outputs": [
        {
          "output_type": "stream",
          "name": "stdout",
          "text": [
            "[1 2 3 4 5]\n",
            "[ 5  8 11 14 17]\n"
          ]
        }
      ]
    },
    {
      "cell_type": "code",
      "source": [
        "import matplotlib.pyplot as plt\n",
        "\n",
        "# 시각화\n",
        "plt.plot(x, y)\n",
        "plt.title('y = 3x + 2')\n",
        "plt.show()"
      ],
      "metadata": {
        "colab": {
          "base_uri": "https://localhost:8080/",
          "height": 281
        },
        "id": "P9qAo9TXAcEN",
        "outputId": "7eb425c6-9874-4ce8-8b66-98441c8c369a"
      },
      "execution_count": 8,
      "outputs": [
        {
          "output_type": "display_data",
          "data": {
            "text/plain": [
              "<Figure size 432x288 with 1 Axes>"
            ],
            "image/png": "[encoded data removed]"
          },
          "metadata": {
            "needs_background": "light"
          }
        }
      ]
    },
    {
      "cell_type": "markdown",
      "source": [
        "## 2-5. Sequential API\n",
        "* 층을 이어 붙이듯 시퀀스에 맞게 일렬로 연결하는 방식, 입력부터 출력 레이어까지 순서를 갖음\n",
        "\n",
        "### 2-5-1. 모델 구조\n",
        "* 1. 리스트형 정의로 sequential 클래스 함수에 파이썬 리스트 형태로 여러 층 입력하는 방식\n",
        "  * '[ ]' 안에 쉼표로 구분해 층을 쌓고 순차적 처리\n",
        "* 2. add 함수로 반복적으로 레이어 추가해 sequential 클래스 만든 후 생성된 모델 인스턴스에 층을 추가하는 방식"
      ],
      "metadata": {
        "id": "XnAVEpWhBfeF"
      }
    },
    {
      "cell_type": "code",
      "source": [
        "import tensorflow as tf\n",
        "\n",
        "# 리스트형\n",
        "model = tf.keras.Sequential([\n",
        "    tf.keras.layers.Dense(10), \n",
        "    tf.keras.layers.Dense(5), \n",
        "    tf.keras.layers.Dense(1), \n",
        "])"
      ],
      "metadata": {
        "id": "cRHZeHzeAcCE"
      },
      "execution_count": 9,
      "outputs": []
    },
    {
      "cell_type": "code",
      "source": [
        "# add 함수로 레이어 추가\n",
        "model = tf.keras.Sequential()\n",
        "model.add(tf.keras.layers.Dense(10))\n",
        "model.add(tf.keras.layers.Dense(5))\n",
        "model.add(tf.keras.layers.Dense(1))"
      ],
      "metadata": {
        "id": "mw78tgJHAb_i"
      },
      "execution_count": 10,
      "outputs": []
    },
    {
      "cell_type": "markdown",
      "source": [
        "### 2-5-2. 입력 데이터 형태\n",
        "* sequential 사용시 반드시 첫 층은 input_shape 매개변수를 지정해야 함.(데이터셋의 shape을 tuple or list로 지정 가능)"
      ],
      "metadata": {
        "id": "1e5H-DqgBnvM"
      }
    },
    {
      "cell_type": "code",
      "source": [
        "model = tf.keras.Sequential([\n",
        "    # 입력 데이터의 shape = (150, 4) 인 경우 input_shape 지정 \n",
        "    tf.keras.layers.Dense(10, input_shape=[4]), \n",
        "    tf.keras.layers.Dense(5), \n",
        "    tf.keras.layers.Dense(1), \n",
        "])"
      ],
      "metadata": {
        "id": "3BK-jZuQBrHM"
      },
      "execution_count": 11,
      "outputs": []
    },
    {
      "cell_type": "markdown",
      "source": [
        "### 2-5-3. 단순선형회귀 모델 정의\n",
        "* 만들기 위해 1개의 뉴런 가지는 dense 레이어 한 개 사용\n",
        "  * 정의한 뉴런은 w와 b를 매개변수로 가짐\n",
        "  * *input_shape=* : 입력변수 개수"
      ],
      "metadata": {
        "id": "5bVqCURGBo2q"
      }
    },
    {
      "cell_type": "code",
      "source": [
        "# 단순선형회귀 모델 생성\n",
        "model = tf.keras.Sequential([\n",
        "    tf.keras.layers.Dense(1, input_shape=[1])                    \n",
        "])"
      ],
      "metadata": {
        "id": "pKDv6yylBtMY"
      },
      "execution_count": 12,
      "outputs": []
    },
    {
      "cell_type": "markdown",
      "source": [
        "## 2-6. 모델 요약\n",
        "* *model_summary()*: 모델의 구조, 층별 노드의 개수, 훈련 시 업데이트할 파라미터 개수(Trainable params) 표기"
      ],
      "metadata": {
        "id": "n6L9Z7wLBwx3"
      }
    },
    {
      "cell_type": "code",
      "source": [
        "model.summary()"
      ],
      "metadata": {
        "colab": {
          "base_uri": "https://localhost:8080/"
        },
        "id": "bUrm9uH8Byti",
        "outputId": "3b3d9d9e-aa4c-4024-c6c4-4d878d8f77f2"
      },
      "execution_count": 13,
      "outputs": [
        {
          "output_type": "stream",
          "name": "stdout",
          "text": [
            "Model: \"sequential_3\"\n",
            "_________________________________________________________________\n",
            " Layer (type)                Output Shape              Param #   \n",
            "=================================================================\n",
            " dense_11 (Dense)            (None, 1)                 2         \n",
            "                                                                 \n",
            "=================================================================\n",
            "Total params: 2\n",
            "Trainable params: 2\n",
            "Non-trainable params: 0\n",
            "_________________________________________________________________\n"
          ]
        }
      ]
    },
    {
      "cell_type": "markdown",
      "source": [
        "## 2-7. 컴파일\n",
        "* optimizer, loss, metrics 정의\n",
        "  * 1. 클래스 인스턴스 - 학습률, 모멘텀 지정\n",
        "  * 2. 함수 \n",
        "  * 3. 사전 정의된 문자열 - 기본값 하이퍼파라미터, 수정 어려움\n",
        "\n",
        "로 정의"
      ],
      "metadata": {
        "id": "-BbhaGtkB1Sk"
      }
    },
    {
      "cell_type": "code",
      "source": [
        "# 긴 문자열 지정\n",
        "model.compile(optimizer='sgd', loss='mean_squared_error', \n",
        "              metrics=['mean_squared_error', 'mean_absolute_error'])"
      ],
      "metadata": {
        "id": "iQgsv-7nB3rH"
      },
      "execution_count": 14,
      "outputs": []
    },
    {
      "cell_type": "code",
      "source": [
        "# 짧은 문자열 지정\n",
        "model.compile(optimizer='sgd', loss='mse', metrics=['mse', 'mae'])"
      ],
      "metadata": {
        "id": "CeZ3aXVMB3nr"
      },
      "execution_count": 15,
      "outputs": []
    },
    {
      "cell_type": "code",
      "source": [
        "# 클래스 인스턴스 지정\n",
        "model.compile(optimizer=tf.keras.optimizers.SGD(lr=0.005), \n",
        "              loss=tf.keras.losses.MeanAbsoluteError(), \n",
        "              metrics=[tf.keras.metrics.MeanAbsoluteError(), \n",
        "                       tf.keras.metrics.MeanSquaredError()\n",
        "                       ])"
      ],
      "metadata": {
        "colab": {
          "base_uri": "https://localhost:8080/"
        },
        "id": "61hharFKB3lN",
        "outputId": "ce438bfc-eb90-441d-ea3b-c304021e67f9"
      },
      "execution_count": 16,
      "outputs": [
        {
          "output_type": "stream",
          "name": "stderr",
          "text": [
            "/usr/local/lib/python3.7/dist-packages/keras/optimizer_v2/gradient_descent.py:102: UserWarning: The `lr` argument is deprecated, use `learning_rate` instead.\n",
            "  super(SGD, self).__init__(name, **kwargs)\n"
          ]
        }
      ]
    },
    {
      "cell_type": "code",
      "source": [
        "# 컴파일\n",
        "model.compile(optimizer='sgd', loss='mse', metrics=['mae'])"
      ],
      "metadata": {
        "id": "UfEPa1w3lLom"
      },
      "execution_count": null,
      "outputs": []
    },
    {
      "cell_type": "markdown",
      "source": [
        "## 2-8. 훈련\n",
        "* weight tensor를 업데이트한다는 의미\n",
        "* fit(): 입력(x), 출력(y), 반복훈련할 epoch수 지정, *verbose=0*: 훈련중간과정출력X"
      ],
      "metadata": {
        "id": "5paeg25uB7N5"
      }
    },
    {
      "cell_type": "code",
      "source": [
        "# 훈련 - epochs=5는 충분하지 않음(과소적합)\n",
        "history = model.fit(x, y, epochs=1200) #history: epoch별 훈련 손실과 평가지표가 딕셔너리 형태로 저장"
      ],
      "metadata": {
        "id": "jTLppx0dB3iu"
      },
      "execution_count": null,
      "outputs": []
    },
    {
      "cell_type": "code",
      "source": [
        "import matplotlib.pyplot as plt\n",
        "\n",
        "# 20 에포크까지 Loss 수렴에 대한 시각화 - 10epoch까지 손실이 급격히 감소, 후에는 속도 느려짐\n",
        "plt.plot(history.history['loss'], label='loss') \n",
        "plt.plot(history.history['mae'], label='mae')\n",
        "plt.xlim(-1, 20)\n",
        "plt.title('Loss')\n",
        "plt.legend()\n",
        "plt.show()"
      ],
      "metadata": {
        "colab": {
          "base_uri": "https://localhost:8080/",
          "height": 281
        },
        "id": "QQSFTDzmB3Ox",
        "outputId": "3e22676d-e0b0-4698-a3e8-da35776fcfa1"
      },
      "execution_count": 18,
      "outputs": [
        {
          "output_type": "display_data",
          "data": {
            "text/plain": [
              "<Figure size 432x288 with 1 Axes>"
            ],
            "image/png": "[encoded data removed]"
          },
          "metadata": {
            "needs_background": "light"
          }
        }
      ]
    },
    {
      "cell_type": "markdown",
      "source": [
        "## 2-9. 검증\n",
        "* 보통 *evaluate()*에 검증 데이터셋 입력\n",
        "  * 아래에서는 훈련 데이터셋 x,y 입력"
      ],
      "metadata": {
        "id": "HczwDh0qCMuV"
      }
    },
    {
      "cell_type": "code",
      "source": [
        "model.evaluate(x, y)"
      ],
      "metadata": {
        "colab": {
          "base_uri": "https://localhost:8080/"
        },
        "id": "Us1GQ0u1CPYe",
        "outputId": "97e3c4c4-021d-4d52-83c7-278f04cbede5"
      },
      "execution_count": 19,
      "outputs": [
        {
          "output_type": "stream",
          "name": "stdout",
          "text": [
            "1/1 [==============================] - 0s 320ms/step - loss: 6.6902e-05 - mae: 0.0070\n"
          ]
        },
        {
          "output_type": "execute_result",
          "data": {
            "text/plain": [
              "[6.690175359835848e-05, 0.007020473480224609]"
            ]
          },
          "metadata": {},
          "execution_count": 19
        }
      ]
    },
    {
      "cell_type": "markdown",
      "source": [
        "## 2-10. 예측\n",
        "* predict() 메소드에 새로운 입력 데이터"
      ],
      "metadata": {
        "id": "myiehZmgCP0X"
      }
    },
    {
      "cell_type": "code",
      "source": [
        "model.predict([10])"
      ],
      "metadata": {
        "colab": {
          "base_uri": "https://localhost:8080/"
        },
        "id": "AkmEOgalCR88",
        "outputId": "9b8ddbf2-305e-4de7-d406-5f1b251ef22c"
      },
      "execution_count": 20,
      "outputs": [
        {
          "output_type": "execute_result",
          "data": {
            "text/plain": [
              "array([[32.03393]], dtype=float32)"
            ]
          },
          "metadata": {},
          "execution_count": 20
        }
      ]
    },
    {
      "cell_type": "markdown",
      "source": [
        "# 03. 심층 신경망으로 이미지 분류\n",
        "## 3-1. 케라스 내장 데이터셋 로드\n",
        "* boston_housing\n",
        "* cifar10\n",
        "* cifar100\n",
        "* mnist\n",
        "* fashion_mnist\n",
        "* imdb\n",
        "* reuters\n",
        "\n",
        "  * 훈련 데이터셋과 검증 데이터셋 구분해 tuple로 제공"
      ],
      "metadata": {
        "id": "a6yeMfQYCZMS"
      }
    },
    {
      "cell_type": "code",
      "source": [
        "# 케라스의 내장 데이터셋에서 mnist 데이터셋을 로드\n",
        "mnist = tf.keras.datasets.mnist"
      ],
      "metadata": {
        "id": "b4tPPluDCcZ3"
      },
      "execution_count": 21,
      "outputs": []
    },
    {
      "cell_type": "code",
      "source": [
        "# load_data()로 데이터셋을 로드 합니다.\n",
        "(x_train, y_train), (x_test, y_test) = mnist.load_data()"
      ],
      "metadata": {
        "colab": {
          "base_uri": "https://localhost:8080/"
        },
        "id": "Yr2fymfaCcXi",
        "outputId": "69b86020-87c9-4e91-f854-623c0098e007"
      },
      "execution_count": 22,
      "outputs": [
        {
          "output_type": "stream",
          "name": "stdout",
          "text": [
            "Downloading data from https://storage.googleapis.com/tensorflow/tf-keras-datasets/mnist.npz\n",
            "11493376/11490434 [==============================] - 0s 0us/step\n",
            "11501568/11490434 [==============================] - 0s 0us/step\n"
          ]
        }
      ]
    },
    {
      "cell_type": "markdown",
      "source": [
        "(데이터셋의 크기, 이미지 세로 픽셀, 이미지 가로 픽셀)\n",
        "\n",
        "1차원 벡터 형태"
      ],
      "metadata": {
        "id": "SlMCdEtxmMPB"
      }
    },
    {
      "cell_type": "code",
      "source": [
        "# 로드된 데이터셋 확인\n",
        "print('train set: ', x_train.shape, y_train.shape)\n",
        "print('test  set: ', x_test.shape, y_test.shape)"
      ],
      "metadata": {
        "colab": {
          "base_uri": "https://localhost:8080/"
        },
        "id": "sede4uVECcU-",
        "outputId": "3cfb264a-951a-4205-e146-a05d866d30c4"
      },
      "execution_count": 23,
      "outputs": [
        {
          "output_type": "stream",
          "name": "stdout",
          "text": [
            "train set:  (60000, 28, 28) (60000,)\n",
            "test  set:  (10000, 28, 28) (10000,)\n"
          ]
        }
      ]
    },
    {
      "cell_type": "code",
      "source": [
        "# 데이터 시각화\n",
        "import matplotlib.pyplot as plt\n",
        "\n",
        "# canvas 생성\n",
        "fig, axes = plt.subplots(3, 5)\n",
        "fig.set_size_inches(8, 5)\n",
        "\n",
        "for i in range(15):\n",
        "    ax = axes[i//5, i%5]\n",
        "    # imshow로 이미지 시각화\n",
        "    ax.imshow(x_train[i], cmap='gray')\n",
        "    ax.axis('off')\n",
        "    ax.set_title(str(y_train[i]))\n",
        "\n",
        "plt.tight_layout()\n",
        "plt.show()"
      ],
      "metadata": {
        "colab": {
          "base_uri": "https://localhost:8080/",
          "height": 371
        },
        "id": "WRuBOpNsCcSR",
        "outputId": "26c9697c-510d-4e5d-ee50-9ebd0b00fcbd"
      },
      "execution_count": 24,
      "outputs": [
        {
          "output_type": "display_data",
          "data": {
            "text/plain": [
              "<Figure size 576x360 with 15 Axes>"
            ],
            "image/png": "[encoded data removed]"
          },
          "metadata": {
            "needs_background": "light"
          }
        }
      ]
    },
    {
      "cell_type": "markdown",
      "source": [
        "## 3-2. 데이터 전처리\n",
        "* 정규화를 통해 데이터 범위 조정, 배열의 원소는 이미지 구성하는 하나의 픽셀값과 일대일 대응"
      ],
      "metadata": {
        "id": "Gqrq3lrxCiMX"
      }
    },
    {
      "cell_type": "code",
      "source": [
        "# x_train 배열의 데이터 확인\n",
        "x_train[0, 10:15, 10:15]"
      ],
      "metadata": {
        "colab": {
          "base_uri": "https://localhost:8080/"
        },
        "id": "1uBxrtBwCcP1",
        "outputId": "b15dec30-b1b8-49c8-85fb-29bb99653864"
      },
      "execution_count": 25,
      "outputs": [
        {
          "output_type": "execute_result",
          "data": {
            "text/plain": [
              "array([[  1, 154, 253,  90,   0],\n",
              "       [  0, 139, 253, 190,   2],\n",
              "       [  0,  11, 190, 253,  70],\n",
              "       [  0,   0,  35, 241, 225],\n",
              "       [  0,   0,   0,  81, 240]], dtype=uint8)"
            ]
          },
          "metadata": {},
          "execution_count": 25
        }
      ]
    },
    {
      "cell_type": "code",
      "source": [
        "# 픽셀 값의 최소/최대 값 확인\n",
        "print(f'정규화 전] 최소값: {x_train.min()}, 최대값: {x_train.max()}')\n",
        "\n",
        "# 데이터 정규화\n",
        "x_train = x_train / x_train.max()\n",
        "\n",
        "# 정규화 후 최소/최대 값 확인\n",
        "print(f'정규화 후] 최소값: {x_train.min()}, 최대값: {x_train.max()}')"
      ],
      "metadata": {
        "colab": {
          "base_uri": "https://localhost:8080/"
        },
        "id": "6yebB6McCb-T",
        "outputId": "d91f3c08-931b-4d4d-f2cd-17854b0efd22"
      },
      "execution_count": 26,
      "outputs": [
        {
          "output_type": "stream",
          "name": "stdout",
          "text": [
            "정규화 전] 최소값: 0, 최대값: 255\n",
            "정규화 후] 최소값: 0.0, 최대값: 1.0\n"
          ]
        }
      ]
    },
    {
      "cell_type": "code",
      "source": [
        "# test 셋에도 정규화 동일 적용\n",
        "x_test = x_test / x_test.max()"
      ],
      "metadata": {
        "id": "HflgC003Cl3_"
      },
      "execution_count": 27,
      "outputs": []
    },
    {
      "cell_type": "code",
      "source": [
        "# 변환 후 x_train 배열의 데이터 확인 -0~1\n",
        "x_train[0, 10:15, 10:15]"
      ],
      "metadata": {
        "colab": {
          "base_uri": "https://localhost:8080/"
        },
        "id": "_XUpYxNyCl13",
        "outputId": "4c052f3a-726d-4eea-da61-4aa9afab06c9"
      },
      "execution_count": 28,
      "outputs": [
        {
          "output_type": "execute_result",
          "data": {
            "text/plain": [
              "array([[0.00392157, 0.60392157, 0.99215686, 0.35294118, 0.        ],\n",
              "       [0.        , 0.54509804, 0.99215686, 0.74509804, 0.00784314],\n",
              "       [0.        , 0.04313725, 0.74509804, 0.99215686, 0.2745098 ],\n",
              "       [0.        , 0.        , 0.1372549 , 0.94509804, 0.88235294],\n",
              "       [0.        , 0.        , 0.        , 0.31764706, 0.94117647]])"
            ]
          },
          "metadata": {},
          "execution_count": 28
        }
      ]
    },
    {
      "cell_type": "markdown",
      "source": [
        "## 3-3. Flatten 레이어"
      ],
      "metadata": {
        "id": "74wciDB_Cot1"
      }
    },
    {
      "cell_type": "markdown",
      "source": [
        "dense 레이어에는 입력값으로 반드시 1차원 배열이 들어가야 하기 때문에 이미지 데이터를 1차원으로 변환해야 함."
      ],
      "metadata": {
        "id": "o6KQuMWunn3Y"
      }
    },
    {
      "cell_type": "code",
      "source": [
        "print(f'변경전 shape: {x_train.shape}')\n",
        "print(f'1D으로 shape 변경 후: {x_train.reshape(60000, -1).shape}')"
      ],
      "metadata": {
        "colab": {
          "base_uri": "https://localhost:8080/"
        },
        "id": "9HBSN34jCly7",
        "outputId": "0e3358a5-5470-4242-bf32-ebb8bdd1b04d"
      },
      "execution_count": 29,
      "outputs": [
        {
          "output_type": "stream",
          "name": "stdout",
          "text": [
            "변경전 shape: (60000, 28, 28)\n",
            "1D으로 shape 변경 후: (60000, 784)\n"
          ]
        }
      ]
    },
    {
      "cell_type": "code",
      "source": [
        "print(f'변경전 shape: {x_train.shape}')\n",
        "\n",
        "# Flatten 레이어 적용 후 shape 확인\n",
        "print(f'Flatten 적용 후: {tf.keras.layers.Flatten()(x_train).shape}')"
      ],
      "metadata": {
        "colab": {
          "base_uri": "https://localhost:8080/"
        },
        "id": "Vh2npRJJClwy",
        "outputId": "e56ca953-dcca-4f36-c181-e991ba23f9e2"
      },
      "execution_count": 30,
      "outputs": [
        {
          "output_type": "stream",
          "name": "stdout",
          "text": [
            "변경전 shape: (60000, 28, 28)\n",
            "Flatten 적용 후: (60000, 784)\n"
          ]
        }
      ]
    },
    {
      "cell_type": "markdown",
      "source": [
        "## 3-4. 활성화 함수\n",
        "* 입력을 비선형 출력으로 변환/추가해주는 함수\n",
        "  * *sigmoid*, *hyperbolic tangent/tanh*, *ReLU*, *Leaky ReLU*"
      ],
      "metadata": {
        "id": "0TBgSLGICr6c"
      }
    },
    {
      "cell_type": "code",
      "source": [
        "# Dense 레이어에 relu 활성화 함수를 적용한 경우\n",
        "tf.keras.layers.Dense(128, activation='relu')"
      ],
      "metadata": {
        "colab": {
          "base_uri": "https://localhost:8080/"
        },
        "id": "ZB43sOLbCluN",
        "outputId": "becac0d8-342a-49f6-ace1-14ad5228da94"
      },
      "execution_count": 31,
      "outputs": [
        {
          "output_type": "execute_result",
          "data": {
            "text/plain": [
              "<keras.layers.core.dense.Dense at 0x7f2f343ee410>"
            ]
          },
          "metadata": {},
          "execution_count": 31
        }
      ]
    },
    {
      "cell_type": "code",
      "source": [
        "# Dense 레이어에 relu 활성화 함수를 적용한 경우\n",
        "model = tf.keras.Sequential([\n",
        "    tf.keras.layers.Dense(128), \n",
        "    tf.keras.layers.Activation('relu')\n",
        "])"
      ],
      "metadata": {
        "id": "I424TtVpCyZl"
      },
      "execution_count": 32,
      "outputs": []
    },
    {
      "cell_type": "markdown",
      "source": [
        "## 3-5. 입력과 출력\n",
        "* 입력) input_shape 지정\n",
        "* 출력) 출력층의 노드 개수 = 분류해야 할 클래스 개수\n",
        "  * 2개 이상일 경우 softmax 활성화 함수 적용(다중 분류)\n",
        "  * 이진 분류&1개-sigmoid"
      ],
      "metadata": {
        "id": "7pAg7BQvCzu-"
      }
    },
    {
      "cell_type": "code",
      "source": [
        "model = tf.keras.Sequential([\n",
        "    tf.keras.layers.Flatten(input_shape=(28, 28)), \n",
        "    tf.keras.layers.Dense(256, activation='relu'), \n",
        "    tf.keras.layers.Dense(64, activation='relu'), \n",
        "    tf.keras.layers.Dense(32, activation='relu'), \n",
        "    # 노드=10개 (클래스 개수와 동일)\n",
        "    tf.keras.layers.Dense(10, activation='softmax'), \n",
        "])"
      ],
      "metadata": {
        "id": "c-VRUlF8C1FR"
      },
      "execution_count": 33,
      "outputs": []
    },
    {
      "cell_type": "code",
      "source": [
        "# 출력층 노드 = 1인 경우, sigmoid\n",
        "tf.keras.layers.Dense(1, activation='sigmoid')\n",
        "\n",
        "# 출력층 노드 = 2개 이상인 경우, softmax\n",
        "tf.keras.layers.Dense(10, activation='softmax')"
      ],
      "metadata": {
        "colab": {
          "base_uri": "https://localhost:8080/"
        },
        "id": "6m_aWgIpC1OU",
        "outputId": "75265366-73e3-4518-ac46-d551ca0ea9a9"
      },
      "execution_count": 34,
      "outputs": [
        {
          "output_type": "execute_result",
          "data": {
            "text/plain": [
              "<keras.layers.core.dense.Dense at 0x7f2f343ae290>"
            ]
          },
          "metadata": {},
          "execution_count": 34
        }
      ]
    },
    {
      "cell_type": "markdown",
      "source": [
        "## 3-6. 손실함수\n",
        "* 이진 분류기\n",
        "  * 활성화 함수: *activation = 'sigmoid'*\n",
        "  * 손실함수: *binary_crossentropy*\n",
        "* 출력층 노드 2개 이상일 경우\n",
        "  * 활성화 함수: *activation = 'softmax'*\n",
        "  * 손실함수: *categorical_crossentropy* or *sparse_categorial_crossentropy*\n",
        "* 출력데이터 y가 원핫 벡터인 경우\n",
        "  * 손실함수: *categorical_crossentropy*\n",
        "* 출력데이터 y가 원핫 벡터가 아닌 경우\n",
        "  * 손실함수: *sparse_categorial_crossentropy*"
      ],
      "metadata": {
        "id": "nkCPNx30C309"
      }
    },
    {
      "cell_type": "code",
      "source": [
        "# 이진 분류 (출력 노드 개수 = 1, sigmoid 인 경우)\n",
        "model.compile(loss='binary_crossentropy')"
      ],
      "metadata": {
        "id": "mRFK9FyRC1LW"
      },
      "execution_count": 35,
      "outputs": []
    },
    {
      "cell_type": "code",
      "source": [
        "# 출력 노드가 2개 이상, softmax 활성화 함수를 적용한 경우\n",
        "\n",
        "# y가 원 핫 벡터인 경우\n",
        "# [0., 0., 0., 0., 0., 1., 0., 0., 0., 0.]\n",
        "model.compile(loss='categorical_crossentropy')\n",
        "\n",
        "# y가 원 핫 벡터가 아닌경우\n",
        "# [5]\n",
        "model.compile(loss='sparse_categorical_crossentropy')"
      ],
      "metadata": {
        "id": "Z3CgEUuAC1JC"
      },
      "execution_count": 36,
      "outputs": []
    },
    {
      "cell_type": "markdown",
      "source": [
        "## 3-7. 옵티마이저\n",
        "* 손실을 낮추기 위해 신경망의 가중치와 학습률과 같은 신경망 속성을 변경하는 데 사용되는 최적화 방법\n",
        "  * SGD, **Adam**, Adagard, Nadam, RMSprop, Adadelta, Adamax, Ftrl\n",
        "* 클래스 인스턴스로 지정(학습률과 같은 하이퍼파라미터 설정가능)하거나 문자열로 지정(클래스 이름 소문자로)"
      ],
      "metadata": {
        "id": "Thtn2bnQC-Du"
      }
    },
    {
      "cell_type": "code",
      "source": [
        "# 클래스 인스턴스로 지정\n",
        "adam = tf.keras.optimizers.Adam(lr=0.001)\n",
        "model.compile(optimizer=adam)\n",
        "\n",
        "# 문자열로 지정\n",
        "model.compile(optimizer='adam')"
      ],
      "metadata": {
        "colab": {
          "base_uri": "https://localhost:8080/"
        },
        "id": "tT_1awaTC_Ud",
        "outputId": "25063b78-8bb8-496d-df4b-c9a5504846d3"
      },
      "execution_count": 37,
      "outputs": [
        {
          "output_type": "stream",
          "name": "stderr",
          "text": [
            "/usr/local/lib/python3.7/dist-packages/keras/optimizer_v2/adam.py:105: UserWarning: The `lr` argument is deprecated, use `learning_rate` instead.\n",
            "  super(Adam, self).__init__(name, **kwargs)\n"
          ]
        }
      ]
    },
    {
      "cell_type": "markdown",
      "source": [
        "## 3-8. 평가지표(metrics)\n",
        "* accuracy, auc, precision, recall\n",
        "* compile() 메소드의 metrics 속성에 평가지표 설정"
      ],
      "metadata": {
        "id": "KJ2ZbrVzDAfa"
      }
    },
    {
      "cell_type": "code",
      "source": [
        "# 클래스 인스턴스로 지정\n",
        "acc = tf.keras.metrics.SparseCategoricalAccuracy()\n",
        "\n",
        "model.compile(optimizer='adam', \n",
        "              loss='sparse_categorical_crossentropy', \n",
        "              metrics=[acc])"
      ],
      "metadata": {
        "id": "rJyiJ1BuDBoW"
      },
      "execution_count": 38,
      "outputs": []
    },
    {
      "cell_type": "code",
      "source": [
        "# 문자열로 지정\n",
        "model.compile(optimizer='adam', \n",
        "              loss='sparse_categorical_crossentropy', \n",
        "              metrics=['accuracy'])"
      ],
      "metadata": {
        "id": "pKhQSTIjDC4W"
      },
      "execution_count": 39,
      "outputs": []
    },
    {
      "cell_type": "markdown",
      "source": [
        "## 3-9. 훈련\n",
        "* validation_data 매개변수에 tuple 형식의 검증 셋 지정(매 epoch마다 훈련 손실, 검증 손실, 평가지표 출력)"
      ],
      "metadata": {
        "id": "smaWoZ3DDEA2"
      }
    },
    {
      "cell_type": "code",
      "source": [
        "model.fit(x_train, y_train, \n",
        "          # 검증셋 지정\n",
        "          validation_data=(x_test, y_test), \n",
        "          epochs=10, \n",
        "          )"
      ],
      "metadata": {
        "colab": {
          "base_uri": "https://localhost:8080/"
        },
        "id": "EQMMZ1xDDFnI",
        "outputId": "d6cbd6e2-24fd-4ec6-e846-bb524099674e"
      },
      "execution_count": 40,
      "outputs": [
        {
          "output_type": "stream",
          "name": "stdout",
          "text": [
            "Epoch 1/10\n",
            "1875/1875 [==============================] - 18s 9ms/step - loss: 0.2247 - accuracy: 0.9326 - val_loss: 0.1389 - val_accuracy: 0.9577\n",
            "Epoch 2/10\n",
            "1875/1875 [==============================] - 11s 6ms/step - loss: 0.0918 - accuracy: 0.9720 - val_loss: 0.0883 - val_accuracy: 0.9722\n",
            "Epoch 3/10\n",
            "1875/1875 [==============================] - 9s 5ms/step - loss: 0.0651 - accuracy: 0.9799 - val_loss: 0.0841 - val_accuracy: 0.9737\n",
            "Epoch 4/10\n",
            "1875/1875 [==============================] - 10s 5ms/step - loss: 0.0487 - accuracy: 0.9846 - val_loss: 0.0818 - val_accuracy: 0.9757\n",
            "Epoch 5/10\n",
            "1875/1875 [==============================] - 13s 7ms/step - loss: 0.0390 - accuracy: 0.9877 - val_loss: 0.0887 - val_accuracy: 0.9767\n",
            "Epoch 6/10\n",
            "1875/1875 [==============================] - 14s 7ms/step - loss: 0.0331 - accuracy: 0.9891 - val_loss: 0.0734 - val_accuracy: 0.9804\n",
            "Epoch 7/10\n",
            "1875/1875 [==============================] - 13s 7ms/step - loss: 0.0269 - accuracy: 0.9916 - val_loss: 0.0994 - val_accuracy: 0.9714\n",
            "Epoch 8/10\n",
            "1875/1875 [==============================] - 14s 8ms/step - loss: 0.0236 - accuracy: 0.9922 - val_loss: 0.0815 - val_accuracy: 0.9795\n",
            "Epoch 9/10\n",
            "1875/1875 [==============================] - 9s 5ms/step - loss: 0.0209 - accuracy: 0.9933 - val_loss: 0.0981 - val_accuracy: 0.9769\n",
            "Epoch 10/10\n",
            "1875/1875 [==============================] - 8s 4ms/step - loss: 0.0196 - accuracy: 0.9938 - val_loss: 0.0889 - val_accuracy: 0.9813\n"
          ]
        },
        {
          "output_type": "execute_result",
          "data": {
            "text/plain": [
              "<keras.callbacks.History at 0x7f2f34402890>"
            ]
          },
          "metadata": {},
          "execution_count": 40
        }
      ]
    },
    {
      "cell_type": "markdown",
      "source": [
        "## 3-10. 평가\n",
        "* evaluate(): 손실과 정확도"
      ],
      "metadata": {
        "id": "CM60p7W0DHPG"
      }
    },
    {
      "cell_type": "code",
      "source": [
        "test_loss, test_acc = model.evaluate(x_test,  y_test)\n",
        "\n",
        "print('검증셋 정확도:', test_acc)"
      ],
      "metadata": {
        "colab": {
          "base_uri": "https://localhost:8080/"
        },
        "id": "VhXCBNpkDFve",
        "outputId": "49cbeb3d-7d69-4e93-e631-caa309414459"
      },
      "execution_count": 41,
      "outputs": [
        {
          "output_type": "stream",
          "name": "stdout",
          "text": [
            "313/313 [==============================] - 1s 2ms/step - loss: 0.0889 - accuracy: 0.9813\n",
            "검증셋 정확도: 0.9812999963760376\n"
          ]
        }
      ]
    },
    {
      "cell_type": "markdown",
      "source": [
        "## 3-11. 예측\n",
        "* predict() 사용\n",
        "  * 여기서는 준비되지 않아 검증 데이터셋의 입력 데이터 사용\n",
        "  * 마지막 출력층의 노드 개수가 10개로 지정되어 10개 출력 후 argmax 이용해 가장 높은 확률값 가지는 클래스 결과 확인"
      ],
      "metadata": {
        "id": "mijD5mWsDJvw"
      }
    },
    {
      "cell_type": "code",
      "source": [
        "predictions = model.predict(x_test)\n",
        "# 예측 결과 출력\n",
        "predictions[0]"
      ],
      "metadata": {
        "colab": {
          "base_uri": "https://localhost:8080/"
        },
        "id": "e12TFTvUDFrl",
        "outputId": "cf0c8009-07d7-4de6-bae3-8caa026936b8"
      },
      "execution_count": 42,
      "outputs": [
        {
          "output_type": "execute_result",
          "data": {
            "text/plain": [
              "array([9.2632035e-09, 5.7325888e-08, 1.7463597e-06, 2.3083685e-05,\n",
              "       6.8553924e-10, 7.5952612e-11, 2.4629754e-12, 9.9997270e-01,\n",
              "       4.4815636e-09, 2.3260905e-06], dtype=float32)"
            ]
          },
          "metadata": {},
          "execution_count": 42
        }
      ]
    },
    {
      "cell_type": "code",
      "source": [
        "import numpy as np\n",
        "\n",
        "# 0번 index에 대한 예측 클래스 출력\n",
        "print(np.argmax(predictions[0]))\n",
        "\n",
        "# 첫 10개 index에 대한 예측 클래스 출력\n",
        "print(np.argmax(predictions[:10], axis=1))"
      ],
      "metadata": {
        "colab": {
          "base_uri": "https://localhost:8080/"
        },
        "id": "sRtaI9cFDM1N",
        "outputId": "7e401d83-ca67-400e-ac4f-7371cf342590"
      },
      "execution_count": 43,
      "outputs": [
        {
          "output_type": "stream",
          "name": "stdout",
          "text": [
            "7\n",
            "[7 2 1 0 4 1 4 9 6 9]\n"
          ]
        }
      ]
    },
    {
      "cell_type": "code",
      "source": [
        "# 데이터 시각화\n",
        "import matplotlib.pyplot as plt\n",
        "\n",
        "def get_one_result(idx):\n",
        "    img, y_true, y_pred, confidence = x_test[idx], y_test[idx], np.argmax(predictions[idx]), 100*np.max(predictions[idx])\n",
        "    return img, y_true, y_pred, confidence\n",
        "    \n",
        "# canvas 생성\n",
        "fig, axes = plt.subplots(3, 5)\n",
        "fig.set_size_inches(12, 10)\n",
        "\n",
        "for i in range(15):\n",
        "    ax = axes[i//5, i%5]\n",
        "\n",
        "    img, y_true, y_pred, confidence = get_one_result(i)\n",
        "\n",
        "    # imshow로 이미지 시각화\n",
        "    ax.imshow(img, cmap='gray')\n",
        "    ax.set_xticks([])\n",
        "    ax.set_yticks([])\n",
        "    ax.set_title(f'True: {y_true}')\n",
        "    ax.set_xlabel(f'Prediction: {y_pred}\\nConfidence: ({confidence:.2f} %)')\n",
        "\n",
        "plt.tight_layout()\n",
        "plt.show()"
      ],
      "metadata": {
        "colab": {
          "base_uri": "https://localhost:8080/",
          "height": 530
        },
        "id": "qczTHQ1uDMy3",
        "outputId": "feee1e88-e7e1-4832-b9bd-296e76fd48c1"
      },
      "execution_count": 44,
      "outputs": [
        {
          "output_type": "display_data",
          "data": {
            "text/plain": [
              "<Figure size 864x720 with 15 Axes>"
            ],
            "image/png": "[encoded data removed]"
          },
          "metadata": {}
        }
      ]
    },
    {
      "cell_type": "markdown",
      "source": [
        "# 04. 모델 세부 설정"
      ],
      "metadata": {
        "id": "Zz_4ZJZKDYtG"
      }
    },
    {
      "cell_type": "code",
      "source": [
        "import tensorflow as tf\n",
        "\n",
        "# 케라스의 내장 데이터셋에서 mnist 데이터셋을 로드\n",
        "mnist = tf.keras.datasets.mnist\n",
        "\n",
        "# load_data()로 데이터셋을 로드 합니다.\n",
        "(x_train, y_train), (x_test, y_test) = mnist.load_data()\n",
        "\n",
        "# 로드된 데이터셋 확인\n",
        "print('train set: ', x_train.shape, y_train.shape)\n",
        "print('test  set: ', x_test.shape, y_test.shape)\n",
        "\n",
        "# 데이터 정규화\n",
        "x_train = x_train / x_train.max() # max: 255\n",
        "x_test = x_test / x_test.max() # max: 255"
      ],
      "metadata": {
        "colab": {
          "base_uri": "https://localhost:8080/"
        },
        "id": "FqaHlvvNDMwl",
        "outputId": "5240867e-7ddf-4888-ef50-39d5dfd308a3"
      },
      "execution_count": 45,
      "outputs": [
        {
          "output_type": "stream",
          "name": "stdout",
          "text": [
            "train set:  (60000, 28, 28) (60000,)\n",
            "test  set:  (10000, 28, 28) (10000,)\n"
          ]
        }
      ]
    },
    {
      "cell_type": "markdown",
      "source": [
        "## 4-1. 초기화\n",
        "* dense 레이어는 Glorot Uniform 초기화 방법 설정\n",
        "  * kernel_initializer 매개변수에 설정해 초기화 방법은 HeNormal로 변경"
      ],
      "metadata": {
        "id": "o57YgLAnDcHa"
      }
    },
    {
      "cell_type": "code",
      "source": [
        "dense = tf.keras.layers.Dense(256, activation='relu')\n",
        "dense.get_config()['kernel_initializer']"
      ],
      "metadata": {
        "colab": {
          "base_uri": "https://localhost:8080/"
        },
        "id": "40x-PWerDdYZ",
        "outputId": "78139bc1-3a84-423b-86c2-99bf687aef5d"
      },
      "execution_count": 46,
      "outputs": [
        {
          "output_type": "execute_result",
          "data": {
            "text/plain": [
              "{'class_name': 'GlorotUniform', 'config': {'seed': None}}"
            ]
          },
          "metadata": {},
          "execution_count": 46
        }
      ]
    },
    {
      "cell_type": "code",
      "source": [
        "# he normal 초기화\n",
        "dense = tf.keras.layers.Dense(256, kernel_initializer='he_normal', activation='relu')\n",
        "dense.get_config()['kernel_initializer']"
      ],
      "metadata": {
        "colab": {
          "base_uri": "https://localhost:8080/"
        },
        "id": "xmbG7l0hDdfX",
        "outputId": "9efb79ef-af67-44c6-fdb0-82ca57bb3145"
      },
      "execution_count": 47,
      "outputs": [
        {
          "output_type": "execute_result",
          "data": {
            "text/plain": [
              "{'class_name': 'HeNormal', 'config': {'seed': None}}"
            ]
          },
          "metadata": {},
          "execution_count": 47
        }
      ]
    },
    {
      "cell_type": "code",
      "source": [
        "# 클래스 인스턴스 초기화\n",
        "he_normal = tf.keras.initializers.HeNormal()\n",
        "dense = tf.keras.layers.Dense(256, kernel_initializer=he_normal, activation='relu')\n",
        "dense.get_config()['kernel_initializer']"
      ],
      "metadata": {
        "colab": {
          "base_uri": "https://localhost:8080/"
        },
        "id": "sPUu_KxlDdcs",
        "outputId": "adba4be2-1419-4525-e076-df65fd1e50b5"
      },
      "execution_count": 48,
      "outputs": [
        {
          "output_type": "execute_result",
          "data": {
            "text/plain": [
              "{'class_name': 'HeNormal', 'config': {'seed': None}}"
            ]
          },
          "metadata": {},
          "execution_count": 48
        }
      ]
    },
    {
      "cell_type": "markdown",
      "source": [
        "## 4-2. 규제\n",
        "* L1, L2 규제 지원, kernel_regularizer에 규제 지정"
      ],
      "metadata": {
        "id": "q0QjOQ8uDjXC"
      }
    },
    {
      "cell_type": "code",
      "source": [
        "# 기본 값\n",
        "dense = tf.keras.layers.Dense(256, activation='relu')\n",
        "dense.get_config()"
      ],
      "metadata": {
        "colab": {
          "base_uri": "https://localhost:8080/"
        },
        "id": "0_KBrzDZDkxc",
        "outputId": "2b846cec-d4df-4cd5-8b65-94578f082b9c"
      },
      "execution_count": 49,
      "outputs": [
        {
          "output_type": "execute_result",
          "data": {
            "text/plain": [
              "{'activation': 'relu',\n",
              " 'activity_regularizer': None,\n",
              " 'bias_constraint': None,\n",
              " 'bias_initializer': {'class_name': 'Zeros', 'config': {}},\n",
              " 'bias_regularizer': None,\n",
              " 'dtype': 'float32',\n",
              " 'kernel_constraint': None,\n",
              " 'kernel_initializer': {'class_name': 'GlorotUniform',\n",
              "  'config': {'seed': None}},\n",
              " 'kernel_regularizer': None,\n",
              " 'name': 'dense_23',\n",
              " 'trainable': True,\n",
              " 'units': 256,\n",
              " 'use_bias': True}"
            ]
          },
          "metadata": {},
          "execution_count": 49
        }
      ]
    },
    {
      "cell_type": "code",
      "source": [
        "# l1 규제 적용\n",
        "dense = tf.keras.layers.Dense(256, kernel_regularizer='l1', activation='relu')\n",
        "print(dense.get_config()['kernel_regularizer'])\n",
        "\n",
        "# 클래스 인스턴스 적용, alpha 값 변경\n",
        "regularizer = tf.keras.regularizers.l1(l1=0.1)\n",
        "dense = tf.keras.layers.Dense(256, kernel_regularizer=regularizer, activation='relu')\n",
        "print(dense.get_config()['kernel_regularizer'])"
      ],
      "metadata": {
        "colab": {
          "base_uri": "https://localhost:8080/"
        },
        "id": "664AzkNhDmXM",
        "outputId": "141f6c27-08b2-41c3-848c-e75eb6680a3d"
      },
      "execution_count": 50,
      "outputs": [
        {
          "output_type": "stream",
          "name": "stdout",
          "text": [
            "{'class_name': 'L1', 'config': {'l1': 0.009999999776482582}}\n",
            "{'class_name': 'L1', 'config': {'l1': 0.10000000149011612}}\n"
          ]
        }
      ]
    },
    {
      "cell_type": "markdown",
      "source": [
        "## 4-3. 드랍아웃\n",
        "* 2014 발표 논문, 과대적합 문제\n",
        "  * 노드의 일부 신호를 임의로 삭제해 과대적합 방지(학습하는 가중치 파라미터의 개수 현저히 줄어듦)\n",
        "  * 예측 시에는 모든 노드 활용"
      ],
      "metadata": {
        "id": "ahu42GcvDna9"
      }
    },
    {
      "cell_type": "code",
      "source": [
        "# Dropout 25% 비율 적용 (25%의 노드가 삭제)\n",
        "tf.keras.layers.Dropout(0.25)"
      ],
      "metadata": {
        "colab": {
          "base_uri": "https://localhost:8080/"
        },
        "id": "5VDOH0caDpKw",
        "outputId": "37e7cb16-cbde-4055-c458-4d348e094162"
      },
      "execution_count": 51,
      "outputs": [
        {
          "output_type": "execute_result",
          "data": {
            "text/plain": [
              "<keras.layers.core.dropout.Dropout at 0x7f2f34deb590>"
            ]
          },
          "metadata": {},
          "execution_count": 51
        }
      ]
    },
    {
      "cell_type": "markdown",
      "source": [
        "## 4-4. 배치 정규화\n",
        "* 2015년, 각 층에서 활성화 함수를 통과하기 전 미니 배치의 스케일을 정규화-다음 층으로 데이터 전달 전 스케일 조정해 안정적이고 성능 향상"
      ],
      "metadata": {
        "id": "jL0cMbcZDqQB"
      }
    },
    {
      "cell_type": "code",
      "source": [
        "# Model A: Dense + ReLU\n",
        "model_a = tf.keras.Sequential([\n",
        "    tf.keras.layers.Flatten(input_shape=(28, 28)),\n",
        "    tf.keras.layers.Dense(64, activation='relu'),\n",
        "    tf.keras.layers.Dense(32, activation='relu'),\n",
        "    tf.keras.layers.Dense(10, activation='softmax'),\n",
        "])\n",
        "model_a.summary()"
      ],
      "metadata": {
        "colab": {
          "base_uri": "https://localhost:8080/"
        },
        "id": "jiMzHadhDrfd",
        "outputId": "c926d528-2606-403b-ba0c-9ba023e97fef"
      },
      "execution_count": 52,
      "outputs": [
        {
          "output_type": "stream",
          "name": "stdout",
          "text": [
            "Model: \"sequential_6\"\n",
            "_________________________________________________________________\n",
            " Layer (type)                Output Shape              Param #   \n",
            "=================================================================\n",
            " flatten_2 (Flatten)         (None, 784)               0         \n",
            "                                                                 \n",
            " dense_26 (Dense)            (None, 64)                50240     \n",
            "                                                                 \n",
            " dense_27 (Dense)            (None, 32)                2080      \n",
            "                                                                 \n",
            " dense_28 (Dense)            (None, 10)                330       \n",
            "                                                                 \n",
            "=================================================================\n",
            "Total params: 52,650\n",
            "Trainable params: 52,650\n",
            "Non-trainable params: 0\n",
            "_________________________________________________________________\n"
          ]
        }
      ]
    },
    {
      "cell_type": "code",
      "source": [
        "# Model B: Dense + BatchNorm + ReLU\n",
        "model_b = tf.keras.Sequential([\n",
        "    tf.keras.layers.Flatten(input_shape=(28, 28)),\n",
        "    tf.keras.layers.Dense(64),\n",
        "    # 배치정규화 적용\n",
        "    tf.keras.layers.BatchNormalization(),\n",
        "    # 배치정규화 후 활성화 함수 적용\n",
        "    tf.keras.layers.Activation('relu'),\n",
        "\n",
        "    tf.keras.layers.Dense(32),\n",
        "    # 배치정규화 적용\n",
        "    tf.keras.layers.BatchNormalization(),\n",
        "    # 배치정규화 후 활성화 함수 적용\n",
        "    tf.keras.layers.Activation('relu'),\n",
        "\n",
        "    tf.keras.layers.Dense(10, activation='softmax'),\n",
        "])\n",
        "model_b.summary()"
      ],
      "metadata": {
        "colab": {
          "base_uri": "https://localhost:8080/"
        },
        "id": "PzVNeF6wDtlT",
        "outputId": "5beb116d-1982-4c03-fbe4-38433efc29be"
      },
      "execution_count": 53,
      "outputs": [
        {
          "output_type": "stream",
          "name": "stdout",
          "text": [
            "Model: \"sequential_7\"\n",
            "_________________________________________________________________\n",
            " Layer (type)                Output Shape              Param #   \n",
            "=================================================================\n",
            " flatten_3 (Flatten)         (None, 784)               0         \n",
            "                                                                 \n",
            " dense_29 (Dense)            (None, 64)                50240     \n",
            "                                                                 \n",
            " batch_normalization (BatchN  (None, 64)               256       \n",
            " ormalization)                                                   \n",
            "                                                                 \n",
            " activation_1 (Activation)   (None, 64)                0         \n",
            "                                                                 \n",
            " dense_30 (Dense)            (None, 32)                2080      \n",
            "                                                                 \n",
            " batch_normalization_1 (Batc  (None, 32)               128       \n",
            " hNormalization)                                                 \n",
            "                                                                 \n",
            " activation_2 (Activation)   (None, 32)                0         \n",
            "                                                                 \n",
            " dense_31 (Dense)            (None, 10)                330       \n",
            "                                                                 \n",
            "=================================================================\n",
            "Total params: 53,034\n",
            "Trainable params: 52,842\n",
            "Non-trainable params: 192\n",
            "_________________________________________________________________\n"
          ]
        }
      ]
    },
    {
      "cell_type": "markdown",
      "source": [
        "## 4-5. 활성화 함수\n",
        "* Dense에 ReLU 적용하는 것 제외한 다른 함수"
      ],
      "metadata": {
        "id": "AE4tqGtUDvFU"
      }
    },
    {
      "cell_type": "code",
      "source": [
        "# LeakyReLU 기본 설정\n",
        "tf.keras.layers.LeakyReLU()\n",
        "\n",
        "# LeakyReLU, alpha=0.2 로 변경\n",
        "tf.keras.layers.LeakyReLU(alpha=0.2)"
      ],
      "metadata": {
        "colab": {
          "base_uri": "https://localhost:8080/"
        },
        "id": "AK3wTSceDwca",
        "outputId": "4a541bd0-e818-4188-8164-d20c18e28bd3"
      },
      "execution_count": 54,
      "outputs": [
        {
          "output_type": "execute_result",
          "data": {
            "text/plain": [
              "<keras.layers.advanced_activations.LeakyReLU at 0x7f2f32297750>"
            ]
          },
          "metadata": {},
          "execution_count": 54
        }
      ]
    },
    {
      "cell_type": "code",
      "source": [
        "# Model C: Dense + BatchNorm + LeakyReLU(0.2)\n",
        "model_c = tf.keras.Sequential([\n",
        "    tf.keras.layers.Flatten(input_shape=(28, 28)),\n",
        "    tf.keras.layers.Dense(64),\n",
        "    # 배치정규화 적용\n",
        "    tf.keras.layers.BatchNormalization(),\n",
        "    # LeakyReLU, alpha=0.2 적용\n",
        "    tf.keras.layers.LeakyReLU(alpha=0.2),\n",
        "\n",
        "    tf.keras.layers.Dense(32),\n",
        "    # 배치정규화 적용\n",
        "    tf.keras.layers.BatchNormalization(),\n",
        "    # LeakyReLU, alpha=0.2 적용\n",
        "    tf.keras.layers.LeakyReLU(alpha=0.2),\n",
        "\n",
        "    tf.keras.layers.Dense(10, activation='softmax'),\n",
        "])\n",
        "\n",
        "# 모델 요약\n",
        "model_c.summary()"
      ],
      "metadata": {
        "colab": {
          "base_uri": "https://localhost:8080/"
        },
        "id": "TjhYvQyvDwk1",
        "outputId": "2a609b06-524a-4b5f-faf3-32467e78e167"
      },
      "execution_count": 55,
      "outputs": [
        {
          "output_type": "stream",
          "name": "stdout",
          "text": [
            "Model: \"sequential_8\"\n",
            "_________________________________________________________________\n",
            " Layer (type)                Output Shape              Param #   \n",
            "=================================================================\n",
            " flatten_4 (Flatten)         (None, 784)               0         \n",
            "                                                                 \n",
            " dense_32 (Dense)            (None, 64)                50240     \n",
            "                                                                 \n",
            " batch_normalization_2 (Batc  (None, 64)               256       \n",
            " hNormalization)                                                 \n",
            "                                                                 \n",
            " leaky_re_lu_2 (LeakyReLU)   (None, 64)                0         \n",
            "                                                                 \n",
            " dense_33 (Dense)            (None, 32)                2080      \n",
            "                                                                 \n",
            " batch_normalization_3 (Batc  (None, 32)               128       \n",
            " hNormalization)                                                 \n",
            "                                                                 \n",
            " leaky_re_lu_3 (LeakyReLU)   (None, 32)                0         \n",
            "                                                                 \n",
            " dense_34 (Dense)            (None, 10)                330       \n",
            "                                                                 \n",
            "=================================================================\n",
            "Total params: 53,034\n",
            "Trainable params: 52,842\n",
            "Non-trainable params: 192\n",
            "_________________________________________________________________\n"
          ]
        }
      ]
    },
    {
      "cell_type": "code",
      "source": [
        "model_a.compile(optimizer='adam', loss='sparse_categorical_crossentropy', metrics=['accuracy'])\n",
        "model_b.compile(optimizer='adam', loss='sparse_categorical_crossentropy', metrics=['accuracy'])\n",
        "model_c.compile(optimizer='adam', loss='sparse_categorical_crossentropy', metrics=['accuracy'])\n",
        "\n",
        "# Model A: Dense + ReLU\n",
        "history_a = model_a.fit(x_train, y_train, \n",
        "                        validation_data=(x_test, y_test), \n",
        "                        epochs=10)\n",
        "\n",
        "# Model B: Dense + BatchNorm + ReLU\n",
        "history_b = model_b.fit(x_train, y_train, \n",
        "                        validation_data=(x_test, y_test), \n",
        "                        epochs=10)\n",
        "\n",
        "# Model C: Dense + BatchNorm + LeakyReLU(0.2)\n",
        "history_c = model_c.fit(x_train, y_train, \n",
        "                        validation_data=(x_test, y_test), \n",
        "                        epochs=10)"
      ],
      "metadata": {
        "colab": {
          "base_uri": "https://localhost:8080/"
        },
        "id": "A6ArUHimDwhL",
        "outputId": "46201080-c171-4e5e-e17c-d6f55de7ac1e"
      },
      "execution_count": 56,
      "outputs": [
        {
          "output_type": "stream",
          "name": "stdout",
          "text": [
            "Epoch 1/10\n",
            "1875/1875 [==============================] - 10s 5ms/step - loss: 0.2939 - accuracy: 0.9143 - val_loss: 0.1584 - val_accuracy: 0.9525\n",
            "Epoch 2/10\n",
            "1875/1875 [==============================] - 7s 4ms/step - loss: 0.1351 - accuracy: 0.9594 - val_loss: 0.1119 - val_accuracy: 0.9655\n",
            "Epoch 3/10\n",
            "1875/1875 [==============================] - 6s 3ms/step - loss: 0.0983 - accuracy: 0.9694 - val_loss: 0.1065 - val_accuracy: 0.9673\n",
            "Epoch 4/10\n",
            "1875/1875 [==============================] - 6s 3ms/step - loss: 0.0771 - accuracy: 0.9766 - val_loss: 0.0965 - val_accuracy: 0.9701\n",
            "Epoch 5/10\n",
            "1875/1875 [==============================] - 5s 3ms/step - loss: 0.0648 - accuracy: 0.9797 - val_loss: 0.0897 - val_accuracy: 0.9729\n",
            "Epoch 6/10\n",
            "1875/1875 [==============================] - 6s 3ms/step - loss: 0.0539 - accuracy: 0.9822 - val_loss: 0.1034 - val_accuracy: 0.9699\n",
            "Epoch 7/10\n",
            "1875/1875 [==============================] - 6s 3ms/step - loss: 0.0445 - accuracy: 0.9858 - val_loss: 0.0979 - val_accuracy: 0.9715\n",
            "Epoch 8/10\n",
            "1875/1875 [==============================] - 7s 4ms/step - loss: 0.0400 - accuracy: 0.9872 - val_loss: 0.0940 - val_accuracy: 0.9722\n",
            "Epoch 9/10\n",
            "1875/1875 [==============================] - 7s 4ms/step - loss: 0.0354 - accuracy: 0.9881 - val_loss: 0.1083 - val_accuracy: 0.9691\n",
            "Epoch 10/10\n",
            "1875/1875 [==============================] - 8s 4ms/step - loss: 0.0296 - accuracy: 0.9906 - val_loss: 0.0959 - val_accuracy: 0.9735\n",
            "Epoch 1/10\n",
            "1875/1875 [==============================] - 14s 6ms/step - loss: 0.3218 - accuracy: 0.9109 - val_loss: 0.1312 - val_accuracy: 0.9613\n",
            "Epoch 2/10\n",
            "1875/1875 [==============================] - 7s 4ms/step - loss: 0.1424 - accuracy: 0.9560 - val_loss: 0.1030 - val_accuracy: 0.9672\n",
            "Epoch 3/10\n",
            "1875/1875 [==============================] - 7s 4ms/step - loss: 0.1106 - accuracy: 0.9659 - val_loss: 0.0899 - val_accuracy: 0.9708\n",
            "Epoch 4/10\n",
            "1875/1875 [==============================] - 8s 4ms/step - loss: 0.0923 - accuracy: 0.9708 - val_loss: 0.0872 - val_accuracy: 0.9714\n",
            "Epoch 5/10\n",
            "1875/1875 [==============================] - 7s 4ms/step - loss: 0.0841 - accuracy: 0.9734 - val_loss: 0.0773 - val_accuracy: 0.9761\n",
            "Epoch 6/10\n",
            "1875/1875 [==============================] - 6s 3ms/step - loss: 0.0745 - accuracy: 0.9763 - val_loss: 0.0771 - val_accuracy: 0.9759\n",
            "Epoch 7/10\n",
            "1875/1875 [==============================] - 7s 4ms/step - loss: 0.0690 - accuracy: 0.9780 - val_loss: 0.0802 - val_accuracy: 0.9766\n",
            "Epoch 8/10\n",
            "1875/1875 [==============================] - 7s 4ms/step - loss: 0.0599 - accuracy: 0.9809 - val_loss: 0.0764 - val_accuracy: 0.9765\n",
            "Epoch 9/10\n",
            "1875/1875 [==============================] - 6s 3ms/step - loss: 0.0583 - accuracy: 0.9809 - val_loss: 0.0758 - val_accuracy: 0.9774\n",
            "Epoch 10/10\n",
            "1875/1875 [==============================] - 6s 3ms/step - loss: 0.0521 - accuracy: 0.9831 - val_loss: 0.0797 - val_accuracy: 0.9766\n",
            "Epoch 1/10\n",
            "1875/1875 [==============================] - 7s 3ms/step - loss: 0.3166 - accuracy: 0.9109 - val_loss: 0.1537 - val_accuracy: 0.9522\n",
            "Epoch 2/10\n",
            "1875/1875 [==============================] - 6s 3ms/step - loss: 0.1546 - accuracy: 0.9539 - val_loss: 0.1160 - val_accuracy: 0.9671\n",
            "Epoch 3/10\n",
            "1875/1875 [==============================] - 6s 3ms/step - loss: 0.1230 - accuracy: 0.9623 - val_loss: 0.0919 - val_accuracy: 0.9722\n",
            "Epoch 4/10\n",
            "1875/1875 [==============================] - 6s 3ms/step - loss: 0.1042 - accuracy: 0.9677 - val_loss: 0.1007 - val_accuracy: 0.9710\n",
            "Epoch 5/10\n",
            "1875/1875 [==============================] - 6s 3ms/step - loss: 0.0922 - accuracy: 0.9711 - val_loss: 0.1099 - val_accuracy: 0.9689\n",
            "Epoch 6/10\n",
            "1875/1875 [==============================] - 6s 3ms/step - loss: 0.0807 - accuracy: 0.9743 - val_loss: 0.0944 - val_accuracy: 0.9710\n",
            "Epoch 7/10\n",
            "1875/1875 [==============================] - 6s 3ms/step - loss: 0.0773 - accuracy: 0.9754 - val_loss: 0.0827 - val_accuracy: 0.9750\n",
            "Epoch 8/10\n",
            "1875/1875 [==============================] - 6s 3ms/step - loss: 0.0695 - accuracy: 0.9775 - val_loss: 0.0824 - val_accuracy: 0.9761\n",
            "Epoch 9/10\n",
            "1875/1875 [==============================] - 6s 3ms/step - loss: 0.0678 - accuracy: 0.9779 - val_loss: 0.0808 - val_accuracy: 0.9760\n",
            "Epoch 10/10\n",
            "1875/1875 [==============================] - 6s 3ms/step - loss: 0.0631 - accuracy: 0.9797 - val_loss: 0.0838 - val_accuracy: 0.9759\n"
          ]
        }
      ]
    },
    {
      "cell_type": "code",
      "source": [
        "import matplotlib.pyplot as plt\n",
        "import numpy as np\n",
        "\n",
        "plt.figure(figsize=(12, 9))\n",
        "plt.plot(np.arange(1, 11), history_a.history['val_loss'], color='navy', linestyle=':')\n",
        "plt.plot(np.arange(1, 11), history_b.history['val_loss'], color='tomato', linestyle='-.')\n",
        "plt.plot(np.arange(1, 11), history_c.history['val_loss'], color='green', linestyle='-')\n",
        "\n",
        "plt.title('Losses', fontsize=20)\n",
        "plt.xlabel('Epochs')\n",
        "plt.ylabel('Losses')\n",
        "plt.legend(['ReLU', 'BatchNorm + ReLU','batchnorm + LeakyReLU'], fontsize=12)\n",
        "plt.show()"
      ],
      "metadata": {
        "colab": {
          "base_uri": "https://localhost:8080/",
          "height": 510
        },
        "id": "Qq8XtsLvD18m",
        "outputId": "8d237f97-3fe8-472e-a850-a35b30bf0982"
      },
      "execution_count": 57,
      "outputs": [
        {
          "output_type": "display_data",
          "data": {
            "text/plain": [
              "<Figure size 864x648 with 1 Axes>"
            ],
            "image/png": "[encoded data removed]"
          },
          "metadata": {
            "needs_background": "light"
          }
        }
      ]
    }
  ]
}
{
  "nbformat": 4,
  "nbformat_minor": 0,
  "metadata": {
    "colab": {
      "name": "220321필사.ipynb",
      "provenance": [],
      "collapsed_sections": [],
      "authorship_tag": "ABX9TyPaRH65wiAf7sshzqsdiDzU",
      "include_colab_link": true
    },
    "kernelspec": {
      "name": "python3",
      "display_name": "Python 3"
    },
    "language_info": {
      "name": "python"
    }
  },
  "cells": [
    {
      "cell_type": "markdown",
      "metadata": {
        "id": "view-in-github",
        "colab_type": "text"
      },
      "source": [
        "<a href=\"https://colab.research.google.com/github/yj9889/ESAA2/blob/main/220321%ED%95%84%EC%82%AC.ipynb\" target=\"_parent\"><img src=\"https://colab.research.google.com/assets/colab-badge.svg\" alt=\"Open In Colab\"/></a>"
      ]
    },
    {
      "cell_type": "markdown",
      "source": [
        "# **핸즈온 머신러닝 - 04. 모델 훈련** \n",
        "##### 2022.03.21."
      ],
      "metadata": {
        "id": "rVttAW4kfsa8"
      }
    },
    {
      "cell_type": "markdown",
      "source": [
        "# [개념정리] & [필사]"
      ],
      "metadata": {
        "id": "0BP9Tc3dfvmG"
      }
    },
    {
      "cell_type": "markdown",
      "source": [
        "> ## 4.1 선형 회귀"
      ],
      "metadata": {
        "id": "W0HnLtzNfxFK"
      }
    },
    {
      "cell_type": "markdown",
      "source": [
        "* 입력 특성의 가중치 합&편향(절편)으로 선형 회귀 모델 생성\n",
        "\n",
        "* 선형 회귀 모델을 훈련시키려면 RMSE(MSE)를 최소화하는 θ(편향 θ0과 θ1에서 θn까지의 특성 가중치를 담은 모델의 파라미터 벡터)를 찾아야 함.\n"
      ],
      "metadata": {
        "id": "sJ7WEMTJhI93"
      }
    },
    {
      "cell_type": "markdown",
      "source": [
        ">> ## 4.1.1 정규 방정식\n",
        "\n",
        "* 비용함수를 최소화하는 θ값을 찾기 위한 해석적인 방법\n"
      ],
      "metadata": {
        "id": "EmA_xfEKgFmH"
      }
    },
    {
      "cell_type": "code",
      "source": [
        "import numpy as np\n",
        "import os\n",
        "\n",
        "X = 2 * np.random.rand(100,1) # 선형처럼 보이는 데이터 생성\n",
        "y = 4 + 3 * X + np.random.randn(100,1)"
      ],
      "metadata": {
        "id": "2AMe8fy7iwAx"
      },
      "execution_count": 6,
      "outputs": []
    },
    {
      "cell_type": "markdown",
      "source": [
        "* *np.linalg.inv()* 함수: 역행렬 계산\n",
        "* T 속성: 전치행렬을 가리킴.\n",
        "* *dot()* 메서드: 행렬 곱셈\n",
        "\n",
        "  * y = 4 + 3X1 + 가우시안 잡음"
      ],
      "metadata": {
        "id": "Tm0AXvSVi-na"
      }
    },
    {
      "cell_type": "code",
      "source": [
        "X_b = np.c_[np.ones((100, 1)), X] # 모든 샘플에 x0 = 1을 추가\n",
        "theta_best = np.linalg.inv(X_b.T.dot(X_b)).dot(X_b.T).dot(y)\n",
        "\n",
        "theta_best"
      ],
      "metadata": {
        "colab": {
          "base_uri": "https://localhost:8080/"
        },
        "id": "xaJ0sG8Vi8mH",
        "outputId": "1a37074b-4a84-41ef-93b3-bfabda1e8728"
      },
      "execution_count": 2,
      "outputs": [
        {
          "output_type": "execute_result",
          "data": {
            "text/plain": [
              "array([[4.1589055 ],\n",
              "       [2.86812114]])"
            ]
          },
          "metadata": {},
          "execution_count": 2
        }
      ]
    },
    {
      "cell_type": "code",
      "source": [
        "X_new = np.array([[0], [2]])\n",
        "X_new_b = np.c_[np.ones((2, 1)), X_new]  # 모든 샘플에 x0 = 1을 추가\n",
        "y_predict = X_new_b.dot(theta_best)\n",
        "y_predict"
      ],
      "metadata": {
        "colab": {
          "base_uri": "https://localhost:8080/"
        },
        "id": "CFy5ZFzdj5xR",
        "outputId": "faf8f8a9-f5ca-4b0e-ea4d-f9ebe13f5bce"
      },
      "execution_count": 3,
      "outputs": [
        {
          "output_type": "execute_result",
          "data": {
            "text/plain": [
              "array([[4.1589055 ],\n",
              "       [9.89514779]])"
            ]
          },
          "metadata": {},
          "execution_count": 3
        }
      ]
    },
    {
      "cell_type": "code",
      "source": [
        "%matplotlib inline\n",
        "import matplotlib as mpl\n",
        "import matplotlib.pyplot as plt\n",
        "\n",
        "plt.plot(X_new, y_predict, \"r-\")\n",
        "plt.plot(X, y, \"b.\")\n",
        "plt.axis([0, 2, 0, 15])\n",
        "plt.show()"
      ],
      "metadata": {
        "colab": {
          "base_uri": "https://localhost:8080/",
          "height": 265
        },
        "id": "a-er7NQYj82C",
        "outputId": "3cb0705f-bf3e-47cd-c671-75fd52eb687e"
      },
      "execution_count": 5,
      "outputs": [
        {
          "output_type": "display_data",
          "data": {
            "text/plain": [
              "<Figure size 432x288 with 1 Axes>"
            ],
            "image/png": "[encoded data removed]"
          },
          "metadata": {
            "needs_background": "light"
          }
        }
      ]
    },
    {
      "cell_type": "markdown",
      "source": [
        "* 사이킷런에서 선형 회귀 수행"
      ],
      "metadata": {
        "id": "-QmzAjlUkJ9y"
      }
    },
    {
      "cell_type": "code",
      "source": [
        "from sklearn.linear_model import LinearRegression\n",
        "\n",
        "lin_reg = LinearRegression()\n",
        "lin_reg.fit(X, y)\n",
        "lin_reg.intercept_, lin_reg.coef_"
      ],
      "metadata": {
        "colab": {
          "base_uri": "https://localhost:8080/"
        },
        "id": "hHca5VMpkLdn",
        "outputId": "22a24587-9456-4b35-ac0e-0e33b271bd92"
      },
      "execution_count": 7,
      "outputs": [
        {
          "output_type": "execute_result",
          "data": {
            "text/plain": [
              "(array([3.89173023]), array([[3.16553024]]))"
            ]
          },
          "metadata": {},
          "execution_count": 7
        }
      ]
    },
    {
      "cell_type": "code",
      "source": [
        "lin_reg.predict(X_new)"
      ],
      "metadata": {
        "colab": {
          "base_uri": "https://localhost:8080/"
        },
        "id": "ykZ-Do_4kPHX",
        "outputId": "c5ba35b6-6a0d-42ee-9d34-a303bfd7702b"
      },
      "execution_count": 8,
      "outputs": [
        {
          "output_type": "execute_result",
          "data": {
            "text/plain": [
              "array([[ 3.89173023],\n",
              "       [10.2227907 ]])"
            ]
          },
          "metadata": {},
          "execution_count": 8
        }
      ]
    },
    {
      "cell_type": "markdown",
      "source": [
        "* 유사역행렬: X+는 X의 유사역행렬\n",
        "  * *np.linalg.pinv()* 함수로 구현\n",
        "\n",
        "* 특잇값 분해(SVD): 표준 행렬 분해 기법\n",
        "  * *LinearRegression.fit()* 함수로 구현"
      ],
      "metadata": {
        "id": "F8Le-3w1kv-K"
      }
    },
    {
      "cell_type": "code",
      "source": [
        "theta_best_svd, residuals, rank, s = np.linalg.lstsq(X_b, y, rcond=1e-6)\n",
        "theta_best_svd"
      ],
      "metadata": {
        "colab": {
          "base_uri": "https://localhost:8080/"
        },
        "id": "I6ESAB8hksAA",
        "outputId": "80a6a2f6-5477-48c7-f7b1-e4f1fc9a4ea1"
      },
      "execution_count": 9,
      "outputs": [
        {
          "output_type": "execute_result",
          "data": {
            "text/plain": [
              "array([[ 7.79746083],\n",
              "       [-0.5387992 ]])"
            ]
          },
          "metadata": {},
          "execution_count": 9
        }
      ]
    },
    {
      "cell_type": "code",
      "source": [
        "np.linalg.pinv(X_b).dot(y)"
      ],
      "metadata": {
        "colab": {
          "base_uri": "https://localhost:8080/"
        },
        "id": "eAy4WZ-7kuxt",
        "outputId": "fb75c7bd-8674-4b57-e4f9-63619f7ce3d6"
      },
      "execution_count": 10,
      "outputs": [
        {
          "output_type": "execute_result",
          "data": {
            "text/plain": [
              "array([[ 7.79746083],\n",
              "       [-0.5387992 ]])"
            ]
          },
          "metadata": {},
          "execution_count": 10
        }
      ]
    },
    {
      "cell_type": "markdown",
      "source": [
        ">> ## 4.1.2 계산 복잡도\n",
        "\n",
        "* 역행렬을 계산하는 계산 복잡도는 O(n^2.4)~O(n^3) 사이\n",
        "  * 특성 수가 2배 늘어나면 계산 시간이 5.3~8배 증가\n",
        "\n",
        "* LinearRegression 클래스가 사용하는 SVD 방법은 약 O(n^2)\n",
        "  * 특성 수가 2배 늘어나면 계산 시간이 4배 증가\n"
      ],
      "metadata": {
        "id": "EzO0fKsDgNdc"
      }
    },
    {
      "cell_type": "markdown",
      "source": [
        "> ## 4.2 경사 하강법\n",
        "* 비용 함수를 최소화하기 위해 반복해서 파라미터를 조정해 가는 것.\n",
        "  * θ에 대해 비용 함수의 현재 그래디언트를 계산하거나 무작위 초기화시키고, 그래디언트를 감소하는 방향으로 진행해 0이 되면 최솟값에 도달.\n",
        "  * 학습률 하이퍼파라미터: 스텝의 크기를 결정. 학습률이 작으면 알고리즘이 수렴하기 위한 반복 시간이 많이 걸림.\n",
        "\n",
        "* MSE 비용함수: 지역 최솟값이 없고 하나의 전역 최솟값만 존재하는 볼록함수, 연속함수, 기울기 급변X\n",
        "  * 파라미터 공간에서 비용함수를 최소화하는 모델 파라미터의 조합을 찾는 모델 훈련을 할 때, 모델이 가진 파라미터의 수가 많을수록 공간의 차원은 커지고 검색이 어려워진다."
      ],
      "metadata": {
        "id": "fXbxK5OTgAS7"
      }
    },
    {
      "cell_type": "markdown",
      "source": [
        ">> ## 4.2.1 배치 경사 하강법"
      ],
      "metadata": {
        "id": "rL5T_gdngRmw"
      }
    },
    {
      "cell_type": "markdown",
      "source": [
        "* 편도 함수: 각 모델 파라미터θj에 대해 비용 함수의 그래디언트 계산.(MSE(θ)를 j에 대해 미분)\n",
        "\n",
        "  * *eta*: 학습률 0.1\n",
        "  * *n_iterations*: 에포크 수 1000"
      ],
      "metadata": {
        "id": "lZeB9HOOpmwS"
      }
    },
    {
      "cell_type": "code",
      "source": [
        "eta = 0.1  # 학습률\n",
        "n_iterations = 1000 # 에포크 수\n",
        "\n",
        "# 무작위로 생성한 100개의 샘플 수\n",
        "m = 100\n",
        "\n",
        "# theta0, theta1 파라미터 임의로 초기값 지정\n",
        "theta = np.random.randn(2,1)\n",
        "\n",
        "for iteration in range(n_iterations):\n",
        "    gradients = 2/m * X_b.T.dot(X_b.dot(theta) - y)\n",
        "    theta = theta - eta * gradients\n",
        "  \n",
        "\n",
        "theta # 정규방정식으로 찾은 것과 동일."
      ],
      "metadata": {
        "colab": {
          "base_uri": "https://localhost:8080/"
        },
        "id": "B8XCMl3epjd3",
        "outputId": "eaa46c28-0116-46c5-8404-f9feaeea7b69"
      },
      "execution_count": 12,
      "outputs": [
        {
          "output_type": "execute_result",
          "data": {
            "text/plain": [
              "array([[ 7.79746083],\n",
              "       [-0.5387992 ]])"
            ]
          },
          "metadata": {},
          "execution_count": 12
        }
      ]
    },
    {
      "cell_type": "markdown",
      "source": [
        "* 반복 횟수를 아주 크게 지정하고 그래디언트 벡터가 아주 작아지면, 즉 벡터의 노름이 어떤 값 ε(=허용오차)보다 작아지면 경사하강법이 최솟값에 도달했으므로 알고리즘 중지. "
      ],
      "metadata": {
        "id": "YVoho6JXqLJ5"
      }
    },
    {
      "cell_type": "markdown",
      "source": [
        ">> ## 4.2.2 확률적 경사 하강법\n",
        "\n",
        "* 매 스텝에서 한 개의 샘플을 무작위로 선택하고 그 하나의 샘플에 대한 그래디언트를 계산.\n",
        "  * 매 반복에서 다뤄야 할 데이터가 매우 적어 한 번에 하나의 샘플을 처리하면 알고리즘이 훨씬 빨라지고 큰 훈련 세트도 훈련시킬 수 있음.\n",
        "\n",
        "* 배치경사하강법과 비교\n",
        "  * cons: 확률적(무작위)이라서 배치경사하강법보다 불안정.\n",
        "  * pros: 비용 함수가 매우 불규칙할 경우 알고리즘이 지역 최솟값을 건너뛸 수 있도록 하므로 배치 경사하강법보다 전역 최솟값을 찾을 가능성 높음.\n",
        "  * 해결: 학습률을 점진적으로 감소시킴. 담금질 기법 알고리즘과 유사.\n",
        "\n",
        "* 학습 스케줄: 매 반복에서 학습률을 결정하는 함수.\n",
        "  * 학습률이 너무 빨리 줄어들면, 지역 최솟값에 갇히거나 가는 중간에 멈춤\n",
        "  * 학습률이 너무 천천히 줄어들면, 오랫동안 최솟값 주변을 맴돌거나 훈련을 너무 일찍 중지해 지역 최솟값에 머무르게 됨\n"
      ],
      "metadata": {
        "id": "9k5iDZTogVhy"
      }
    },
    {
      "cell_type": "code",
      "source": [
        "n_epochs = 50\n",
        "\n",
        "# 학습 스케줄\n",
        "t0, t1 = 5, 50\n",
        "\n",
        "def learning_schedule(t):\n",
        "    return t0 / (t + t1)\n",
        "\n",
        "# 파라미터 초기값\n",
        "theta = np.random.randn(2,1)\n",
        "\n",
        "for epoch in range(n_epochs):\n",
        "    for i in range(m):\n",
        "      # 샘플 무작위 선택\n",
        "        random_index = np.random.randint(m) \n",
        "        xi = X_b[random_index:random_index+1]\n",
        "        yi = y[random_index:random_index+1]\n",
        "        \n",
        "        # 그레이디언트 계산\n",
        "        gradients = 2 * xi.T.dot(xi.dot(theta) - yi)\n",
        "        # 학습률 조정\n",
        "        eta = learning_schedule(epoch * m + i)\n",
        "        # 파라미터 조정\n",
        "        theta = theta - eta * gradients"
      ],
      "metadata": {
        "id": "KEGIRFbKwBma"
      },
      "execution_count": 13,
      "outputs": []
    },
    {
      "cell_type": "markdown",
      "source": [
        "* 에포크: 훈련 세트에 있는 샘플 수 만큼 반복되는데, 이때 각 반복을 의미."
      ],
      "metadata": {
        "id": "2XJw7QzgwOzC"
      }
    },
    {
      "cell_type": "code",
      "source": [
        "theta"
      ],
      "metadata": {
        "colab": {
          "base_uri": "https://localhost:8080/"
        },
        "id": "I1YRX4IWwXq_",
        "outputId": "3fb2bc88-452c-4c14-c35f-b29626fdb8e7"
      },
      "execution_count": 14,
      "outputs": [
        {
          "output_type": "execute_result",
          "data": {
            "text/plain": [
              "array([[ 7.82694508],\n",
              "       [-0.52654536]])"
            ]
          },
          "metadata": {},
          "execution_count": 14
        }
      ]
    },
    {
      "cell_type": "markdown",
      "source": [
        "* 사이킷런 SGDRegressor\n",
        "  * *max_iter=1000*: 에포크 수 1000번으로 제한.\n",
        "  * *tol=1e-3*: 허용 오차는 0.001.\n",
        "  * *eta0=0,1* SGDRegressor가 사용하는 학습 스케줄 함수에 사용되는 매개 변수. 이전과는 다른 학습률\n",
        "  * *penalty=None*: 규제를 사용하지 않음"
      ],
      "metadata": {
        "id": "eTXMo6iUwc2Z"
      }
    },
    {
      "cell_type": "code",
      "source": [
        "from sklearn.linear_model import SGDRegressor\n",
        "\n",
        "sgd_reg = SGDRegressor(max_iter=1000, tol=1e-3, penalty=None, eta0=0.1, random_state=42)\n",
        "sgd_reg.fit(X, y.ravel())"
      ],
      "metadata": {
        "colab": {
          "base_uri": "https://localhost:8080/"
        },
        "id": "uYlYx1BEwX8j",
        "outputId": "cc8f991a-01de-4ab7-ce41-a5434feff3eb"
      },
      "execution_count": 18,
      "outputs": [
        {
          "output_type": "execute_result",
          "data": {
            "text/plain": [
              "SGDRegressor(eta0=0.1, penalty=None, random_state=42)"
            ]
          },
          "metadata": {},
          "execution_count": 18
        }
      ]
    },
    {
      "cell_type": "code",
      "source": [
        "sgd_reg.intercept_, sgd_reg.coef_"
      ],
      "metadata": {
        "colab": {
          "base_uri": "https://localhost:8080/"
        },
        "id": "vnZsjmYow9Nv",
        "outputId": "34e17dba-06d9-4958-f4a8-127655221788"
      },
      "execution_count": 19,
      "outputs": [
        {
          "output_type": "execute_result",
          "data": {
            "text/plain": [
              "(array([3.79955663]), array([3.10412798]))"
            ]
          },
          "metadata": {},
          "execution_count": 19
        }
      ]
    },
    {
      "cell_type": "markdown",
      "source": [
        ">> ## 4.2.3 미니배치 경사 하강법\n",
        "\n",
        "* 각 스탭에서 전체 훈련 세트나 하나의 샘플을 기반으로 그래디언트를 계산하는 것이 아니라 미니배치라 부르는 임의의 작은 샘플에 대해 그래디언트 계산.\n",
        "  * 장점: 행렬연산에 최적화된 하드웨어, GPU를 사용하여 얻는 성능 향상.\n",
        "  * SGD보다 덜 불규칙해 최솟값에 더 가까이 도달하지만 지역 최솟값에서 빠져나오기 힘들 수 있음.(지역 최솟값이 문제되는 경우)"
      ],
      "metadata": {
        "id": "__EEQmRQgaMz"
      }
    },
    {
      "cell_type": "markdown",
      "source": [
        "> ## 4.3 다항 회귀\n",
        "\n",
        "* 비선형 데이터의 각 특성의 거듭제곱을 새로운 특성으로 추가하고, 이 확장된 특성을 포함한 데이터셋에 선형 모델을 훈련시키는 것.\n"
      ],
      "metadata": {
        "id": "ynK4WtLbgcdI"
      }
    },
    {
      "cell_type": "code",
      "source": [
        "m = 100\n",
        "X = 6 * np.random.rand(m, 1) - 3\n",
        "y = 0.5 * X**2 + X + 2 + np.random.randn(m, 1)"
      ],
      "metadata": {
        "id": "yYI7LUYJzRvd"
      },
      "execution_count": 20,
      "outputs": []
    },
    {
      "cell_type": "code",
      "source": [
        "from sklearn.preprocessing import PolynomialFeatures\n",
        "poly_features = PolynomialFeatures(degree=2, include_bias=False)\n",
        "X_poly = poly_features.fit_transform(X)\n",
        "\n",
        "X[0]"
      ],
      "metadata": {
        "colab": {
          "base_uri": "https://localhost:8080/"
        },
        "id": "LB96csy2zbLT",
        "outputId": "83618933-51cd-407b-afcf-2ab6a20c8111"
      },
      "execution_count": 21,
      "outputs": [
        {
          "output_type": "execute_result",
          "data": {
            "text/plain": [
              "array([2.21405451])"
            ]
          },
          "metadata": {},
          "execution_count": 21
        }
      ]
    },
    {
      "cell_type": "code",
      "source": [
        "X_poly[0]"
      ],
      "metadata": {
        "colab": {
          "base_uri": "https://localhost:8080/"
        },
        "id": "0-4ot7NAzhC8",
        "outputId": "f4cd8807-b4bd-4f04-edf5-85eaa51d1e4d"
      },
      "execution_count": 22,
      "outputs": [
        {
          "output_type": "execute_result",
          "data": {
            "text/plain": [
              "array([2.21405451, 4.90203739])"
            ]
          },
          "metadata": {},
          "execution_count": 22
        }
      ]
    },
    {
      "cell_type": "markdown",
      "source": [
        "* 사이킷런의 PolynomialFeatures: 변환기가 주어진 특성들의 거듭제곱과 특성들 사이의 곱셈을 실행하여 특성을 추가하는 기능을 제공"
      ],
      "metadata": {
        "id": "WVGr_s8EznSl"
      }
    },
    {
      "cell_type": "code",
      "source": [
        "lin_reg = LinearRegression()\n",
        "lin_reg.fit(X_poly, y)\n",
        "\n",
        "lin_reg.intercept_, lin_reg.coef_"
      ],
      "metadata": {
        "colab": {
          "base_uri": "https://localhost:8080/"
        },
        "id": "AI7nnC5yzwqR",
        "outputId": "98539e97-dc74-4857-a10d-f430e7083c74"
      },
      "execution_count": 23,
      "outputs": [
        {
          "output_type": "execute_result",
          "data": {
            "text/plain": [
              "(array([2.08560923]), array([[0.98128007, 0.50250706]]))"
            ]
          },
          "metadata": {},
          "execution_count": 23
        }
      ]
    },
    {
      "cell_type": "markdown",
      "source": [
        "> ## 4.4 학습 곡선\n",
        "\n",
        "* 훈련 세트와 검증 세트의 모델 성능을 훈련ㅅ ㅔ트 크기(또는 훈련 반복)의 함수로 나타냄.\n",
        "  * 훈련 세트에서 크기가 다른 서브 세트를 만들어 모델을 여러 번 훈련시킴."
      ],
      "metadata": {
        "id": "p4p219B1gfsu"
      }
    },
    {
      "cell_type": "code",
      "source": [
        "from sklearn.metrics import mean_squared_error\n",
        "from sklearn.model_selection import train_test_split\n",
        "\n",
        "def plot_learning_curves(model, X, y):\n",
        "    # 훈련 세트와 검증 세트로 분리 (8대 2)\n",
        "    X_train, X_val, y_train, y_val = train_test_split(X, y, test_size=0.2, random_state=10)\n",
        "    # 평균 제곱근 오차 기억 리스트\n",
        "    train_errors, val_errors = [], []\n",
        "    \n",
        "    # 총 len(X_train) 번 학습 반복\n",
        "    # 반복할 때마다 훈련 세트의 크기가 1씩 커진다.\n",
        "    for m in range(1, len(X_train)):\n",
        "        model.fit(X_train[:m], y_train[:m])\n",
        "        # 훈련 세트와 검증 세트에 대한 예측\n",
        "        y_train_predict = model.predict(X_train[:m])\n",
        "        y_val_predict = model.predict(X_val)\n",
        "        # 훈련 세트와 검증 세트에 대한 평균 제곱근 오차 계산 후 기억 리스트에 추가\n",
        "        train_errors.append(mean_squared_error(y_train[:m], y_train_predict))\n",
        "        val_errors.append(mean_squared_error(y_val, y_val_predict))\n",
        "\n",
        "    # 평균 제곱근 오차 그래프 그리기\n",
        "    plt.plot(np.sqrt(train_errors), \"r-+\", linewidth=2, label=\"훈련 세트\")\n",
        "    plt.plot(np.sqrt(val_errors), \"b-\", linewidth=3, label=\"검증 세트\")"
      ],
      "metadata": {
        "id": "g-f8olnB0ii-"
      },
      "execution_count": 27,
      "outputs": []
    },
    {
      "cell_type": "code",
      "source": [
        "lin_reg = LinearRegression()\n",
        "plot_learning_curves(lin_reg, X, y) # 단순 선형 회귀 모델의 학습 곡선"
      ],
      "metadata": {
        "colab": {
          "base_uri": "https://localhost:8080/",
          "height": 265
        },
        "id": "QRQrJh2H0v1z",
        "outputId": "54a207ed-04f7-40f5-baaf-fb58c5a5b9f9"
      },
      "execution_count": 28,
      "outputs": [
        {
          "output_type": "display_data",
          "data": {
            "text/plain": [
              "<Figure size 432x288 with 1 Axes>"
            ],
            "image/png": "[encoded data removed]"
          },
          "metadata": {
            "needs_background": "light"
          }
        }
      ]
    },
    {
      "cell_type": "markdown",
      "source": [
        "* 위 그래프: 과소적합된 모델. 곡선이 편평해질 때까지 오차가 계속 상승. 모델에 훈련 샘플이 추가됨에 따라 학습이 되어 검증 오차가 천천히 감소."
      ],
      "metadata": {
        "id": "Acxg2Y2z02_w"
      }
    },
    {
      "cell_type": "code",
      "source": [
        "from sklearn.pipeline import Pipeline\n",
        "# 10차 다항 회귀 모델의 학습 곡선\n",
        "polynomial_regression = Pipeline([\n",
        "        (\"poly_features\", PolynomialFeatures(degree=10, include_bias=False)),\n",
        "        (\"lin_reg\", LinearRegression()),\n",
        "    ])\n",
        "\n",
        "plot_learning_curves(polynomial_regression, X, y)"
      ],
      "metadata": {
        "colab": {
          "base_uri": "https://localhost:8080/",
          "height": 265
        },
        "id": "J65NA0mX1TZg",
        "outputId": "801ccfef-818a-43c0-a5e4-9d6b619886ad"
      },
      "execution_count": 31,
      "outputs": [
        {
          "output_type": "display_data",
          "data": {
            "text/plain": [
              "<Figure size 432x288 with 1 Axes>"
            ],
            "image/png": "[encoded data removed]"
          },
          "metadata": {
            "needs_background": "light"
          }
        }
      ]
    },
    {
      "cell_type": "markdown",
      "source": [
        "* 훈련 데이터의 오차가 선형 회귀 모델보다 훨씬 낮음.\n",
        "* 두 곡선 사이의 공간 - 훈련 데이터에서의 모델 성능이 검증 데이터에서보다 훨씬 낫다.(과대적합 모델의 특징)\n",
        "\n",
        "* 편향/분산 트레이드오프 - 모델의 일반화 오차는 세 오차의 합으로 표현\n",
        "  * 편향: 잘못된 가정으로 인해 생김. 편향 크면 과소적합\n",
        "  * 분산: 훈련 데이터의 작은 변동에 모델이 민감하기 때문에 나타남. 자유도가 높으면 높은 분산 가져 훈련 데이터에 과대적합.\n",
        "  * 줄일 수 없는 오차: 데이터에서 잡음 제거\n",
        "  * 모델의 복잡도 커지면 분산 늘어나고 편향 줄어듦."
      ],
      "metadata": {
        "id": "OTGs_NWB2AU_"
      }
    },
    {
      "cell_type": "markdown",
      "source": [
        "> ## 4.5 규제가 있는 선형 모델\n",
        "* 다항식의 차수를 감소시킴(모델의 가중치를 제한)"
      ],
      "metadata": {
        "id": "tChWohrpgh25"
      }
    },
    {
      "cell_type": "markdown",
      "source": [
        ">> ## 4.5.1 릿지 회귀\n",
        "* 규제항이 추가된 선형 회귀 버전.\n",
        "  * 모델의 가중치가 가능한 한 작게 유지되도록 노력. \n",
        "  * 규제항은 훈련하는 동안에만 비용함수에 추가됨.(성능지표도 규제가 없는 모델로 평가)\n",
        "* 하이퍼파라미터 α=0: 선형회귀와 같은 릿지 회귀\n",
        "  * α가 아주 크면, 모든 가중치가 0에 가까워지고 평균을 지나는 수평선이 됨."
      ],
      "metadata": {
        "id": "qlI411Kogmb8"
      }
    },
    {
      "cell_type": "code",
      "source": [
        "from sklearn.linear_model import Ridge\n",
        "ridge_reg = Ridge(alpha=1, solver=\"cholesky\")\n",
        "ridge_reg.fit(X, y)\n",
        "\n",
        "# 릿지 회귀 - 예측 예제\n",
        "ridge_reg.predict([[1.5]])"
      ],
      "metadata": {
        "colab": {
          "base_uri": "https://localhost:8080/"
        },
        "id": "7F0TnGLr3-Sc",
        "outputId": "562cf472-9dd6-4a5f-e585-8021465f1dd5"
      },
      "execution_count": 34,
      "outputs": [
        {
          "output_type": "execute_result",
          "data": {
            "text/plain": [
              "array([[5.23263332]])"
            ]
          },
          "metadata": {},
          "execution_count": 34
        }
      ]
    },
    {
      "cell_type": "code",
      "source": [
        "sgd_reg = SGDRegressor(penalty=\"l2\", max_iter=1000, tol=1e-3, random_state=42)\n",
        "sgd_reg.fit(X, y.ravel())\n",
        "\n",
        "# 확률적 경사하강법 - 예측 예제\n",
        "sgd_reg.predict([[1.5]])"
      ],
      "metadata": {
        "colab": {
          "base_uri": "https://localhost:8080/"
        },
        "id": "Hrd0id6i4D_L",
        "outputId": "358449d0-cbc6-4daf-d09b-9cff73d38153"
      },
      "execution_count": 33,
      "outputs": [
        {
          "output_type": "execute_result",
          "data": {
            "text/plain": [
              "array([5.21954792])"
            ]
          },
          "metadata": {},
          "execution_count": 33
        }
      ]
    },
    {
      "cell_type": "markdown",
      "source": [
        ">> ## 4.5.2 라쏘 회귀\n",
        "* 릿지 회귀처럼 비용함수에 규제항을 더하지만, l2노름의 제곱을 2로 나눈 것 대신 가중치 벡터의 l1 노름 사용.\n",
        "  * 덜 중요한 특성의 가중치를 제거하려는 특징.(즉, 가중치가 0이 된다.) = 자동으로 특성을 선택하고 희소 모델 생성.(0이 아닌 특성의 가중치가 적다.)\n",
        "  * 서브그래디언트백터 g를 사용하면 경사 하강법을 적용하는데 문제가 없다.\n",
        "  * Lasso 대신 SGDRegressor(penalty=\"l1\") 사용 가능"
      ],
      "metadata": {
        "id": "IYzn86fWgpmJ"
      }
    },
    {
      "cell_type": "code",
      "source": [
        "from sklearn.linear_model import Lasso\n",
        "\n",
        "lasso_reg = Lasso(alpha=0.1)\n",
        "lasso_reg.fit(X, y)\n",
        "\n",
        "# 예측 예제\n",
        "lasso_reg.predict([[1.5]])"
      ],
      "metadata": {
        "colab": {
          "base_uri": "https://localhost:8080/"
        },
        "id": "PR3YD48d477b",
        "outputId": "5c9683e1-4ae7-4b78-a014-3af4d11c197c"
      },
      "execution_count": 35,
      "outputs": [
        {
          "output_type": "execute_result",
          "data": {
            "text/plain": [
              "array([5.19405826])"
            ]
          },
          "metadata": {},
          "execution_count": 35
        }
      ]
    },
    {
      "cell_type": "markdown",
      "source": [
        ">> ## 4.5.3 엘라스틱넷\n",
        "* 릿지 회귀와 라쏘 회귀 절충\n",
        "  * 규제항: 릿지와 회귀 규제항 단순 더함.\n",
        "    * 혼합 정도: 혼합 비율 r을 사용해 조절(r=0: 릿지회귀, r=1: 라쏘 회귀)\n",
        "  * 특성 수가 훈련 샘플보다 많거나 특성 몇 개가 강하게 연관되어 있을 때는 보통 라쏘가 문제를 일으키므로 라쏘보다 엘라스틱넷 선호."
      ],
      "metadata": {
        "id": "_yWtJR0Bgsz8"
      }
    },
    {
      "cell_type": "code",
      "source": [
        "from sklearn.linear_model import ElasticNet\n",
        "elastic_net = ElasticNet(alpha=0.1, l1_ratio=0.5, random_state=42)\n",
        "elastic_net.fit(X, y)\n",
        "\n",
        "# 예측 예제\n",
        "elastic_net.predict([[1.5]])"
      ],
      "metadata": {
        "colab": {
          "base_uri": "https://localhost:8080/"
        },
        "id": "RQOeJKjY5Voq",
        "outputId": "a5be220e-15c0-426b-f1b2-7e354e0a1b76"
      },
      "execution_count": 36,
      "outputs": [
        {
          "output_type": "execute_result",
          "data": {
            "text/plain": [
              "array([5.19256695])"
            ]
          },
          "metadata": {},
          "execution_count": 36
        }
      ]
    },
    {
      "cell_type": "markdown",
      "source": [
        ">> ## 4.5.4 조기 종료\n",
        "* 검증 에러가 최솟값에 도달하면 바로 훈련 중지시킴. "
      ],
      "metadata": {
        "id": "WEyEd1qkgvMC"
      }
    },
    {
      "cell_type": "code",
      "source": [
        "from sklearn.base import clone\n",
        "from sklearn.preprocessing import StandardScaler\n",
        "\n",
        "np.random.seed(42)\n",
        "m = 100\n",
        "X = 6 * np.random.rand(m, 1) - 3\n",
        "y = 2 + X + 0.5 * X**2 + np.random.randn(m, 1)\n",
        "\n",
        "X_train, X_val, y_train, y_val = train_test_split(X[:50], y[:50].ravel(), test_size=0.5, random_state=10)\n",
        "\n",
        "poly_scaler = Pipeline([\n",
        "        (\"poly_features\", PolynomialFeatures(degree=90, include_bias=False)),\n",
        "        (\"std_scaler\", StandardScaler())\n",
        "    ])\n",
        "\n",
        "X_train_poly_scaled = poly_scaler.fit_transform(X_train)\n",
        "X_val_poly_scaled = poly_scaler.transform(X_val)\n",
        "\n",
        "# 확률적 경사 하강법 모델 설정. 규제 없음.\n",
        "sgd_reg = SGDRegressor(max_iter=1, tol=-np.infty, warm_start=True,\n",
        "                       penalty=None, learning_rate=\"constant\", eta0=0.0005, random_state=42)\n",
        "\n",
        "# 최대 1000번까지 전체 훈련 데이터 대상 학습을 반복하면서 평균 제곱근 오차(RMSE)가 작아질 때마다 \n",
        "# 최소 RMSE 와 반복 횟수(에포크), 그리고 최고 성능의 모델 파라미터를 기억한다. \n",
        "# 최종적으로 가장 성능이 좋은 훈련 세트를 기억함. \n",
        "minimum_val_error = float(\"inf\")\n",
        "best_epoch = None\n",
        "best_model = None\n",
        "for epoch in range(1000):\n",
        "    sgd_reg.fit(X_train_poly_scaled, y_train)  # 중지된 곳에서 다시 시작합니다\n",
        "    y_val_predict = sgd_reg.predict(X_val_poly_scaled)\n",
        "    val_error = mean_squared_error(y_val, y_val_predict)\n",
        "    if val_error < minimum_val_error:\n",
        "        minimum_val_error = val_error\n",
        "        best_epoch = epoch\n",
        "        # 베스트 모델 복제해서 기억해두기\n",
        "        best_model = clone(sgd_reg)"
      ],
      "metadata": {
        "id": "4e8zWGJLDgC6"
      },
      "execution_count": 40,
      "outputs": []
    },
    {
      "cell_type": "markdown",
      "source": [
        "> ## 4.6 로지스틱 회귀\n",
        "* 샘플이 특정 클래스에 속할 확률을 추정.\n",
        "  * 양성 클래스: 레이블이 '1'\n",
        "  * 음성 클래스: 레이블이 '0'"
      ],
      "metadata": {
        "id": "J6vfi_qwgxlf"
      }
    },
    {
      "cell_type": "markdown",
      "source": [
        ">> ## 4.6.1 확률 추정\n",
        "* 선형 회귀 모델과 같이 로지스틱 회귀 모델은 입력 특성의 가중치 합을 계산하고 편향을 더한다. 대신, 바로 결과를 출력하지 않고 결과값의 로지스틱을 출력.\n",
        "* 로지스틱은 0과 1 사이의 값을 출력하는 시그모이드 함수(S자 형태)"
      ],
      "metadata": {
        "id": "YMdNTqIFgz2c"
      }
    },
    {
      "cell_type": "markdown",
      "source": [
        ">> ## 4.6.2 훈련과 비용 함수\n",
        "* 훈련의 목적: 양성 샘플(y=1)에 대해 높은 확률을 추정, 음성 샘플(y=0)에 대해 낮은 확률을 추정하는 모델의 파라미터 벡터 θ를 찾는 것.\n",
        "* 비용 함수의 최솟값을 계산하는 알려진 해가 없으나 볼록함수이므로 경사하강법 또는 이 전역 최솟값을 찾는 것을 보장한다.\n",
        "\n"
      ],
      "metadata": {
        "id": "d9EB30D5g2RY"
      }
    },
    {
      "cell_type": "markdown",
      "source": [
        ">> ## 4.6.3 결정 경계"
      ],
      "metadata": {
        "id": "5EX3ZWYag4_A"
      }
    },
    {
      "cell_type": "code",
      "source": [
        "from sklearn import datasets\n",
        "iris = datasets.load_iris() #사전 자료형으로 가져옴\n",
        "list(iris.keys())"
      ],
      "metadata": {
        "colab": {
          "base_uri": "https://localhost:8080/"
        },
        "id": "jqSST3VKE5m8",
        "outputId": "aca53d74-41dd-4d12-8e17-dce7878e76c3"
      },
      "execution_count": 41,
      "outputs": [
        {
          "output_type": "execute_result",
          "data": {
            "text/plain": [
              "['data',\n",
              " 'target',\n",
              " 'frame',\n",
              " 'target_names',\n",
              " 'DESCR',\n",
              " 'feature_names',\n",
              " 'filename',\n",
              " 'data_module']"
            ]
          },
          "metadata": {},
          "execution_count": 41
        }
      ]
    },
    {
      "cell_type": "code",
      "source": [
        "# 꽃잎 너비만 특성으로 사용\n",
        "X = iris[\"data\"][:, 3:]\n",
        "\n",
        "# Iris virginica이면 1 아니면 0\n",
        "y = (iris[\"target\"] == 2).astype(np.int)"
      ],
      "metadata": {
        "colab": {
          "base_uri": "https://localhost:8080/"
        },
        "id": "n7MeLNwYFDJY",
        "outputId": "2c43489f-947d-436e-91e8-bb27f07d7037"
      },
      "execution_count": 42,
      "outputs": [
        {
          "output_type": "stream",
          "name": "stderr",
          "text": [
            "/usr/local/lib/python3.7/dist-packages/ipykernel_launcher.py:5: DeprecationWarning: `np.int` is a deprecated alias for the builtin `int`. To silence this warning, use `int` by itself. Doing this will not modify any behavior and is safe. When replacing `np.int`, you may wish to use e.g. `np.int64` or `np.int32` to specify the precision. If you wish to review your current use, check the release note link for additional information.\n",
            "Deprecated in NumPy 1.20; for more details and guidance: https://numpy.org/devdocs/release/1.20.0-notes.html#deprecations\n",
            "  \"\"\"\n"
          ]
        }
      ]
    },
    {
      "cell_type": "code",
      "source": [
        "from sklearn.linear_model import LogisticRegression\n",
        "log_reg = LogisticRegression(solver=\"lbfgs\", random_state=42)\n",
        "log_reg.fit(X, y)"
      ],
      "metadata": {
        "colab": {
          "base_uri": "https://localhost:8080/"
        },
        "id": "-oAmGLH8FEda",
        "outputId": "5ddae4cd-8209-4e0c-aa6f-5b3b137aff8f"
      },
      "execution_count": 43,
      "outputs": [
        {
          "output_type": "execute_result",
          "data": {
            "text/plain": [
              "LogisticRegression(random_state=42)"
            ]
          },
          "metadata": {},
          "execution_count": 43
        }
      ]
    },
    {
      "cell_type": "code",
      "source": [
        "X_new = np.linspace(0, 3, 1000).reshape(-1, 1)\n",
        "y_proba = log_reg.predict_proba(X_new)\n",
        "\n",
        "plt.plot(X_new, y_proba[:, 1], \"g-\", linewidth=2, label=\"Iris virginica\")\n",
        "plt.plot(X_new, y_proba[:, 0], \"b--\", linewidth=2, label=\"Not Iris virginica\")"
      ],
      "metadata": {
        "colab": {
          "base_uri": "https://localhost:8080/",
          "height": 284
        },
        "id": "mMY8iDkWFHRY",
        "outputId": "eb4ae54b-e8d5-4ae4-890a-47ffd317cce8"
      },
      "execution_count": 44,
      "outputs": [
        {
          "output_type": "execute_result",
          "data": {
            "text/plain": [
              "[<matplotlib.lines.Line2D at 0x7fcaba1d21d0>]"
            ]
          },
          "metadata": {},
          "execution_count": 44
        },
        {
          "output_type": "display_data",
          "data": {
            "text/plain": [
              "<Figure size 432x288 with 1 Axes>"
            ],
            "image/png": "[encoded data removed]"
          },
          "metadata": {
            "needs_background": "light"
          }
        }
      ]
    },
    {
      "cell_type": "code",
      "source": [
        "log_reg.predict([[1.67], [1.66]])"
      ],
      "metadata": {
        "colab": {
          "base_uri": "https://localhost:8080/"
        },
        "id": "U0L7NIEYFLcK",
        "outputId": "108d5ca1-712e-4b2e-f954-c65b06464153"
      },
      "execution_count": 45,
      "outputs": [
        {
          "output_type": "execute_result",
          "data": {
            "text/plain": [
              "array([1, 0])"
            ]
          },
          "metadata": {},
          "execution_count": 45
        }
      ]
    },
    {
      "cell_type": "markdown",
      "source": [
        ">> ## 4.6.4 소프트맥스 회귀=다항 로지스틱 회귀\n",
        "* 로지스틱 회귀 모델은 여러 이진 분류기를 훈련시켜 연결하지 않고 직접 다중 클래스를 지원하도록 일반화활 수 있음.\n",
        "  * 샘플 x가 주어지면 소프트맥스 회귀 모델이 각 클래스 k에 대한 점수 Sk(x)를 계산하고, 그 점수에 소프트맥스 함수를 적용해 각 클래스의 확률 추정. 각 클래스는 자신만의 파라미터 벡터 θ(k)가 있는데, 이들은 파라미터 행렬에 행으로 저장된다.\n",
        "  * *argmax*: 함수를 최대화하는 변수의 값 반환.\n",
        "* 크로스 엔트로피\n",
        "  * 추정된 클래스의 확률이 타깃 클래스에 얼마나 잘 맞는지 측정하는 용도\n",
        "* multi_class 변수를 \"multinomial\"로 바꾸면 소프트맥스 회귀 사용 가능."
      ],
      "metadata": {
        "id": "jrl-JKnyg9Uy"
      }
    },
    {
      "cell_type": "code",
      "source": [
        "# 꽃잎 길이, 꽃잎 너비 정보는 `data` 키의 값에서 2번, 3번 열에 들어 있다.\n",
        "X = iris[\"data\"][:, (2, 3)]\n",
        "# 타깃\n",
        "y = iris[\"target\"]\n",
        "\n",
        "# 소프트맥스 회귀 모델 학습\n",
        "softmax_reg = LogisticRegression(multi_class=\"multinomial\",\n",
        "                                 solver=\"lbfgs\", C=10, random_state=42)\n",
        "softmax_reg.fit(X, y)"
      ],
      "metadata": {
        "colab": {
          "base_uri": "https://localhost:8080/"
        },
        "id": "BB4Z1VIkF1UF",
        "outputId": "612c56c6-a03d-433d-a510-58cda7338ee7"
      },
      "execution_count": 46,
      "outputs": [
        {
          "output_type": "execute_result",
          "data": {
            "text/plain": [
              "LogisticRegression(C=10, multi_class='multinomial', random_state=42)"
            ]
          },
          "metadata": {},
          "execution_count": 46
        }
      ]
    },
    {
      "cell_type": "code",
      "source": [
        "softmax_reg.predict([[2.6, 3]])"
      ],
      "metadata": {
        "colab": {
          "base_uri": "https://localhost:8080/"
        },
        "id": "IV00ybVeF69u",
        "outputId": "4512231d-76f9-478e-a239-94c35fffc647"
      },
      "execution_count": 47,
      "outputs": [
        {
          "output_type": "execute_result",
          "data": {
            "text/plain": [
              "array([1])"
            ]
          },
          "metadata": {},
          "execution_count": 47
        }
      ]
    },
    {
      "cell_type": "code",
      "source": [
        "softmax_reg.predict_proba([[2.6, 3]]) # 모두 0.5보다 작다"
      ],
      "metadata": {
        "colab": {
          "base_uri": "https://localhost:8080/"
        },
        "id": "uiXL3edoF-q0",
        "outputId": "b5ed391f-2ddc-4ffe-b692-cf576676304f"
      },
      "execution_count": 48,
      "outputs": [
        {
          "output_type": "execute_result",
          "data": {
            "text/plain": [
              "array([[0.39029691, 0.43096385, 0.17873924]])"
            ]
          },
          "metadata": {},
          "execution_count": 48
        }
      ]
    }
  ]
}
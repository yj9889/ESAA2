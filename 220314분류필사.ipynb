{
  "nbformat": 4,
  "nbformat_minor": 0,
  "metadata": {
    "colab": {
      "name": "220314분류필사.ipynb",
      "provenance": [],
      "collapsed_sections": [],
      "mount_file_id": "1J4k_giINsZIx0d15uvctF_Yt_a5pnkXi",
      "authorship_tag": "ABX9TyOPCI59RWNaRIrJGiKeFQEw",
      "include_colab_link": true
    },
    "kernelspec": {
      "name": "python3",
      "display_name": "Python 3"
    },
    "language_info": {
      "name": "python"
    }
  },
  "cells": [
    {
      "cell_type": "markdown",
      "metadata": {
        "id": "view-in-github",
        "colab_type": "text"
      },
      "source": [
        "<a href=\"https://colab.research.google.com/github/yj9889/ESAA2/blob/main/220314%EB%B6%84%EB%A5%98%ED%95%84%EC%82%AC.ipynb\" target=\"_parent\"><img src=\"https://colab.research.google.com/assets/colab-badge.svg\" alt=\"Open In Colab\"/></a>"
      ]
    },
    {
      "cell_type": "markdown",
      "source": [
        "# **핸즈온 머신러닝 - 03. 분류** \n",
        "##### 2022.03.14."
      ],
      "metadata": {
        "id": "Xpoobbop_UCH"
      }
    },
    {
      "cell_type": "markdown",
      "source": [
        "# [개념정리]"
      ],
      "metadata": {
        "id": "tWUvGaoU9M_D"
      }
    },
    {
      "cell_type": "markdown",
      "source": [
        "> ## 3.1 MNIST\n",
        "\n",
        "* MNIST: 미국 고등학생과 인구조사국 직원들이 손으로 쓴 70,000개의 숫자 이미지로 구성된 데이터셋\n",
        "\n",
        "* 사이킷런에서 읽어들인 데이터셋의 일반적인 딕셔너리 구조\n",
        "  * DESCR 키: 데이터셋 설명\n",
        "  * data 키: 샘플이 하나의 행, 특성이 하나의 열로 구성된 배열을 가짐\n",
        "  * target 키: 레이블 배열을 담음\n",
        "\n",
        "* 70,000개의 샘플(이미지)의 특성은 784개이다.\n",
        "  * 이미지가 28x28=784개의 픽셀(화소)로 구성되었기 때문\n",
        "  * 개개의 특성은 단순히 0(흰색)부터 255(검은색)까지의 픽셀 강도를 나타냄.\n",
        "\n",
        "* 훈련 세트는 이미 섞여 있어서 모든 교차 검증 폴드를 비슷하게 만든다(하나의 폴드라도 특정 숫자가 누락되면 안된다).\n",
        "  * 어떤 학습 알고리즘은 훈련 샘플 순서에 민감해 많은 비슷한 샘플이 연이어 나타나면 성능이 나빠지는데, 데이터셋을 섞으면 이런 문제를 방지할 수 있다."
      ],
      "metadata": {
        "id": "3OFptKCe9Trk"
      }
    },
    {
      "cell_type": "markdown",
      "source": [
        "> ## 3.2 이진 분류기 훈련\n",
        "\n",
        "* 사이킷런의 SGDClassifier 클래스 - 확률적 경사 하강법(SGD)\n",
        "  * 한 번에 하나의 훈련 샘플을 독립적으로 처리해 매우 큰 데이터셋을 효율적 처리.\n",
        "  * 클래스별 비율이 유지되도록 폴드를 만들기 위해 계층적 샘플링 수행. \n",
        "  * 매 반복에서 분류기 객체를 복제하여 훈련 폴드로 훈련시키고 테스트 폴드로 예측을 만든다. 그 다음 올바른 예측 수를 세어 정확한 예측의 비율을 출력한다."
      ],
      "metadata": {
        "id": "YjIeSniNGMdp"
      }
    },
    {
      "cell_type": "markdown",
      "source": [
        "> ## 3.3 성능 측정\n"
      ],
      "metadata": {
        "id": "QCy2z9PkHNrU"
      }
    },
    {
      "cell_type": "markdown",
      "source": [
        ">> ## 3.3.1 교차 검증을 사용한 정확도 측정\n",
        "\n",
        "* k겹 교차 검증은 훈련 세트를 k개의 폴드로 나누고, 각 폴드에 대해 예측을 만들고 평가하기 위해 나머지 폴드로 훈련시킨 모델을 사용.\n",
        "\n",
        "* 불균형한 데이터셋을 다룰 때(어떤 클래스가 다른 것보다 월등히 많은 경우) 정확도를 분류기의 성능 지표로 활용하지 않음.\n"
      ],
      "metadata": {
        "id": "mHl7yqhPLLvj"
      }
    },
    {
      "cell_type": "markdown",
      "source": [
        ">> ## 3.3.2 오차 행렬\n",
        "\n",
        "* 우선, 실제 타깃과 비교할 수 있도록 예측값을 만든다. \n",
        "\n",
        "* cross_val_predict()\n",
        "  * k겹 교차 검증을 수행하지만 평가 점수를 반환하지 않고 각 테스트 폴드에서 얻은 예측을 반환한다.\n",
        "\n",
        "* 오차 행렬\n",
        "  * 행: 실제 클래스\n",
        "  * 열: 예측한 클래스\n",
        "\n",
        "|*음성 클래스*|진짜 음성|거짓 양성|\n",
        "|------|---|---|\n",
        "|*양성 클래스*|거짓 음성|진짜 양성|\n",
        "\n",
        "* 정밀도\n",
        "  * TP / (TP+FP)\n",
        "    * TP: 진짜 양성, FP: 거짓 양성\n",
        "  * 양성 예측의 정확도. \n",
        "\n",
        "* 정확도=민감도\n",
        "  * 분류기가 정확히 감지한 양성 샘플의 비율\n",
        "    * TP / (TP+FN)\n"
      ],
      "metadata": {
        "id": "DjNC3-x-Kr9S"
      }
    },
    {
      "cell_type": "markdown",
      "source": [
        ">> ## 3.3.3 정밀도와 재현율\n",
        "\n",
        "* F1 점수\n",
        "  * 정밀도와 재현율의 조화 평균\n",
        "  * 정밀도와 재현율이 비슷하면 F1이 큼.\n",
        "    * 식: 10p"
      ],
      "metadata": {
        "id": "a4DkzXlEKr1p"
      }
    },
    {
      "cell_type": "markdown",
      "source": [
        ">> ## 3.3.4 정밀도/재현율 트레이드오프\n",
        "\n",
        "* SGDClassifier\n",
        "  * 결정 함수로 각 샘플의 점수 계산.\n",
        "    * 이 점수>임곗값 -> 샘플: 양성 클래스에 할당.\n",
        "    * 이 점수<임곗값 -> 샘플: 음성 클래스에 할당.\n",
        "  * 결정 임곗값을 높이면 정밀도 커지고 재현율 낮아짐\n",
        "  * 사이킷런에서는 임곗값 직접 지정 대신 예측에 사용된 점수 확인할 수 있다.\n",
        "\n",
        "* 적절한 임곗값 정하기\n",
        "  * cross_val_predict() 이용해 훈련 세트의 모든 샘플의 점수 구한다.(단, 예측 결과가 아닌 결정 점수 반환)\n",
        "  * 재현율에 대한 정밀도 곡선을 그리면 좋은 정밀도/재현율 트레이드오프 선택할 수 있다."
      ],
      "metadata": {
        "id": "DeIxU6RdKrwQ"
      }
    },
    {
      "cell_type": "markdown",
      "source": [
        ">> ## 3.3.5 ROC 곡선\n",
        "\n",
        "* 거짓 양성 비율(FPR)에 대한 진짜 양성 비율(TPR)의 곡선\n",
        "* 민감도(재현율)에 대한 1-특이도 그래프\n",
        "\n",
        "  * 1 - 진짜 음성 비율(TNR) = 거짓 양성 비율(FPR)\n",
        "    * TNR: 특이도\n",
        "\n",
        "* 트레이드오프\n",
        "  * 재현율(TPR)이 높을수록 FPR이 늘어난다. \n",
        "\n",
        "* AUC: 곡선 아래의 면적\n",
        "  * AUC=1 : 완전한 분류기\n",
        "  * AUC=0.5 : 완전한 랜덤 분류기\n",
        "\n",
        "* PR 곡선: 양성 클래스가 드물거나 거짓 음성보다 거짓 양성이 더 중요할 때(분류기의 성능 개선 여지, 오른쪽 위 모서리)\n",
        "* ROC 곡선: 그 반대.\n",
        "\n",
        "* predict_proba()\n",
        "  * 샘플: 행, 클래스: 열\n",
        "  * 주어진 클래스에 속할 확률을 담은 배열 반환."
      ],
      "metadata": {
        "id": "XOFTcnA7Kror"
      }
    },
    {
      "cell_type": "markdown",
      "source": [
        "> ## 3.4 다중 분류\n",
        "\n",
        "* 둘 이상의 클래스를 구별\n",
        "  * SGD, 랜덤 포레스트, 나이브 베이즈 분류기: 여러 클래스 직접 처리 가능\n",
        "  * 로지스틱 회귀, 서포트 벡터 머신 분류기: 이진 분류만 가능.\n",
        "\n",
        "<이진 분류기를 여러 개 사용해 다중 클래스를 분류하는 기법>\n",
        "* OvR 전략 / OvA 전략\n",
        "  * 이미지를 분류할 때 각 분류기의 결정 점수 중에서 가장 높은 것을 클래스로 선택. \n",
        "  * 이진 분류 알고리즘 선호.\n",
        "* OvO 전략\n",
        "  * 각 숫자의 조합마다 이진 분류기를 훈련시킴.\n",
        "  * 각 분류기의 훈련에 전체 훈련 세트 중 구별할 두 클래스에 해당하는 샘플만 필요하다는 장점.\n",
        "  * 서포트 벡터 머신처럼 훈련 세트 크기에 민감해 작은 훈련 세트에서 많은 분류기를 훈련시키는 것이 빠른 알고리즘 선호.\n",
        "\n",
        "* OneVsOneClassifier / OneVsRestClassifier\n",
        "  * 사이킷런에서 OvR이나 OvO 사용하도록 강제"
      ],
      "metadata": {
        "id": "O7LD9fudHoTx"
      }
    },
    {
      "cell_type": "markdown",
      "source": [
        "> ## 3.5 에러 분석\n",
        "\n",
        "* 목적: 모델의 성능 향상\n",
        "* 선형 모델인 SGDClassifier\n",
        "  * 클래스마다 픽셀에 가중치를 할당하고 새로운 이미지에 대해 단순히 픽셀 강도의 가중치 합을 클래스의 점수로 계산하기 때문에 쉽게 혼동 가능성."
      ],
      "metadata": {
        "id": "amiW_xH4HsdC"
      }
    },
    {
      "cell_type": "markdown",
      "source": [
        "> ## 3.6 다중 레이블 분류\n",
        "\n",
        "* 분류기가 샘플마다 여러 개의 클래스를 출력해야 할 때, 여러 개의 이진 꼬리표를 출력하는 분류 시스템\n",
        "* 레이블 클래스에 지지도(타깃 레이블에 속한 샘플 수)를 가중치로 줄 수 있음. *average=\"weighted\"*"
      ],
      "metadata": {
        "id": "_uRauPHrHvrv"
      }
    },
    {
      "cell_type": "markdown",
      "source": [
        "> ## 3.7 다중 출력 분류\n",
        "\n",
        "* 다중 레이블 분류에서 한 레이블이 다중 클래스가 될 수 있도록 일반화한 것.(즉, 값을 두 개 이상 가질 수 있음)\n",
        "\n",
        "* 입력: 잡음이 많은 숫자 이미지\n",
        "*출력: 깨끗한 숫자 이미지를 MNIST 이미지처럼 픽셀의 강도를 담은 배열\n",
        "  * 다중 레이블(픽셀당 한 레이블)이고 각 레이블은 값을 여러 개 가짐(0~255 픽셀 강도)"
      ],
      "metadata": {
        "id": "r7qIPXvlHyqE"
      }
    },
    {
      "cell_type": "markdown",
      "source": [
        "# [필사]"
      ],
      "metadata": {
        "id": "jTL9EU369QdM"
      }
    },
    {
      "cell_type": "markdown",
      "source": [
        "> ## 3.1 MNIST"
      ],
      "metadata": {
        "id": "Odn1VLlQGLXT"
      }
    },
    {
      "cell_type": "code",
      "source": [
        "from sklearn.datasets import fetch_openml\n",
        "mnist = fetch_openml('mnist_784', version=1)"
      ],
      "metadata": {
        "id": "5ohtWGgP9SpH"
      },
      "execution_count": 98,
      "outputs": []
    },
    {
      "cell_type": "code",
      "source": [
        "mnist.keys()"
      ],
      "metadata": {
        "colab": {
          "base_uri": "https://localhost:8080/"
        },
        "id": "CD022N4t__TB",
        "outputId": "f6e9b6e3-b7fc-4ae4-d5c6-53012c4fabdb"
      },
      "execution_count": 99,
      "outputs": [
        {
          "output_type": "execute_result",
          "data": {
            "text/plain": [
              "dict_keys(['data', 'target', 'frame', 'categories', 'feature_names', 'target_names', 'DESCR', 'details', 'url'])"
            ]
          },
          "metadata": {},
          "execution_count": 99
        }
      ]
    },
    {
      "cell_type": "code",
      "source": [
        "X, y = mnist[\"data\"], mnist[\"target\"]"
      ],
      "metadata": {
        "id": "n8A6QCT7A0Gt"
      },
      "execution_count": 100,
      "outputs": []
    },
    {
      "cell_type": "code",
      "source": [
        "X.shape"
      ],
      "metadata": {
        "colab": {
          "base_uri": "https://localhost:8080/"
        },
        "id": "hBgwbseUA0Lc",
        "outputId": "9ca96e06-7dd0-4a9d-df83-f83486a62765"
      },
      "execution_count": 101,
      "outputs": [
        {
          "output_type": "execute_result",
          "data": {
            "text/plain": [
              "(70000, 784)"
            ]
          },
          "metadata": {},
          "execution_count": 101
        }
      ]
    },
    {
      "cell_type": "code",
      "source": [
        "y.shape"
      ],
      "metadata": {
        "colab": {
          "base_uri": "https://localhost:8080/"
        },
        "id": "KPK_-UYAA0N_",
        "outputId": "0cdce052-2866-4a7a-9e2f-2a043eb60863"
      },
      "execution_count": 102,
      "outputs": [
        {
          "output_type": "execute_result",
          "data": {
            "text/plain": [
              "(70000,)"
            ]
          },
          "metadata": {},
          "execution_count": 102
        }
      ]
    },
    {
      "cell_type": "code",
      "source": [
        "import matplotlib as mpl\n",
        "import matplotlib.pyplot as plt\n",
        "\n",
        "some_digit = X.to_numpy()[0] # 샘플의 특성 벡터 추출\n",
        "some_digit_image = some_digit.reshape(28, 28)\n",
        "\n",
        "plt.imshow(some_digit_image, cmap=mpl.cm.binary)\n",
        "plt.axis(\"off\")\n",
        "plt.show()"
      ],
      "metadata": {
        "colab": {
          "base_uri": "https://localhost:8080/",
          "height": 248
        },
        "id": "kq8-BykaC_hl",
        "outputId": "aeba1741-5822-46b8-e940-bbbe5fa9cf18"
      },
      "execution_count": 103,
      "outputs": [
        {
          "output_type": "display_data",
          "data": {
            "text/plain": [
              "<Figure size 432x288 with 1 Axes>"
            ],
            "image/png": "[encoded data removed]"
          },
          "metadata": {
            "needs_background": "light"
          }
        }
      ]
    },
    {
      "cell_type": "code",
      "source": [
        "y[0] # 실제 레이블은 숫자 5"
      ],
      "metadata": {
        "colab": {
          "base_uri": "https://localhost:8080/",
          "height": 35
        },
        "id": "TbDYaZIYE0bz",
        "outputId": "58de451e-14ca-422b-9a13-d0f660e44cd4"
      },
      "execution_count": 104,
      "outputs": [
        {
          "output_type": "execute_result",
          "data": {
            "text/plain": [
              "'5'"
            ],
            "application/vnd.google.colaboratory.intrinsic+json": {
              "type": "string"
            }
          },
          "metadata": {},
          "execution_count": 104
        }
      ]
    },
    {
      "cell_type": "code",
      "source": [
        "import numpy as np\n",
        "y = y.astype(np.uint8) # y를 정수로 변환"
      ],
      "metadata": {
        "id": "2b9YkLEpE5V8"
      },
      "execution_count": 105,
      "outputs": []
    },
    {
      "cell_type": "code",
      "source": [
        "X_train, X_test, y_train, y_test = X[:60000], X[60000:], y[:60000], y[60000:]"
      ],
      "metadata": {
        "id": "QtMPng5tE5SB"
      },
      "execution_count": 106,
      "outputs": []
    },
    {
      "cell_type": "markdown",
      "source": [
        "> ## 3.2 이진 분류기 훈련"
      ],
      "metadata": {
        "id": "jEJzY23BGTL2"
      }
    },
    {
      "cell_type": "code",
      "source": [
        "y_train_5 = (y_train == 5) # 5는 True, 다른 숫자는 False인 타깃 벡터\n",
        "y_test_5 = (y_test == 5)"
      ],
      "metadata": {
        "id": "SajbdEczGa_f"
      },
      "execution_count": 107,
      "outputs": []
    },
    {
      "cell_type": "code",
      "source": [
        "from sklearn.linear_model import SGDClassifier\n",
        "\n",
        "sgd_clf = SGDClassifier(random_state=42) # 무작위성을 이용해 훈련하는 특성이 있어, 결과를 재현하기 위해 random_state 이용\n",
        "sgd_clf.fit(X_train, y_train_5)"
      ],
      "metadata": {
        "colab": {
          "base_uri": "https://localhost:8080/"
        },
        "id": "RFTsMCe9G3rm",
        "outputId": "642d13b3-b12c-448c-c287-db2a0cdbd3e5"
      },
      "execution_count": 108,
      "outputs": [
        {
          "output_type": "execute_result",
          "data": {
            "text/plain": [
              "SGDClassifier(random_state=42)"
            ]
          },
          "metadata": {},
          "execution_count": 108
        }
      ]
    },
    {
      "cell_type": "code",
      "source": [
        "sgd_clf.predict([some_digit])"
      ],
      "metadata": {
        "colab": {
          "base_uri": "https://localhost:8080/"
        },
        "id": "pU91Yg5BG-5p",
        "outputId": "3973b21c-f8d5-4614-b662-e7d27c3f420b"
      },
      "execution_count": 109,
      "outputs": [
        {
          "output_type": "stream",
          "name": "stderr",
          "text": [
            "/usr/local/lib/python3.7/dist-packages/sklearn/base.py:451: UserWarning: X does not have valid feature names, but SGDClassifier was fitted with feature names\n",
            "  \"X does not have valid feature names, but\"\n"
          ]
        },
        {
          "output_type": "execute_result",
          "data": {
            "text/plain": [
              "array([ True])"
            ]
          },
          "metadata": {},
          "execution_count": 109
        }
      ]
    },
    {
      "cell_type": "markdown",
      "source": [
        "> ## 3.3 성능 측정\n",
        ">> ## 3.3.1 교차 검증을 사용한 정확도 측정"
      ],
      "metadata": {
        "id": "Mr9aFm_bIEGG"
      }
    },
    {
      "cell_type": "code",
      "source": [
        "from sklearn.model_selection import StratifiedKFold\n",
        "from sklearn.base import clone\n",
        "\n",
        "skfolds = StratifiedKFold(n_splits=3, random_state=42, shuffle=True)\n",
        "\n",
        "for train_index, test_index in skfolds.split(X_train, y_train_5):  \n",
        "    clone_clf = clone(sgd_clf)\n",
        "    X_train_folds = X_train.values[train_index]\n",
        "    y_train_folds = y_train_5[train_index]\n",
        "    X_test_fold = X_train.values[test_index]\n",
        "    y_test_fold = y_train_5[test_index]\n",
        "    \n",
        "    clone_clf.fit(X_train_folds, y_train_folds)\n",
        "    y_pred = clone_clf.predict(X_test_fold)\n",
        "    n_correct = sum(y_pred == y_test_fold)\n",
        "    print(n_correct / len(y_pred))"
      ],
      "metadata": {
        "colab": {
          "base_uri": "https://localhost:8080/"
        },
        "id": "U9S95SRwJN8k",
        "outputId": "ba394c3d-ad98-4d01-b271-12cfed177bd4"
      },
      "execution_count": 110,
      "outputs": [
        {
          "output_type": "stream",
          "name": "stdout",
          "text": [
            "0.9669\n",
            "0.91625\n",
            "0.96785\n"
          ]
        }
      ]
    },
    {
      "cell_type": "code",
      "source": [
        "from sklearn.model_selection import cross_val_score\n",
        "\n",
        "cross_val_score(sgd_clf, X_train, y_train_5, cv=3, scoring=\"accuracy\")"
      ],
      "metadata": {
        "colab": {
          "base_uri": "https://localhost:8080/"
        },
        "id": "zeug60haJYSB",
        "outputId": "90fa1a24-d576-4c52-a498-9e627d3e7960"
      },
      "execution_count": 111,
      "outputs": [
        {
          "output_type": "execute_result",
          "data": {
            "text/plain": [
              "array([0.95035, 0.96035, 0.9604 ])"
            ]
          },
          "metadata": {},
          "execution_count": 111
        }
      ]
    },
    {
      "cell_type": "code",
      "source": [
        "from sklearn.base import BaseEstimator\n",
        "class Never5Classifier(BaseEstimator):\n",
        "    def fit(self, X, y=None):\n",
        "        pass\n",
        "    def predict(self, X):\n",
        "        return np.zeros((len(X), 1), dtype=bool)"
      ],
      "metadata": {
        "id": "baxFzZsnXEqY"
      },
      "execution_count": 112,
      "outputs": []
    },
    {
      "cell_type": "code",
      "source": [
        "never_5_clf = Never5Classifier()\n",
        "cross_val_score(never_5_clf, X_train, y_train_5, cv=3, scoring=\"accuracy\") # 샘플의 불균형으로 인해 정확도가 지나치게 높음."
      ],
      "metadata": {
        "colab": {
          "base_uri": "https://localhost:8080/"
        },
        "id": "QjRMPRxbXJQ5",
        "outputId": "c1a0c25b-9681-417c-df5c-1ece60b04a95"
      },
      "execution_count": 113,
      "outputs": [
        {
          "output_type": "execute_result",
          "data": {
            "text/plain": [
              "array([0.91125, 0.90855, 0.90915])"
            ]
          },
          "metadata": {},
          "execution_count": 113
        }
      ]
    },
    {
      "cell_type": "markdown",
      "source": [
        ">> ## 3.3.2 오차 행렬\n",
        "\n"
      ],
      "metadata": {
        "id": "2BJrxignIFY5"
      }
    },
    {
      "cell_type": "code",
      "source": [
        "from sklearn.model_selection import cross_val_predict\n",
        "\n",
        "y_train_pred = cross_val_predict(sgd_clf, X_train, y_train_5, cv=3)"
      ],
      "metadata": {
        "id": "ydoraHHoIKIz"
      },
      "execution_count": 114,
      "outputs": []
    },
    {
      "cell_type": "code",
      "source": [
        "from sklearn.metrics import confusion_matrix\n",
        "\n",
        "confusion_matrix(y_train_5, y_train_pred)"
      ],
      "metadata": {
        "colab": {
          "base_uri": "https://localhost:8080/"
        },
        "id": "mkZNsinBXnIa",
        "outputId": "f5601f14-434c-48fc-cb74-e81b9310dc3e"
      },
      "execution_count": 115,
      "outputs": [
        {
          "output_type": "execute_result",
          "data": {
            "text/plain": [
              "array([[53892,   687],\n",
              "       [ 1891,  3530]])"
            ]
          },
          "metadata": {},
          "execution_count": 115
        }
      ]
    },
    {
      "cell_type": "code",
      "source": [
        "y_train_perfect_predictions = y_train_5 # 완벽한 분류기일 경우\n",
        "confusion_matrix(y_train_5, y_train_perfect_predictions)"
      ],
      "metadata": {
        "colab": {
          "base_uri": "https://localhost:8080/"
        },
        "id": "1DqpZ6bDXrwG",
        "outputId": "01c4f88f-7eda-4811-9f29-db57e279a065"
      },
      "execution_count": 116,
      "outputs": [
        {
          "output_type": "execute_result",
          "data": {
            "text/plain": [
              "array([[54579,     0],\n",
              "       [    0,  5421]])"
            ]
          },
          "metadata": {},
          "execution_count": 116
        }
      ]
    },
    {
      "cell_type": "markdown",
      "source": [
        ">> ## 3.3.3 정밀도와 재현율"
      ],
      "metadata": {
        "id": "mlowDPtvIKXk"
      }
    },
    {
      "cell_type": "code",
      "source": [
        "from sklearn.metrics import precision_score, recall_score, f1_score\n",
        "\n",
        "precision_score(y_train_5, y_train_pred)"
      ],
      "metadata": {
        "colab": {
          "base_uri": "https://localhost:8080/"
        },
        "id": "kwFQFnTsIMJI",
        "outputId": "a138e718-b780-4626-a947-7032fdef7ab6"
      },
      "execution_count": 117,
      "outputs": [
        {
          "output_type": "execute_result",
          "data": {
            "text/plain": [
              "0.8370879772350012"
            ]
          },
          "metadata": {},
          "execution_count": 117
        }
      ]
    },
    {
      "cell_type": "code",
      "source": [
        "recall_score(y_train_5, y_train_pred)"
      ],
      "metadata": {
        "colab": {
          "base_uri": "https://localhost:8080/"
        },
        "id": "Mz-EEp1GX4oN",
        "outputId": "bf9ba1c3-fd1e-4482-c2fc-a830c60b047e"
      },
      "execution_count": 118,
      "outputs": [
        {
          "output_type": "execute_result",
          "data": {
            "text/plain": [
              "0.6511713705958311"
            ]
          },
          "metadata": {},
          "execution_count": 118
        }
      ]
    },
    {
      "cell_type": "code",
      "source": [
        "f1_score(y_train_5, y_train_pred)"
      ],
      "metadata": {
        "colab": {
          "base_uri": "https://localhost:8080/"
        },
        "id": "n918At_QYAO3",
        "outputId": "673f49e1-1c34-4070-e2f1-8bb38f464652"
      },
      "execution_count": 119,
      "outputs": [
        {
          "output_type": "execute_result",
          "data": {
            "text/plain": [
              "0.7325171197343846"
            ]
          },
          "metadata": {},
          "execution_count": 119
        }
      ]
    },
    {
      "cell_type": "markdown",
      "source": [
        ">> ## 3.3.4 정밀도/재현율 트레이드오프"
      ],
      "metadata": {
        "id": "wqEW3vKqIM0o"
      }
    },
    {
      "cell_type": "code",
      "source": [
        "y_scores = sgd_clf.decision_function([some_digit])\n",
        "y_scores"
      ],
      "metadata": {
        "colab": {
          "base_uri": "https://localhost:8080/"
        },
        "id": "97u7EDF5IN9K",
        "outputId": "52f1a553-64e9-4060-aecf-0321d82293ce"
      },
      "execution_count": 120,
      "outputs": [
        {
          "output_type": "stream",
          "name": "stderr",
          "text": [
            "/usr/local/lib/python3.7/dist-packages/sklearn/base.py:451: UserWarning: X does not have valid feature names, but SGDClassifier was fitted with feature names\n",
            "  \"X does not have valid feature names, but\"\n"
          ]
        },
        {
          "output_type": "execute_result",
          "data": {
            "text/plain": [
              "array([2164.22030239])"
            ]
          },
          "metadata": {},
          "execution_count": 120
        }
      ]
    },
    {
      "cell_type": "code",
      "source": [
        "threshold=0\n",
        "y_some_digit_pred = (y_scores>threshold)\n",
        "y_some_digit_pred"
      ],
      "metadata": {
        "colab": {
          "base_uri": "https://localhost:8080/"
        },
        "id": "AgGyrjntYc4n",
        "outputId": "0d505120-d0de-44e5-c096-51b3d918d613"
      },
      "execution_count": 121,
      "outputs": [
        {
          "output_type": "execute_result",
          "data": {
            "text/plain": [
              "array([ True])"
            ]
          },
          "metadata": {},
          "execution_count": 121
        }
      ]
    },
    {
      "cell_type": "code",
      "source": [
        "threshold=8000 # 임곗값 늘리면 재현율 줄어듦  \n",
        "y_some_digit_pred = (y_scores>threshold)\n",
        "y_some_digit_pred"
      ],
      "metadata": {
        "colab": {
          "base_uri": "https://localhost:8080/"
        },
        "id": "C4_P8PjDYf49",
        "outputId": "585ca33a-753b-481e-9567-ec06f14330f8"
      },
      "execution_count": 122,
      "outputs": [
        {
          "output_type": "execute_result",
          "data": {
            "text/plain": [
              "array([False])"
            ]
          },
          "metadata": {},
          "execution_count": 122
        }
      ]
    },
    {
      "cell_type": "code",
      "source": [
        "y_scores = cross_val_predict(sgd_clf, X_train, y_train_5, cv=3, method=\"decision_function\")"
      ],
      "metadata": {
        "id": "GqqDjMW_YxQF"
      },
      "execution_count": 123,
      "outputs": []
    },
    {
      "cell_type": "code",
      "source": [
        "from sklearn.metrics import precision_recall_curve\n",
        "\n",
        "precisions, recalls, thresholds = precision_recall_curve(y_train_5, y_scores)"
      ],
      "metadata": {
        "id": "JaMYClwyY22W"
      },
      "execution_count": 124,
      "outputs": []
    },
    {
      "cell_type": "code",
      "source": [
        "def plot_precision_recall_vs_threshold(precisions, recalls, thresholds):\n",
        "  plt.plot(thresholds, precisions[:-1], \"b--\", label=\"정밀도\")\n",
        "  plt.plot(thresholds, recalls[:-1], \"g-\", label=\"재현율\")\n",
        "  [...] # 임곗값 표시하고 범례, 축, 이름, 그리드 추가\n",
        "\n",
        "plot_precision_recall_vs_threshold(precisions, recalls, thresholds)\n",
        "plt.show()"
      ],
      "metadata": {
        "colab": {
          "base_uri": "https://localhost:8080/",
          "height": 265
        },
        "id": "wVx0x4WTY80E",
        "outputId": "f72d0870-428b-4535-c9f1-0aa95f444592"
      },
      "execution_count": 125,
      "outputs": [
        {
          "output_type": "display_data",
          "data": {
            "text/plain": [
              "<Figure size 432x288 with 1 Axes>"
            ],
            "image/png": "[encoded data removed]"
          },
          "metadata": {
            "needs_background": "light"
          }
        }
      ]
    },
    {
      "cell_type": "code",
      "source": [
        "threshold_90_precision = thresholds[np.argmax(precisions >= 0.90)]\n",
        "threshold_90_precision"
      ],
      "metadata": {
        "colab": {
          "base_uri": "https://localhost:8080/"
        },
        "id": "1AJiS-jcZeuS",
        "outputId": "5fc1d55d-63d1-440b-dc8c-ab530187c3a7"
      },
      "execution_count": 126,
      "outputs": [
        {
          "output_type": "execute_result",
          "data": {
            "text/plain": [
              "3370.019499143958"
            ]
          },
          "metadata": {},
          "execution_count": 126
        }
      ]
    },
    {
      "cell_type": "code",
      "source": [
        "y_train_pred_90 = (y_scores >= threshold_90_precision)\n",
        "\n",
        "precision_score(y_train_5, y_train_pred_90)"
      ],
      "metadata": {
        "colab": {
          "base_uri": "https://localhost:8080/"
        },
        "id": "bn33M3jtZjsM",
        "outputId": "c988d313-d3fe-412a-f5d9-1118f2d1d3c3"
      },
      "execution_count": 127,
      "outputs": [
        {
          "output_type": "execute_result",
          "data": {
            "text/plain": [
              "0.9000345901072293"
            ]
          },
          "metadata": {},
          "execution_count": 127
        }
      ]
    },
    {
      "cell_type": "code",
      "source": [
        "recall_score(y_train_5, y_train_pred_90)"
      ],
      "metadata": {
        "colab": {
          "base_uri": "https://localhost:8080/"
        },
        "id": "Q-WRm-zXZy8z",
        "outputId": "3e564d88-4de1-41ff-abe0-bc1373c79489"
      },
      "execution_count": 128,
      "outputs": [
        {
          "output_type": "execute_result",
          "data": {
            "text/plain": [
              "0.4799852425751706"
            ]
          },
          "metadata": {},
          "execution_count": 128
        }
      ]
    },
    {
      "cell_type": "markdown",
      "source": [
        ">> ## 3.3.5 ROC 곡선"
      ],
      "metadata": {
        "id": "br-sGfF4IOLL"
      }
    },
    {
      "cell_type": "code",
      "source": [
        "from sklearn.metrics import roc_curve\n",
        "\n",
        "fpr, tpr, thresholds = roc_curve(y_train_5, y_scores)"
      ],
      "metadata": {
        "id": "1bPHvCFIYHOp"
      },
      "execution_count": 129,
      "outputs": []
    },
    {
      "cell_type": "code",
      "source": [
        "def plot_roc_curve(fpr, tpr, label=None):\n",
        "    plt.plot(fpr, tpr, linewidth=2, label=label)\n",
        "    plt.plot([0, 1], [0, 1], 'k--') # 대각 점선\n",
        "    [...]\n",
        "\n",
        "plot_roc_curve(fpr, tpr)\n",
        "plt.show()"
      ],
      "metadata": {
        "colab": {
          "base_uri": "https://localhost:8080/",
          "height": 265
        },
        "id": "aAnCbIAtZ7Sm",
        "outputId": "e4c36d28-e2e7-472f-e2e8-f176b87890be"
      },
      "execution_count": 130,
      "outputs": [
        {
          "output_type": "display_data",
          "data": {
            "text/plain": [
              "<Figure size 432x288 with 1 Axes>"
            ],
            "image/png": "[encoded data removed]"
          },
          "metadata": {
            "needs_background": "light"
          }
        }
      ]
    },
    {
      "cell_type": "code",
      "source": [
        "from sklearn.metrics import roc_auc_score\n",
        "\n",
        "roc_auc_score(y_train_5, y_scores)"
      ],
      "metadata": {
        "colab": {
          "base_uri": "https://localhost:8080/"
        },
        "id": "FfIhpvCiaJ_x",
        "outputId": "3930b435-68f0-465b-d643-b41b7fdc8225"
      },
      "execution_count": 131,
      "outputs": [
        {
          "output_type": "execute_result",
          "data": {
            "text/plain": [
              "0.9604938554008616"
            ]
          },
          "metadata": {},
          "execution_count": 131
        }
      ]
    },
    {
      "cell_type": "code",
      "source": [
        "from sklearn.ensemble import RandomForestClassifier\n",
        "forest_clf = RandomForestClassifier(n_estimators=100, random_state=42)\n",
        "y_probas_forest = cross_val_predict(forest_clf, X_train, y_train_5, cv=3,\n",
        "                                    method=\"predict_proba\")"
      ],
      "metadata": {
        "id": "xe1CX9Toaosx"
      },
      "execution_count": 132,
      "outputs": []
    },
    {
      "cell_type": "code",
      "source": [
        "y_scores_forest = y_probas_forest[:, 1] # 양성 클래스에 대한 확률을 점수로 사용\n",
        "fpr_forest, tpr_forest, thresholds_forest = roc_curve(y_train_5,y_scores_forest)"
      ],
      "metadata": {
        "id": "zH2azfbNaufo"
      },
      "execution_count": 133,
      "outputs": []
    },
    {
      "cell_type": "code",
      "source": [
        "plt.plot(fpr, tpr, \"b:\", label=\"SGD\")\n",
        "plot_roc_curve(fpr_forest, tpr_forest, \"랜덤 포레스트\") # 랜덤 포레스트 > SGD 성능\n",
        "plt.legend(loc=\"lower right\")\n",
        "plt.show()"
      ],
      "metadata": {
        "colab": {
          "base_uri": "https://localhost:8080/",
          "height": 701
        },
        "id": "U8Xn7kPlaziY",
        "outputId": "b00b6417-c20c-45ae-bda2-c1e2ceff0fe7"
      },
      "execution_count": 134,
      "outputs": [
        {
          "output_type": "stream",
          "name": "stderr",
          "text": [
            "/usr/local/lib/python3.7/dist-packages/matplotlib/backends/backend_agg.py:214: RuntimeWarning: Glyph 47004 missing from current font.\n",
            "  font.set_text(s, 0.0, flags=flags)\n",
            "/usr/local/lib/python3.7/dist-packages/matplotlib/backends/backend_agg.py:214: RuntimeWarning: Glyph 45924 missing from current font.\n",
            "  font.set_text(s, 0.0, flags=flags)\n",
            "/usr/local/lib/python3.7/dist-packages/matplotlib/backends/backend_agg.py:214: RuntimeWarning: Glyph 54252 missing from current font.\n",
            "  font.set_text(s, 0.0, flags=flags)\n",
            "/usr/local/lib/python3.7/dist-packages/matplotlib/backends/backend_agg.py:214: RuntimeWarning: Glyph 47112 missing from current font.\n",
            "  font.set_text(s, 0.0, flags=flags)\n",
            "/usr/local/lib/python3.7/dist-packages/matplotlib/backends/backend_agg.py:214: RuntimeWarning: Glyph 49828 missing from current font.\n",
            "  font.set_text(s, 0.0, flags=flags)\n",
            "/usr/local/lib/python3.7/dist-packages/matplotlib/backends/backend_agg.py:214: RuntimeWarning: Glyph 53944 missing from current font.\n",
            "  font.set_text(s, 0.0, flags=flags)\n",
            "/usr/local/lib/python3.7/dist-packages/matplotlib/backends/backend_agg.py:183: RuntimeWarning: Glyph 47004 missing from current font.\n",
            "  font.set_text(s, 0, flags=flags)\n",
            "/usr/local/lib/python3.7/dist-packages/matplotlib/backends/backend_agg.py:183: RuntimeWarning: Glyph 45924 missing from current font.\n",
            "  font.set_text(s, 0, flags=flags)\n",
            "/usr/local/lib/python3.7/dist-packages/matplotlib/backends/backend_agg.py:183: RuntimeWarning: Glyph 54252 missing from current font.\n",
            "  font.set_text(s, 0, flags=flags)\n",
            "/usr/local/lib/python3.7/dist-packages/matplotlib/backends/backend_agg.py:183: RuntimeWarning: Glyph 47112 missing from current font.\n",
            "  font.set_text(s, 0, flags=flags)\n",
            "/usr/local/lib/python3.7/dist-packages/matplotlib/backends/backend_agg.py:183: RuntimeWarning: Glyph 49828 missing from current font.\n",
            "  font.set_text(s, 0, flags=flags)\n",
            "/usr/local/lib/python3.7/dist-packages/matplotlib/backends/backend_agg.py:183: RuntimeWarning: Glyph 53944 missing from current font.\n",
            "  font.set_text(s, 0, flags=flags)\n"
          ]
        },
        {
          "output_type": "display_data",
          "data": {
            "text/plain": [
              "<Figure size 432x288 with 1 Axes>"
            ],
            "image/png": "[encoded data removed]"
          },
          "metadata": {
            "needs_background": "light"
          }
        }
      ]
    },
    {
      "cell_type": "code",
      "source": [
        "roc_auc_score(y_train_5, y_scores_forest)"
      ],
      "metadata": {
        "colab": {
          "base_uri": "https://localhost:8080/"
        },
        "id": "8V8BMBhKa71I",
        "outputId": "d41d985b-495a-4995-b311-20d9a27b75a8"
      },
      "execution_count": 135,
      "outputs": [
        {
          "output_type": "execute_result",
          "data": {
            "text/plain": [
              "0.9983436731328145"
            ]
          },
          "metadata": {},
          "execution_count": 135
        }
      ]
    },
    {
      "cell_type": "markdown",
      "source": [
        "> ## 3.4 다중 분류"
      ],
      "metadata": {
        "id": "ybIVIcFRbQ3m"
      }
    },
    {
      "cell_type": "code",
      "source": [
        "from sklearn.svm import SVC\n",
        "\n",
        "svm_clf = SVC()\n",
        "svm_clf.fit(X_train, y_train)\n",
        "svm_clf.predict([some_digit])"
      ],
      "metadata": {
        "id": "SLw8mGmpbSlF"
      },
      "execution_count": null,
      "outputs": []
    },
    {
      "cell_type": "code",
      "source": [
        "some_digit_scores = svm_clf.decision_function([some_digit])\n",
        "some_digit_scores"
      ],
      "metadata": {
        "id": "MjwzFdUzboyc"
      },
      "execution_count": null,
      "outputs": []
    },
    {
      "cell_type": "code",
      "source": [
        "np.argmax(some_digit_scores)"
      ],
      "metadata": {
        "id": "Q1tCiAnzbvnx"
      },
      "execution_count": null,
      "outputs": []
    },
    {
      "cell_type": "code",
      "source": [
        "svm_clf.classes_"
      ],
      "metadata": {
        "id": "qCaviNktb4l6"
      },
      "execution_count": null,
      "outputs": []
    },
    {
      "cell_type": "code",
      "source": [
        "svm_clf.classes_[5]"
      ],
      "metadata": {
        "id": "jwcF_inbb5Gm"
      },
      "execution_count": null,
      "outputs": []
    },
    {
      "cell_type": "code",
      "source": [
        "from sklearn.multiclass import OneVsRestClassifier\n",
        "ovr_clf = OneVsRestClassifier(SVC())\n",
        "ovr_clf.fit(X_train, y_train)\n",
        "ovr_clf.predict([some_digit])"
      ],
      "metadata": {
        "id": "6mFI9Cn5cuG0"
      },
      "execution_count": null,
      "outputs": []
    },
    {
      "cell_type": "code",
      "source": [
        "len(ovr_clf.estimators_)"
      ],
      "metadata": {
        "id": "IPlc0UzXcvxq"
      },
      "execution_count": null,
      "outputs": []
    },
    {
      "cell_type": "code",
      "source": [
        "sgd_clf.fit(X_train, y_train)\n",
        "sgd_clf.predict([some_digit])"
      ],
      "metadata": {
        "id": "ZlG1xoCFcvvk"
      },
      "execution_count": null,
      "outputs": []
    },
    {
      "cell_type": "code",
      "source": [
        "sgd_clf.decision_function([some_digit])"
      ],
      "metadata": {
        "id": "9AzPK8AMcvtO"
      },
      "execution_count": null,
      "outputs": []
    },
    {
      "cell_type": "code",
      "source": [
        "cross_val_score(sgd_clf, X_train, y_train, cv=3, scoring=\"accuracy\")"
      ],
      "metadata": {
        "id": "HMhui7YQcvqz"
      },
      "execution_count": null,
      "outputs": []
    },
    {
      "cell_type": "code",
      "source": [
        "from sklearn.preprocessing import StandardScaler"
      ],
      "metadata": {
        "id": "X8Y8vdLaoFB7"
      },
      "execution_count": null,
      "outputs": []
    },
    {
      "cell_type": "code",
      "source": [
        "scaler = StandardScaler()"
      ],
      "metadata": {
        "id": "2A5M7szCoILs"
      },
      "execution_count": null,
      "outputs": []
    },
    {
      "cell_type": "code",
      "source": [
        "X_train_scaled = scaler.fit_transform(X_train.astype(np.float64))\n",
        "cross_val_score(sgd_clf, X_train_scaled, y_train, cv=3, scoring=\"accuracy\")"
      ],
      "metadata": {
        "id": "NCq-2JKho6iJ"
      },
      "execution_count": null,
      "outputs": []
    },
    {
      "cell_type": "markdown",
      "source": [
        "> ## 3.5 에러 분석"
      ],
      "metadata": {
        "id": "299A7SxebTAn"
      }
    },
    {
      "cell_type": "code",
      "source": [
        "y_train_pred = cross_val_predict(sgd_clf, X_train_scaled, y_train, cv=3)\n",
        "conf_mx = confusion_matrix(y_train, y_train_pred)\n",
        "conf_mx"
      ],
      "metadata": {
        "id": "G7vDAGyIbUaI"
      },
      "execution_count": null,
      "outputs": []
    },
    {
      "cell_type": "code",
      "source": [
        "plt.matshow(conf_mx, cmap=plt.cm.gray)\n",
        "plt.show()"
      ],
      "metadata": {
        "id": "qUc7XfGtc_M5"
      },
      "execution_count": null,
      "outputs": []
    },
    {
      "cell_type": "code",
      "source": [
        "row_sums = conf_mx.sum(axis=1, keepdims=True)\n",
        "norm_conf_mx = conf_mx / row_sums"
      ],
      "metadata": {
        "id": "3Yt6rj0ldCU3"
      },
      "execution_count": null,
      "outputs": []
    },
    {
      "cell_type": "code",
      "source": [
        "np.fill_diagonal(norm_conf_mx, 0)\n",
        "plt.matshow(norm_conf_mx, cmap=plt.cm.gray)\n",
        "plt.show()"
      ],
      "metadata": {
        "id": "B8rFtCSYdCSa"
      },
      "execution_count": null,
      "outputs": []
    },
    {
      "cell_type": "code",
      "source": [
        "cl_a, cl_b = 3, 5\n",
        "X_aa = X_train[(y_train == cl_a) & (y_train_pred == cl_a)]\n",
        "X_ab = X_train[(y_train == cl_a) & (y_train_pred == cl_b)]\n",
        "X_ba = X_train[(y_train == cl_b) & (y_train_pred == cl_a)]\n",
        "X_bb = X_train[(y_train == cl_b) & (y_train_pred == cl_b)]\n",
        "\n",
        "plt.figure(figsize=(8,8))\n",
        "plt.subplot(221); plot_digits(X_aa[:25], images_per_row=5)\n",
        "plt.subplot(222); plot_digits(X_ab[:25], images_per_row=5)\n",
        "plt.subplot(223); plot_digits(X_ba[:25], images_per_row=5)\n",
        "plt.subplot(224); plot_digits(X_bb[:25], images_per_row=5)\n",
        "plt.show()"
      ],
      "metadata": {
        "id": "ESgwQgFAdCIJ"
      },
      "execution_count": null,
      "outputs": []
    },
    {
      "cell_type": "markdown",
      "source": [
        "> ## 3.6 다중 레이블 분류"
      ],
      "metadata": {
        "id": "L52Qu0HqbUiU"
      }
    },
    {
      "cell_type": "code",
      "source": [
        "from sklearn.neighbors import KNeighborsClassifier\n",
        "\n",
        "y_train_large = (y_train >= 7)\n",
        "y_train_odd = (y_train % 2 == 1)\n",
        "y_multilabel = np.c_[y_train_large, y_train_odd]\n",
        "\n",
        "knn_clf = KNeighborsClassifier()\n",
        "knn_clf.fit(X_train, y_multilabel)"
      ],
      "metadata": {
        "id": "GHy9pRRzbVvp"
      },
      "execution_count": null,
      "outputs": []
    },
    {
      "cell_type": "code",
      "source": [
        "knn_clf.predict([some_digit])"
      ],
      "metadata": {
        "id": "QYhuq0igdNsS"
      },
      "execution_count": null,
      "outputs": []
    },
    {
      "cell_type": "code",
      "source": [
        "y_train_knn_pred = cross_val_predict(knn_clf, X_train, y_multilabel, cv=3)\n",
        "f1_score(y_multilabel, y_train_knn_pred, average=\"macro\")"
      ],
      "metadata": {
        "id": "_giPkz5zdUKz"
      },
      "execution_count": null,
      "outputs": []
    },
    {
      "cell_type": "markdown",
      "source": [
        "> ## 3.7 다중 출력 분류"
      ],
      "metadata": {
        "id": "PEuwOfF1bV-w"
      }
    },
    {
      "cell_type": "code",
      "source": [
        "noise = np.random.randint(0, 100, (len(X_train), 784))\n",
        "X_train_mod = X_train + noise\n",
        "noise = np.random.randint(0, 100, (len(X_test), 784))\n",
        "X_test_mod = X_test + noise\n",
        "y_train_mod = X_train\n",
        "y_test_mod = X_test"
      ],
      "metadata": {
        "id": "X0wMnazubXY3"
      },
      "execution_count": null,
      "outputs": []
    },
    {
      "cell_type": "code",
      "source": [
        "knn_clf.fit(X_train_mod, y_train_mod)\n",
        "clean_digit = knn_clf.predict([X_test_mod[some_index]])\n",
        "plot_digit(clean_digit)"
      ],
      "metadata": {
        "id": "VH-dczC5dZIB"
      },
      "execution_count": null,
      "outputs": []
    }
  ]
}